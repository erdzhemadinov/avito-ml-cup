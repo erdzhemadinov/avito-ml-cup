{
 "cells": [
  {
   "cell_type": "code",
   "execution_count": null,
   "id": "e08fbd03-408d-489b-afec-65b4c61e32cb",
   "metadata": {},
   "outputs": [
    {
     "name": "stdout",
     "output_type": "stream",
     "text": [
      "^C\n",
      "\u001b[31mERROR: Operation cancelled by user\u001b[0m\u001b[31m\n",
      "\u001b[0mRequirement already satisfied: gdown in /opt/conda/lib/python3.8/site-packages (5.2.0)\n",
      "Requirement already satisfied: beautifulsoup4 in /opt/conda/lib/python3.8/site-packages (from gdown) (4.12.2)\n",
      "Requirement already satisfied: filelock in /opt/conda/lib/python3.8/site-packages (from gdown) (3.16.1)\n",
      "Requirement already satisfied: requests[socks] in /opt/conda/lib/python3.8/site-packages (from gdown) (2.32.3)\n",
      "Requirement already satisfied: tqdm in /opt/conda/lib/python3.8/site-packages (from gdown) (4.67.0)\n",
      "Requirement already satisfied: soupsieve>1.2 in /opt/conda/lib/python3.8/site-packages (from beautifulsoup4->gdown) (2.5)\n",
      "Requirement already satisfied: charset-normalizer<4,>=2 in /opt/conda/lib/python3.8/site-packages (from requests[socks]->gdown) (3.2.0)\n",
      "Requirement already satisfied: idna<4,>=2.5 in /opt/conda/lib/python3.8/site-packages (from requests[socks]->gdown) (3.4)\n",
      "Requirement already satisfied: urllib3<3,>=1.21.1 in /opt/conda/lib/python3.8/site-packages (from requests[socks]->gdown) (1.26.16)\n",
      "Requirement already satisfied: certifi>=2017.4.17 in /opt/conda/lib/python3.8/site-packages (from requests[socks]->gdown) (2023.7.22)\n",
      "Requirement already satisfied: PySocks!=1.5.7,>=1.5.6 in /opt/conda/lib/python3.8/site-packages (from requests[socks]->gdown) (1.7.1)\n"
     ]
    }
   ],
   "source": [
    "# import pandas as pd\n",
    "!pip install polars\n",
    "!pip install gdown"
   ]
  },
  {
   "cell_type": "code",
   "execution_count": 1,
   "id": "2585b078-9cfc-45b4-bba2-e03f20ba4c36",
   "metadata": {},
   "outputs": [],
   "source": [
    "import polars as pl"
   ]
  },
  {
   "cell_type": "code",
   "execution_count": 4,
   "id": "04e995bf-df52-400a-88ab-a8f7e23103cf",
   "metadata": {},
   "outputs": [],
   "source": [
    "train = pl.read_parquet(\"train.parquet\") \n",
    "test = pl.read_parquet(\"test.parquet\")"
   ]
  },
  {
   "cell_type": "code",
   "execution_count": 5,
   "id": "f7c7c283-0611-4edb-8cfe-af8ec9db0321",
   "metadata": {},
   "outputs": [],
   "source": [
    "camp_meta = pl.read_parquet(\"campaigns_meta.parquet\") \n",
    "categories = pl.read_parquet(\"categories.parquet\")"
   ]
  },
  {
   "cell_type": "markdown",
   "id": "86ef3fe7-5697-40c7-ae08-fc8b0c8d4dc5",
   "metadata": {},
   "source": [
    "\n",
    "\n"
   ]
  },
  {
   "cell_type": "code",
   "execution_count": 6,
   "id": "9f2251ba-1cde-4f33-86e0-ccc4422b0383",
   "metadata": {},
   "outputs": [
    {
     "data": {
      "text/html": [
       "<div><style>\n",
       ".dataframe > thead > tr,\n",
       ".dataframe > tbody > tr {\n",
       "  text-align: right;\n",
       "  white-space: pre-wrap;\n",
       "}\n",
       "</style>\n",
       "<small>shape: (1, 7)</small><table border=\"1\" class=\"dataframe\"><thead><tr><th>adv_campaign_id</th><th>start_date</th><th>end_date</th><th>goal_cost</th><th>goal_budget</th><th>location_id</th><th>logcat_id</th></tr><tr><td>i64</td><td>date</td><td>date</td><td>f64</td><td>f64</td><td>i64</td><td>i64</td></tr></thead><tbody><tr><td>2153</td><td>2024-09-21</td><td>2024-10-02</td><td>6.661659</td><td>9429.056096</td><td>70</td><td>59</td></tr></tbody></table></div>"
      ],
      "text/plain": [
       "shape: (1, 7)\n",
       "┌─────────────────┬────────────┬────────────┬───────────┬─────────────┬─────────────┬───────────┐\n",
       "│ adv_campaign_id ┆ start_date ┆ end_date   ┆ goal_cost ┆ goal_budget ┆ location_id ┆ logcat_id │\n",
       "│ ---             ┆ ---        ┆ ---        ┆ ---       ┆ ---         ┆ ---         ┆ ---       │\n",
       "│ i64             ┆ date       ┆ date       ┆ f64       ┆ f64         ┆ i64         ┆ i64       │\n",
       "╞═════════════════╪════════════╪════════════╪═══════════╪═════════════╪═════════════╪═══════════╡\n",
       "│ 2153            ┆ 2024-09-21 ┆ 2024-10-02 ┆ 6.661659  ┆ 9429.056096 ┆ 70          ┆ 59        │\n",
       "└─────────────────┴────────────┴────────────┴───────────┴─────────────┴─────────────┴───────────┘"
      ]
     },
     "execution_count": 6,
     "metadata": {},
     "output_type": "execute_result"
    }
   ],
   "source": [
    "camp_meta.head(1)"
   ]
  },
  {
   "cell_type": "code",
   "execution_count": 7,
   "id": "0dbe3d9d-b766-4e2b-9ba4-ba1f298a57ce",
   "metadata": {},
   "outputs": [],
   "source": [
    "def drop_nan_rows(df):\n",
    "    \"\"\"\n",
    "    Удаляет строки, содержащие NaN/null значения, из DataFrame.\n",
    "\n",
    "    Parameters:\n",
    "        df (pl.DataFrame): Входной DataFrame.\n",
    "\n",
    "    Returns:\n",
    "        pl.DataFrame: DataFrame без строк с NaN/null.\n",
    "    \"\"\"\n",
    "    # Проверка на отсутствие null значений во всех столбцах\n",
    "    return df.filter(\n",
    "   pl.all_horizontal(pl.col(pl.Float32, pl.Float64).is_not_nan())\n",
    ")\n",
    "\n",
    "unique_logcat = categories.select([ 'vertical_id', 'category_id', 'logcat_id'])\\\n",
    ".unique().with_columns(pl.col('vertical_id').cast(pl.Int64),pl.col('category_id').cast(pl.Int64),\n",
    "                       pl.col('logcat_id').cast(pl.Int64)).sort([\"vertical_id\",\"category_id\",\"logcat_id\"])\\\n",
    ".with_columns(pl.col(pl.Float32, pl.Float64).fill_nan(None)).drop_nulls()"
   ]
  },
  {
   "cell_type": "code",
   "execution_count": 8,
   "id": "75b2065c-c2a9-4307-9a6c-a9ff2621b84c",
   "metadata": {},
   "outputs": [],
   "source": [
    "unique_logcat = pl.from_pandas(unique_logcat.to_pandas().sort_values(by=['logcat_id'])\\\n",
    ".drop_duplicates(['logcat_id']))"
   ]
  },
  {
   "cell_type": "code",
   "execution_count": 9,
   "id": "24798d38-3d5d-4b9e-9492-be9487e5750b",
   "metadata": {},
   "outputs": [],
   "source": [
    "camp_meta = camp_meta.join(unique_logcat, on=\"logcat_id\", how=\"left\")\n"
   ]
  },
  {
   "cell_type": "code",
   "execution_count": 10,
   "id": "9308c6a2-05c4-48f5-a004-fcb4ae1d7690",
   "metadata": {},
   "outputs": [
    {
     "data": {
      "text/html": [
       "<div><style>\n",
       ".dataframe > thead > tr,\n",
       ".dataframe > tbody > tr {\n",
       "  text-align: right;\n",
       "  white-space: pre-wrap;\n",
       "}\n",
       "</style>\n",
       "<small>shape: (4_031, 9)</small><table border=\"1\" class=\"dataframe\"><thead><tr><th>adv_campaign_id</th><th>start_date</th><th>end_date</th><th>goal_cost</th><th>goal_budget</th><th>location_id</th><th>logcat_id</th><th>vertical_id</th><th>category_id</th></tr><tr><td>i64</td><td>date</td><td>date</td><td>f64</td><td>f64</td><td>i64</td><td>i64</td><td>i64</td><td>i64</td></tr></thead><tbody><tr><td>2153</td><td>2024-09-21</td><td>2024-10-02</td><td>6.661659</td><td>9429.056096</td><td>70</td><td>59</td><td>8</td><td>6</td></tr><tr><td>3103</td><td>2024-09-10</td><td>2024-09-16</td><td>2.853378</td><td>3844.482933</td><td>30</td><td>40</td><td>8</td><td>4</td></tr><tr><td>2816</td><td>2024-09-10</td><td>2024-09-17</td><td>3.05823</td><td>1455.156612</td><td>56</td><td>65</td><td>8</td><td>5</td></tr><tr><td>3603</td><td>2024-09-10</td><td>2024-09-16</td><td>4.395015</td><td>2592.232475</td><td>30</td><td>50</td><td>4</td><td>2</td></tr><tr><td>1328</td><td>2024-09-10</td><td>2024-09-16</td><td>3.891329</td><td>2836.139672</td><td>30</td><td>51</td><td>4</td><td>2</td></tr><tr><td>&hellip;</td><td>&hellip;</td><td>&hellip;</td><td>&hellip;</td><td>&hellip;</td><td>&hellip;</td><td>&hellip;</td><td>&hellip;</td><td>&hellip;</td></tr><tr><td>855</td><td>2024-09-18</td><td>2024-09-24</td><td>3.75875</td><td>525.462249</td><td>12</td><td>65</td><td>8</td><td>5</td></tr><tr><td>1781</td><td>2024-09-18</td><td>2024-09-24</td><td>4.122703</td><td>3814.655409</td><td>46</td><td>50</td><td>4</td><td>2</td></tr><tr><td>2485</td><td>2024-09-19</td><td>2024-09-29</td><td>4.00443</td><td>3485.343664</td><td>57</td><td>65</td><td>8</td><td>5</td></tr><tr><td>541</td><td>2024-09-20</td><td>2024-09-30</td><td>9.647247</td><td>80305.420249</td><td>58</td><td>18</td><td>5</td><td>4</td></tr><tr><td>852</td><td>2024-09-19</td><td>2024-09-25</td><td>7.356655</td><td>3392.542034</td><td>30</td><td>65</td><td>8</td><td>5</td></tr></tbody></table></div>"
      ],
      "text/plain": [
       "shape: (4_031, 9)\n",
       "┌───────────┬───────────┬───────────┬───────────┬───┬───────────┬───────────┬───────────┬──────────┐\n",
       "│ adv_campa ┆ start_dat ┆ end_date  ┆ goal_cost ┆ … ┆ location_ ┆ logcat_id ┆ vertical_ ┆ category │\n",
       "│ ign_id    ┆ e         ┆ ---       ┆ ---       ┆   ┆ id        ┆ ---       ┆ id        ┆ _id      │\n",
       "│ ---       ┆ ---       ┆ date      ┆ f64       ┆   ┆ ---       ┆ i64       ┆ ---       ┆ ---      │\n",
       "│ i64       ┆ date      ┆           ┆           ┆   ┆ i64       ┆           ┆ i64       ┆ i64      │\n",
       "╞═══════════╪═══════════╪═══════════╪═══════════╪═══╪═══════════╪═══════════╪═══════════╪══════════╡\n",
       "│ 2153      ┆ 2024-09-2 ┆ 2024-10-0 ┆ 6.661659  ┆ … ┆ 70        ┆ 59        ┆ 8         ┆ 6        │\n",
       "│           ┆ 1         ┆ 2         ┆           ┆   ┆           ┆           ┆           ┆          │\n",
       "│ 3103      ┆ 2024-09-1 ┆ 2024-09-1 ┆ 2.853378  ┆ … ┆ 30        ┆ 40        ┆ 8         ┆ 4        │\n",
       "│           ┆ 0         ┆ 6         ┆           ┆   ┆           ┆           ┆           ┆          │\n",
       "│ 2816      ┆ 2024-09-1 ┆ 2024-09-1 ┆ 3.05823   ┆ … ┆ 56        ┆ 65        ┆ 8         ┆ 5        │\n",
       "│           ┆ 0         ┆ 7         ┆           ┆   ┆           ┆           ┆           ┆          │\n",
       "│ 3603      ┆ 2024-09-1 ┆ 2024-09-1 ┆ 4.395015  ┆ … ┆ 30        ┆ 50        ┆ 4         ┆ 2        │\n",
       "│           ┆ 0         ┆ 6         ┆           ┆   ┆           ┆           ┆           ┆          │\n",
       "│ 1328      ┆ 2024-09-1 ┆ 2024-09-1 ┆ 3.891329  ┆ … ┆ 30        ┆ 51        ┆ 4         ┆ 2        │\n",
       "│           ┆ 0         ┆ 6         ┆           ┆   ┆           ┆           ┆           ┆          │\n",
       "│ …         ┆ …         ┆ …         ┆ …         ┆ … ┆ …         ┆ …         ┆ …         ┆ …        │\n",
       "│ 855       ┆ 2024-09-1 ┆ 2024-09-2 ┆ 3.75875   ┆ … ┆ 12        ┆ 65        ┆ 8         ┆ 5        │\n",
       "│           ┆ 8         ┆ 4         ┆           ┆   ┆           ┆           ┆           ┆          │\n",
       "│ 1781      ┆ 2024-09-1 ┆ 2024-09-2 ┆ 4.122703  ┆ … ┆ 46        ┆ 50        ┆ 4         ┆ 2        │\n",
       "│           ┆ 8         ┆ 4         ┆           ┆   ┆           ┆           ┆           ┆          │\n",
       "│ 2485      ┆ 2024-09-1 ┆ 2024-09-2 ┆ 4.00443   ┆ … ┆ 57        ┆ 65        ┆ 8         ┆ 5        │\n",
       "│           ┆ 9         ┆ 9         ┆           ┆   ┆           ┆           ┆           ┆          │\n",
       "│ 541       ┆ 2024-09-2 ┆ 2024-09-3 ┆ 9.647247  ┆ … ┆ 58        ┆ 18        ┆ 5         ┆ 4        │\n",
       "│           ┆ 0         ┆ 0         ┆           ┆   ┆           ┆           ┆           ┆          │\n",
       "│ 852       ┆ 2024-09-1 ┆ 2024-09-2 ┆ 7.356655  ┆ … ┆ 30        ┆ 65        ┆ 8         ┆ 5        │\n",
       "│           ┆ 9         ┆ 5         ┆           ┆   ┆           ┆           ┆           ┆          │\n",
       "└───────────┴───────────┴───────────┴───────────┴───┴───────────┴───────────┴───────────┴──────────┘"
      ]
     },
     "execution_count": 10,
     "metadata": {},
     "output_type": "execute_result"
    }
   ],
   "source": [
    "camp_meta\n"
   ]
  },
  {
   "cell_type": "code",
   "execution_count": 11,
   "id": "1928ec61-0c86-4a15-a743-48c1ab24f93c",
   "metadata": {},
   "outputs": [
    {
     "data": {
      "text/html": [
       "<div><style>\n",
       ".dataframe > thead > tr,\n",
       ".dataframe > tbody > tr {\n",
       "  text-align: right;\n",
       "  white-space: pre-wrap;\n",
       "}\n",
       "</style>\n",
       "<small>shape: (114_741_035, 8)</small><table border=\"1\" class=\"dataframe\"><thead><tr><th>user_id</th><th>adv_campaign_id</th><th>platform_id</th><th>adv_creative_id</th><th>event_date</th><th>banner_code</th><th>is_main</th><th>target</th></tr><tr><td>i64</td><td>i64</td><td>i64</td><td>i64</td><td>date</td><td>i64</td><td>bool</td><td>i32</td></tr></thead><tbody><tr><td>2853707</td><td>3352</td><td>3</td><td>3075</td><td>2024-09-17</td><td>6</td><td>true</td><td>0</td></tr><tr><td>2537244</td><td>4029</td><td>2</td><td>3260</td><td>2024-09-17</td><td>8</td><td>true</td><td>0</td></tr><tr><td>63033</td><td>1578</td><td>3</td><td>1109</td><td>2024-09-17</td><td>6</td><td>true</td><td>0</td></tr><tr><td>164702</td><td>3434</td><td>1</td><td>1079</td><td>2024-09-17</td><td>7</td><td>true</td><td>0</td></tr><tr><td>2802905</td><td>2208</td><td>3</td><td>3576</td><td>2024-09-17</td><td>6</td><td>true</td><td>0</td></tr><tr><td>&hellip;</td><td>&hellip;</td><td>&hellip;</td><td>&hellip;</td><td>&hellip;</td><td>&hellip;</td><td>&hellip;</td><td>&hellip;</td></tr><tr><td>2670849</td><td>3904</td><td>2</td><td>3275</td><td>2024-09-08</td><td>8</td><td>true</td><td>0</td></tr><tr><td>3187004</td><td>2142</td><td>2</td><td>238</td><td>2024-09-08</td><td>8</td><td>true</td><td>0</td></tr><tr><td>821310</td><td>2414</td><td>2</td><td>2654</td><td>2024-09-08</td><td>8</td><td>true</td><td>0</td></tr><tr><td>2282258</td><td>3120</td><td>2</td><td>551</td><td>2024-09-08</td><td>5</td><td>false</td><td>1</td></tr><tr><td>2459788</td><td>2142</td><td>2</td><td>238</td><td>2024-09-08</td><td>8</td><td>true</td><td>0</td></tr></tbody></table></div>"
      ],
      "text/plain": [
       "shape: (114_741_035, 8)\n",
       "┌─────────┬──────────────┬─────────────┬─────────────┬────────────┬─────────────┬─────────┬────────┐\n",
       "│ user_id ┆ adv_campaign ┆ platform_id ┆ adv_creativ ┆ event_date ┆ banner_code ┆ is_main ┆ target │\n",
       "│ ---     ┆ _id          ┆ ---         ┆ e_id        ┆ ---        ┆ ---         ┆ ---     ┆ ---    │\n",
       "│ i64     ┆ ---          ┆ i64         ┆ ---         ┆ date       ┆ i64         ┆ bool    ┆ i32    │\n",
       "│         ┆ i64          ┆             ┆ i64         ┆            ┆             ┆         ┆        │\n",
       "╞═════════╪══════════════╪═════════════╪═════════════╪════════════╪═════════════╪═════════╪════════╡\n",
       "│ 2853707 ┆ 3352         ┆ 3           ┆ 3075        ┆ 2024-09-17 ┆ 6           ┆ true    ┆ 0      │\n",
       "│ 2537244 ┆ 4029         ┆ 2           ┆ 3260        ┆ 2024-09-17 ┆ 8           ┆ true    ┆ 0      │\n",
       "│ 63033   ┆ 1578         ┆ 3           ┆ 1109        ┆ 2024-09-17 ┆ 6           ┆ true    ┆ 0      │\n",
       "│ 164702  ┆ 3434         ┆ 1           ┆ 1079        ┆ 2024-09-17 ┆ 7           ┆ true    ┆ 0      │\n",
       "│ 2802905 ┆ 2208         ┆ 3           ┆ 3576        ┆ 2024-09-17 ┆ 6           ┆ true    ┆ 0      │\n",
       "│ …       ┆ …            ┆ …           ┆ …           ┆ …          ┆ …           ┆ …       ┆ …      │\n",
       "│ 2670849 ┆ 3904         ┆ 2           ┆ 3275        ┆ 2024-09-08 ┆ 8           ┆ true    ┆ 0      │\n",
       "│ 3187004 ┆ 2142         ┆ 2           ┆ 238         ┆ 2024-09-08 ┆ 8           ┆ true    ┆ 0      │\n",
       "│ 821310  ┆ 2414         ┆ 2           ┆ 2654        ┆ 2024-09-08 ┆ 8           ┆ true    ┆ 0      │\n",
       "│ 2282258 ┆ 3120         ┆ 2           ┆ 551         ┆ 2024-09-08 ┆ 5           ┆ false   ┆ 1      │\n",
       "│ 2459788 ┆ 2142         ┆ 2           ┆ 238         ┆ 2024-09-08 ┆ 8           ┆ true    ┆ 0      │\n",
       "└─────────┴──────────────┴─────────────┴─────────────┴────────────┴─────────────┴─────────┴────────┘"
      ]
     },
     "execution_count": 11,
     "metadata": {},
     "output_type": "execute_result"
    }
   ],
   "source": [
    "\n",
    "train"
   ]
  },
  {
   "cell_type": "code",
   "execution_count": 12,
   "id": "a718311b-bb0b-44a5-a636-8ef4a37c3ae5",
   "metadata": {},
   "outputs": [],
   "source": [
    "train = train.with_columns(\n",
    "    test = pl.lit(0)\n",
    ")\n",
    "\n",
    "test = test.with_columns(\n",
    "    target = pl.lit(0)\n",
    ")\n",
    "test = test.with_columns(\n",
    "    test = pl.lit(1)\n",
    ")\n",
    "\n",
    "\n",
    "\n"
   ]
  },
  {
   "cell_type": "code",
   "execution_count": 13,
   "id": "ad0a7b20-61e7-46b9-981d-e38c52b42915",
   "metadata": {},
   "outputs": [
    {
     "data": {
      "text/html": [
       "<div><style>\n",
       ".dataframe > thead > tr,\n",
       ".dataframe > tbody > tr {\n",
       "  text-align: right;\n",
       "  white-space: pre-wrap;\n",
       "}\n",
       "</style>\n",
       "<small>shape: (114_741_035, 9)</small><table border=\"1\" class=\"dataframe\"><thead><tr><th>user_id</th><th>adv_campaign_id</th><th>platform_id</th><th>adv_creative_id</th><th>event_date</th><th>banner_code</th><th>is_main</th><th>target</th><th>test</th></tr><tr><td>i64</td><td>i64</td><td>i64</td><td>i64</td><td>date</td><td>i64</td><td>bool</td><td>i32</td><td>i32</td></tr></thead><tbody><tr><td>2853707</td><td>3352</td><td>3</td><td>3075</td><td>2024-09-17</td><td>6</td><td>true</td><td>0</td><td>0</td></tr><tr><td>2537244</td><td>4029</td><td>2</td><td>3260</td><td>2024-09-17</td><td>8</td><td>true</td><td>0</td><td>0</td></tr><tr><td>63033</td><td>1578</td><td>3</td><td>1109</td><td>2024-09-17</td><td>6</td><td>true</td><td>0</td><td>0</td></tr><tr><td>164702</td><td>3434</td><td>1</td><td>1079</td><td>2024-09-17</td><td>7</td><td>true</td><td>0</td><td>0</td></tr><tr><td>2802905</td><td>2208</td><td>3</td><td>3576</td><td>2024-09-17</td><td>6</td><td>true</td><td>0</td><td>0</td></tr><tr><td>&hellip;</td><td>&hellip;</td><td>&hellip;</td><td>&hellip;</td><td>&hellip;</td><td>&hellip;</td><td>&hellip;</td><td>&hellip;</td><td>&hellip;</td></tr><tr><td>2670849</td><td>3904</td><td>2</td><td>3275</td><td>2024-09-08</td><td>8</td><td>true</td><td>0</td><td>0</td></tr><tr><td>3187004</td><td>2142</td><td>2</td><td>238</td><td>2024-09-08</td><td>8</td><td>true</td><td>0</td><td>0</td></tr><tr><td>821310</td><td>2414</td><td>2</td><td>2654</td><td>2024-09-08</td><td>8</td><td>true</td><td>0</td><td>0</td></tr><tr><td>2282258</td><td>3120</td><td>2</td><td>551</td><td>2024-09-08</td><td>5</td><td>false</td><td>1</td><td>0</td></tr><tr><td>2459788</td><td>2142</td><td>2</td><td>238</td><td>2024-09-08</td><td>8</td><td>true</td><td>0</td><td>0</td></tr></tbody></table></div>"
      ],
      "text/plain": [
       "shape: (114_741_035, 9)\n",
       "┌─────────┬───────────────┬─────────────┬──────────────┬───┬─────────────┬─────────┬────────┬──────┐\n",
       "│ user_id ┆ adv_campaign_ ┆ platform_id ┆ adv_creative ┆ … ┆ banner_code ┆ is_main ┆ target ┆ test │\n",
       "│ ---     ┆ id            ┆ ---         ┆ _id          ┆   ┆ ---         ┆ ---     ┆ ---    ┆ ---  │\n",
       "│ i64     ┆ ---           ┆ i64         ┆ ---          ┆   ┆ i64         ┆ bool    ┆ i32    ┆ i32  │\n",
       "│         ┆ i64           ┆             ┆ i64          ┆   ┆             ┆         ┆        ┆      │\n",
       "╞═════════╪═══════════════╪═════════════╪══════════════╪═══╪═════════════╪═════════╪════════╪══════╡\n",
       "│ 2853707 ┆ 3352          ┆ 3           ┆ 3075         ┆ … ┆ 6           ┆ true    ┆ 0      ┆ 0    │\n",
       "│ 2537244 ┆ 4029          ┆ 2           ┆ 3260         ┆ … ┆ 8           ┆ true    ┆ 0      ┆ 0    │\n",
       "│ 63033   ┆ 1578          ┆ 3           ┆ 1109         ┆ … ┆ 6           ┆ true    ┆ 0      ┆ 0    │\n",
       "│ 164702  ┆ 3434          ┆ 1           ┆ 1079         ┆ … ┆ 7           ┆ true    ┆ 0      ┆ 0    │\n",
       "│ 2802905 ┆ 2208          ┆ 3           ┆ 3576         ┆ … ┆ 6           ┆ true    ┆ 0      ┆ 0    │\n",
       "│ …       ┆ …             ┆ …           ┆ …            ┆ … ┆ …           ┆ …       ┆ …      ┆ …    │\n",
       "│ 2670849 ┆ 3904          ┆ 2           ┆ 3275         ┆ … ┆ 8           ┆ true    ┆ 0      ┆ 0    │\n",
       "│ 3187004 ┆ 2142          ┆ 2           ┆ 238          ┆ … ┆ 8           ┆ true    ┆ 0      ┆ 0    │\n",
       "│ 821310  ┆ 2414          ┆ 2           ┆ 2654         ┆ … ┆ 8           ┆ true    ┆ 0      ┆ 0    │\n",
       "│ 2282258 ┆ 3120          ┆ 2           ┆ 551          ┆ … ┆ 5           ┆ false   ┆ 1      ┆ 0    │\n",
       "│ 2459788 ┆ 2142          ┆ 2           ┆ 238          ┆ … ┆ 8           ┆ true    ┆ 0      ┆ 0    │\n",
       "└─────────┴───────────────┴─────────────┴──────────────┴───┴─────────────┴─────────┴────────┴──────┘"
      ]
     },
     "execution_count": 13,
     "metadata": {},
     "output_type": "execute_result"
    }
   ],
   "source": [
    "train\n",
    "\n"
   ]
  },
  {
   "cell_type": "code",
   "execution_count": 14,
   "id": "21d9a667-d69e-49d5-bafa-5281ac1f97cc",
   "metadata": {},
   "outputs": [
    {
     "data": {
      "text/html": [
       "<div><style>\n",
       ".dataframe > thead > tr,\n",
       ".dataframe > tbody > tr {\n",
       "  text-align: right;\n",
       "  white-space: pre-wrap;\n",
       "}\n",
       "</style>\n",
       "<small>shape: (1, 9)</small><table border=\"1\" class=\"dataframe\"><thead><tr><th>user_id</th><th>adv_campaign_id</th><th>platform_id</th><th>adv_creative_id</th><th>event_date</th><th>banner_code</th><th>is_main</th><th>target</th><th>test</th></tr><tr><td>i64</td><td>i64</td><td>i64</td><td>i64</td><td>date</td><td>i64</td><td>bool</td><td>i32</td><td>i32</td></tr></thead><tbody><tr><td>2714742</td><td>3026</td><td>2</td><td>4056</td><td>2024-09-23</td><td>8</td><td>true</td><td>0</td><td>1</td></tr></tbody></table></div>"
      ],
      "text/plain": [
       "shape: (1, 9)\n",
       "┌─────────┬───────────────┬─────────────┬──────────────┬───┬─────────────┬─────────┬────────┬──────┐\n",
       "│ user_id ┆ adv_campaign_ ┆ platform_id ┆ adv_creative ┆ … ┆ banner_code ┆ is_main ┆ target ┆ test │\n",
       "│ ---     ┆ id            ┆ ---         ┆ _id          ┆   ┆ ---         ┆ ---     ┆ ---    ┆ ---  │\n",
       "│ i64     ┆ ---           ┆ i64         ┆ ---          ┆   ┆ i64         ┆ bool    ┆ i32    ┆ i32  │\n",
       "│         ┆ i64           ┆             ┆ i64          ┆   ┆             ┆         ┆        ┆      │\n",
       "╞═════════╪═══════════════╪═════════════╪══════════════╪═══╪═════════════╪═════════╪════════╪══════╡\n",
       "│ 2714742 ┆ 3026          ┆ 2           ┆ 4056         ┆ … ┆ 8           ┆ true    ┆ 0      ┆ 1    │\n",
       "└─────────┴───────────────┴─────────────┴──────────────┴───┴─────────────┴─────────┴────────┴──────┘"
      ]
     },
     "execution_count": 14,
     "metadata": {},
     "output_type": "execute_result"
    }
   ],
   "source": [
    "test.head(1)"
   ]
  },
  {
   "cell_type": "code",
   "execution_count": 15,
   "id": "ab8d607e-9530-4fe8-87e6-ccd7c8ededcd",
   "metadata": {},
   "outputs": [],
   "source": [
    "\n",
    "train = train.extend(test)"
   ]
  },
  {
   "cell_type": "code",
   "execution_count": 16,
   "id": "f829e494-02ea-4b68-a626-4836da9b5a87",
   "metadata": {},
   "outputs": [],
   "source": [
    "train = train.join(camp_meta, how='left', on='adv_campaign_id')"
   ]
  },
  {
   "cell_type": "code",
   "execution_count": 21,
   "id": "129caae2-0723-4540-a815-ccae014735de",
   "metadata": {},
   "outputs": [
    {
     "ename": "NameError",
     "evalue": "name 'train' is not defined",
     "output_type": "error",
     "traceback": [
      "\u001b[0;31m---------------------------------------------------------------------------\u001b[0m",
      "\u001b[0;31mNameError\u001b[0m                                 Traceback (most recent call last)",
      "Cell \u001b[0;32mIn[21], line 2\u001b[0m\n\u001b[1;32m      1\u001b[0m \u001b[38;5;66;03m#train.'user_id','adv_campaign_id', 'adv_creative_id',\u001b[39;00m\n\u001b[0;32m----> 2\u001b[0m \u001b[43mtrain\u001b[49m\u001b[38;5;66;03m#.unique(subset=['user_id','adv_campaign_id', 'adv_creative_id'])\u001b[39;00m\n",
      "\u001b[0;31mNameError\u001b[0m: name 'train' is not defined"
     ]
    }
   ],
   "source": [
    "\n"
   ]
  },
  {
   "cell_type": "markdown",
   "id": "ce0722e9-e94d-418d-afe9-3fc8c0326903",
   "metadata": {},
   "source": [
    "Бейзлайн - если пользователь уже видел рекламу и кликнул на нее, то он снова сделает клик. Если же реклама была показана, но клик не последовал, то и в следующий раз клик маловероятен."
   ]
  },
  {
   "cell_type": "code",
   "execution_count": 17,
   "id": "a6abdec9-f80d-4025-83df-99009fe0e387",
   "metadata": {},
   "outputs": [],
   "source": [
    "import polars as pl\n",
    "\n",
    "\n",
    "def compute_remaining_budget(df):\n",
    "    # Сортируем данные и вычисляем кумулятивную сумму затрат на клики с учетом предыдущих строк\n",
    "    df = (\n",
    "        df.sort([\"adv_campaign_id\", \"event_date\"])\n",
    "        .with_columns(\n",
    "            # Умножаем goal_cost на target и считаем кумулятивную сумму\n",
    "            ((pl.col(\"goal_cost\")/1000)   * (pl.col(\"target\")) )\n",
    "            .shift(1)\n",
    "            .cum_sum()  # cumsum по каждой кампании\n",
    "            #.shift(1)\n",
    "            .fill_nan(0)\n",
    "            .alias(\"cumulative_cost\")\n",
    "        )\n",
    "        .with_columns(\n",
    "            # Вычисляем оставшийся бюджет, вычитая накопленные расходы\n",
    "            (pl.col(\"goal_budget\") - pl.col(\"cumulative_cost\")).alias(\"remaining_budget\")\n",
    "        )\n",
    "    )\n",
    "    return df\n",
    "\n",
    "\n",
    "\n",
    "# Функция для вычисления кликов на объявление и кликов пользователем на объявление до текущего момента (исключая текущую строку)\n",
    "def compute_click_counts_exclude_current(df):\n",
    "    # Сначала сортируем данные по рекламной кампании и дате события\n",
    "    df = df.sort([\"adv_campaign_id\", \"event_date\"])\n",
    "    \n",
    "    # Кумулятивное количество кликов на объявление (по каждому рекламному ID), исключая текущую строку\n",
    "    df = df.with_columns(\n",
    "        pl.when(pl.col(\"target\") == 1)\n",
    "        .then(1)\n",
    "        .otherwise(0)\n",
    "        .shift(1)\n",
    "        .cum_sum()\n",
    "        .over(\"adv_campaign_id\")\n",
    "        \n",
    "        #.shift(1)\n",
    "        .fill_nan(0)\n",
    "        #.shift_and_fill(-1, 0)  # Смещаем на одну строку вверх\n",
    "        .alias(\"ad_click_count\")\n",
    "    )\n",
    "    \n",
    "    # Кумулятивное количество кликов для пользователя на объявление (по каждому рекламному ID и пользователю), исключая текущую строку\n",
    "    df = df.with_columns(\n",
    "        pl.when(pl.col(\"target\") == 1)\n",
    "        .then(1)\n",
    "        .otherwise(0)\n",
    "        .shift(1)\n",
    "        .cum_sum()\n",
    "        .over([\"adv_campaign_id\", \"user_id\"])  \n",
    "        #.shift(1)\n",
    "        .fill_nan(0)  # Смещаем на одну строку вверх\n",
    "        .alias(\"user_ad_click_count\")\n",
    "    )\n",
    "\n",
    "    return df\n",
    "\n",
    "\n",
    "\n",
    "updated_df = compute_remaining_budget(train)\n",
    "\n",
    "\n",
    "updated_df = compute_click_counts_exclude_current(updated_df)\n"
   ]
  },
  {
   "cell_type": "code",
   "execution_count": 18,
   "id": "bf36ce5f-f9d8-48ba-8ad6-1d937f66b827",
   "metadata": {},
   "outputs": [],
   "source": [
    "\n",
    "#changed t0 ads\n",
    "# Функция для вычисления кликов на объявление и кликов пользователем на объявление(!!!!!) до текущего момента (исключая текущую строку)\n",
    "def compute_click_counts_exclude_current_per_ads(df):\n",
    "    # Сначала сортируем данные по рекламной кампании и дате события\n",
    "    df = df.sort([\"adv_creative_id\", \"event_date\"])\n",
    "    \n",
    "    # Кумулятивное количество кликов на объявление (по каждому рекламному ID), исключая текущую строку\n",
    "    df = df.with_columns(\n",
    "        pl.when(pl.col(\"target\") == 1)\n",
    "        .then(1)\n",
    "        .otherwise(0)\n",
    "        \n",
    "        .shift(1)\n",
    "        .cum_sum()\n",
    "        .over(\"adv_creative_id\")\n",
    "        #replace\n",
    "        #.shift(1)\n",
    "        .fill_nan(-1)\n",
    "        #.shift_and_fill(-1, 0)  # Смещаем на одну строку вверх\n",
    "        .alias(\"ad_click_count_per_ads\")\n",
    "    )\n",
    "    \n",
    "    # Кумулятивное количество кликов для пользователя на объявление (по каждому рекламному ID и пользователю), исключая текущую строку\n",
    "    df = df.with_columns(\n",
    "        pl.when(pl.col(\"target\") == 1)\n",
    "        .then(1)\n",
    "        .otherwise(0)\n",
    "        .shift(1)\n",
    "        .cum_sum()\n",
    "        .over([\"adv_creative_id\", \"user_id\"])  \n",
    "        #.shift(1)\n",
    "        .fill_nan(-1)  # Смещаем на одну строку вверх\n",
    "        .alias(\"user_ad_click_count_per_ads\")\n",
    "    )\n",
    "\n",
    "    return df"
   ]
  },
  {
   "cell_type": "code",
   "execution_count": 19,
   "id": "68850d9e-751f-463f-8e45-88f123a8363d",
   "metadata": {},
   "outputs": [],
   "source": [
    "updated_df = compute_click_counts_exclude_current_per_ads(updated_df)"
   ]
  },
  {
   "cell_type": "code",
   "execution_count": null,
   "id": "2607dc7a-e74b-482b-801b-4a91981be9a4",
   "metadata": {},
   "outputs": [],
   "source": []
  },
  {
   "cell_type": "code",
   "execution_count": 20,
   "id": "67bf04d9-1482-4732-a523-1accef371983",
   "metadata": {},
   "outputs": [],
   "source": [
    "# Функция для вычисления количества просмотров и кликов за предыдущий день для каждой компании\n",
    "def compute_prev_day_stats(df):\n",
    "\n",
    "    # Считаем количество просмотров и кликов за каждый день по каждому объявлению\n",
    "    daily_stats = df.group_by([\"adv_campaign_id\", \"event_date\"]).agg([\n",
    "        pl.count().alias(\"daily_views_per_campaign\"),\n",
    "        pl.sum(\"target\").alias(\"daily_clicks_per_campaign\")  # Считаем только клики, где target = 1\n",
    "    ])\n",
    "    \n",
    "    daily_stats = daily_stats.with_columns((pl.col(\"daily_views_per_campaign\") - pl.col(\"daily_clicks_per_campaign\")).alias('daily_views_per_campaign'))\n",
    "    \n",
    "    daily_stats = daily_stats.with_columns(( pl.col(\"daily_clicks_per_campaign\")/pl.col(\"daily_views_per_campaign\")).alias('ctr_daily_pred_per_campaign'))\n",
    "    \n",
    "    \n",
    "    # Добавляем столбец \"previous_day\" для последующего объединения на день назад\n",
    "    daily_stats = daily_stats.with_columns(\n",
    "        (pl.col(\"event_date\") + pl.duration(days=1)).alias(\"next_day\")\n",
    "    )\n",
    "    \n",
    "    # Присоединяем полученные результаты на день позже к оригинальному DataFrame\n",
    "    df = df.join(\n",
    "        daily_stats,\n",
    "        left_on=[\"adv_campaign_id\", \"event_date\"],\n",
    "        right_on=[\"adv_campaign_id\", \"next_day\"],\n",
    "        how=\"left\"\n",
    "    )\n",
    "\n",
    "    \n",
    "    # Заменяем пустые значения на нули (если нет просмотров или кликов за предыдущий день)\n",
    "    df = df.with_columns([\n",
    "       pl.col(\"daily_views_per_campaign\").fill_null(-1),\n",
    "        pl.col(\"daily_clicks_per_campaign\").fill_null(-1),\n",
    "        pl.col(\"ctr_daily_pred_per_campaign\").fill_null(-1),\n",
    "        \n",
    "        \n",
    "        \n",
    "    ])\n",
    "    return df"
   ]
  },
  {
   "cell_type": "code",
   "execution_count": 21,
   "id": "8c6dcda0-2f37-4e37-8fd4-ad609195ab64",
   "metadata": {},
   "outputs": [
    {
     "name": "stderr",
     "output_type": "stream",
     "text": [
      "/tmp/ipykernel_61921/3074706124.py:10: DeprecationWarning: `pl.count()` is deprecated. Please use `pl.len()` instead.\n",
      "  pl.count().alias(\"daily_views_per_campaign\"),\n"
     ]
    }
   ],
   "source": [
    "updated_df = compute_prev_day_stats(updated_df)"
   ]
  },
  {
   "cell_type": "code",
   "execution_count": 22,
   "id": "142d4cb7-1dd0-4364-8e07-06dc3a5e7612",
   "metadata": {},
   "outputs": [],
   "source": [
    "updated_df = updated_df.drop(\"event_date_right\")"
   ]
  },
  {
   "cell_type": "code",
   "execution_count": 23,
   "id": "86c73fa1-a8f3-46e4-921a-28e9c12fbe09",
   "metadata": {},
   "outputs": [
    {
     "data": {
      "text/html": [
       "<div><style>\n",
       ".dataframe > thead > tr,\n",
       ".dataframe > tbody > tr {\n",
       "  text-align: right;\n",
       "  white-space: pre-wrap;\n",
       "}\n",
       "</style>\n",
       "<small>shape: (5, 26)</small><table border=\"1\" class=\"dataframe\"><thead><tr><th>user_id</th><th>adv_campaign_id</th><th>platform_id</th><th>adv_creative_id</th><th>event_date</th><th>banner_code</th><th>is_main</th><th>target</th><th>test</th><th>start_date</th><th>end_date</th><th>goal_cost</th><th>goal_budget</th><th>location_id</th><th>logcat_id</th><th>vertical_id</th><th>category_id</th><th>cumulative_cost</th><th>remaining_budget</th><th>ad_click_count</th><th>user_ad_click_count</th><th>ad_click_count_per_ads</th><th>user_ad_click_count_per_ads</th><th>daily_views_per_campaign</th><th>daily_clicks_per_campaign</th><th>ctr_daily_pred_per_campaign</th></tr><tr><td>i64</td><td>i64</td><td>i64</td><td>i64</td><td>date</td><td>i64</td><td>bool</td><td>i32</td><td>i32</td><td>date</td><td>date</td><td>f64</td><td>f64</td><td>i64</td><td>i64</td><td>i64</td><td>i64</td><td>f64</td><td>f64</td><td>i32</td><td>i32</td><td>i32</td><td>i32</td><td>i64</td><td>i32</td><td>f64</td></tr></thead><tbody><tr><td>2234003</td><td>1348</td><td>2</td><td>1</td><td>2024-09-01</td><td>8</td><td>true</td><td>0</td><td>0</td><td>2024-08-28</td><td>2024-09-20</td><td>3.556529</td><td>715.279026</td><td>78</td><td>56</td><td>8</td><td>11</td><td>1087.547997</td><td>-372.268971</td><td>0</td><td>null</td><td>null</td><td>null</td><td>-1</td><td>-1</td><td>-1.0</td></tr><tr><td>1099576</td><td>1348</td><td>2</td><td>1</td><td>2024-09-01</td><td>8</td><td>true</td><td>0</td><td>0</td><td>2024-08-28</td><td>2024-09-20</td><td>3.556529</td><td>715.279026</td><td>78</td><td>56</td><td>8</td><td>11</td><td>1087.547997</td><td>-372.268971</td><td>0</td><td>null</td><td>0</td><td>null</td><td>-1</td><td>-1</td><td>-1.0</td></tr><tr><td>2923050</td><td>1348</td><td>2</td><td>1</td><td>2024-09-01</td><td>8</td><td>true</td><td>0</td><td>0</td><td>2024-08-28</td><td>2024-09-20</td><td>3.556529</td><td>715.279026</td><td>78</td><td>56</td><td>8</td><td>11</td><td>1087.547997</td><td>-372.268971</td><td>0</td><td>null</td><td>0</td><td>null</td><td>-1</td><td>-1</td><td>-1.0</td></tr><tr><td>2346641</td><td>1348</td><td>2</td><td>1</td><td>2024-09-01</td><td>8</td><td>true</td><td>0</td><td>0</td><td>2024-08-28</td><td>2024-09-20</td><td>3.556529</td><td>715.279026</td><td>78</td><td>56</td><td>8</td><td>11</td><td>1087.547997</td><td>-372.268971</td><td>0</td><td>null</td><td>0</td><td>null</td><td>-1</td><td>-1</td><td>-1.0</td></tr><tr><td>1979949</td><td>1348</td><td>2</td><td>1</td><td>2024-09-01</td><td>8</td><td>true</td><td>0</td><td>0</td><td>2024-08-28</td><td>2024-09-20</td><td>3.556529</td><td>715.279026</td><td>78</td><td>56</td><td>8</td><td>11</td><td>1087.547997</td><td>-372.268971</td><td>0</td><td>null</td><td>0</td><td>null</td><td>-1</td><td>-1</td><td>-1.0</td></tr></tbody></table></div>"
      ],
      "text/plain": [
       "shape: (5, 26)\n",
       "┌─────────┬────────────┬───────────┬───────────┬───┬───────────┬───────────┬───────────┬───────────┐\n",
       "│ user_id ┆ adv_campai ┆ platform_ ┆ adv_creat ┆ … ┆ user_ad_c ┆ daily_vie ┆ daily_cli ┆ ctr_daily │\n",
       "│ ---     ┆ gn_id      ┆ id        ┆ ive_id    ┆   ┆ lick_coun ┆ ws_per_ca ┆ cks_per_c ┆ _pred_per │\n",
       "│ i64     ┆ ---        ┆ ---       ┆ ---       ┆   ┆ t_per_ads ┆ mpaign    ┆ ampaign   ┆ _campaign │\n",
       "│         ┆ i64        ┆ i64       ┆ i64       ┆   ┆ ---       ┆ ---       ┆ ---       ┆ ---       │\n",
       "│         ┆            ┆           ┆           ┆   ┆ i32       ┆ i64       ┆ i32       ┆ f64       │\n",
       "╞═════════╪════════════╪═══════════╪═══════════╪═══╪═══════════╪═══════════╪═══════════╪═══════════╡\n",
       "│ 2234003 ┆ 1348       ┆ 2         ┆ 1         ┆ … ┆ null      ┆ -1        ┆ -1        ┆ -1.0      │\n",
       "│ 1099576 ┆ 1348       ┆ 2         ┆ 1         ┆ … ┆ null      ┆ -1        ┆ -1        ┆ -1.0      │\n",
       "│ 2923050 ┆ 1348       ┆ 2         ┆ 1         ┆ … ┆ null      ┆ -1        ┆ -1        ┆ -1.0      │\n",
       "│ 2346641 ┆ 1348       ┆ 2         ┆ 1         ┆ … ┆ null      ┆ -1        ┆ -1        ┆ -1.0      │\n",
       "│ 1979949 ┆ 1348       ┆ 2         ┆ 1         ┆ … ┆ null      ┆ -1        ┆ -1        ┆ -1.0      │\n",
       "└─────────┴────────────┴───────────┴───────────┴───┴───────────┴───────────┴───────────┴───────────┘"
      ]
     },
     "execution_count": 23,
     "metadata": {},
     "output_type": "execute_result"
    }
   ],
   "source": [
    "updated_df.head()\n",
    "\n"
   ]
  },
  {
   "cell_type": "code",
   "execution_count": 24,
   "id": "b7cece9d-f58f-4dab-8e6a-b32cd8d2d22f",
   "metadata": {},
   "outputs": [],
   "source": [
    "\n",
    "# Функция для вычисления количества просмотров и кликов за предыдущий день для каждой компании\n",
    "def compute_prev_day_stats_per_ads(df):\n",
    "\n",
    "    # Считаем количество просмотров и кликов за каждый день по каждому объявлению\n",
    "    daily_stats = df.group_by([\"adv_creative_id\", \"event_date\"]).agg([\n",
    "        pl.count().alias(\"daily_views_per_ads\"),\n",
    "        pl.sum(\"target\").alias(\"daily_clicks_per_ads\")  # Считаем только клики, где target = 1\n",
    "    ])\n",
    "    \n",
    "    \n",
    "    daily_stats = daily_stats.with_columns((pl.col(\"daily_views_per_ads\") - pl.col(\"daily_clicks_per_ads\")).alias('daily_views_per_ads'))\n",
    "    \n",
    "    daily_stats = daily_stats.with_columns(( pl.col(\"daily_clicks_per_ads\")/pl.col(\"daily_views_per_ads\")).alias('ctr_daily_pred_per_ads'))\n",
    "\n",
    "    \n",
    "    \n",
    "    # Добавляем столбец \"previous_day\" для последующего объединения на день назад\n",
    "    daily_stats = daily_stats.with_columns(\n",
    "        (pl.col(\"event_date\") + pl.duration(days=1)).alias(\"next_day\")\n",
    "    )\n",
    "    \n",
    "    # Присоединяем полученные результаты на день позже к оригинальному DataFrame\n",
    "    df = df.join(\n",
    "        daily_stats,\n",
    "        left_on=[\"adv_creative_id\", \"event_date\"],\n",
    "        right_on=[\"adv_creative_id\", \"next_day\"],\n",
    "        how=\"left\"\n",
    "    )\n",
    "#     .select([\n",
    "#         \"adv_campaign_id\", \"event_date\", \"daily_views\", \"daily_clicks\"\n",
    "#     ])\n",
    "    \n",
    "    # Заменяем пустые значения на нули (если нет просмотров или кликов за предыдущий день)\n",
    "    df = df.with_columns([\n",
    "       pl.col(\"daily_clicks_per_ads\").fill_null(-1),\n",
    "        pl.col(\"daily_views_per_ads\").fill_null(-1),\n",
    "        pl.col(\"ctr_daily_pred_per_ads\").fill_null(-1),\n",
    "        \n",
    "    ])\n",
    "    return df"
   ]
  },
  {
   "cell_type": "code",
   "execution_count": 25,
   "id": "d1c8578b-9383-44e8-85af-41595d770dab",
   "metadata": {},
   "outputs": [
    {
     "name": "stderr",
     "output_type": "stream",
     "text": [
      "/tmp/ipykernel_61921/3453609469.py:11: DeprecationWarning: `pl.count()` is deprecated. Please use `pl.len()` instead.\n",
      "  pl.count().alias(\"daily_views_per_ads\"),\n"
     ]
    }
   ],
   "source": [
    "updated_df = compute_prev_day_stats_per_ads(updated_df)"
   ]
  },
  {
   "cell_type": "code",
   "execution_count": 26,
   "id": "93a2ebc2-ddc8-430f-beb6-0fc188e45590",
   "metadata": {},
   "outputs": [],
   "source": [
    "updated_df = updated_df.drop(\"event_date_right\")"
   ]
  },
  {
   "cell_type": "code",
   "execution_count": 17,
   "id": "9a087a98-8ab3-4356-a8ae-484cce567be2",
   "metadata": {},
   "outputs": [],
   "source": [
    "############new \n",
    "# Функция для вычисления количества просмотров и кликов за предыдущий день для каждой компании\n",
    "def compute_user_id_common(df, col1='user_id', col2='logcat_id'):\n",
    "\n",
    "    \n",
    "    # Считаем количество просмотров и кликов за каждый день по каждому объявлению\n",
    "    daily_stats = df.group_by([col1, col2, \"event_date\"]).agg([\n",
    "        pl.count().alias(f\"daily_views_per_{col1}_{col2}\"),\n",
    "        pl.sum(\"target\").alias(f\"daily_clicks_per_{col1}_{col2}\")  # Считаем только клики, где target = 1\n",
    "    ])\n",
    "    \n",
    "    \n",
    "    \n",
    "       \n",
    "    daily_stats = daily_stats.with_columns((pl.col(f\"daily_views_per_{col1}_{col2}\") - pl.col(f\"daily_clicks_per_{col1}_{col2}\"))\\\n",
    "                                           .alias(f'daily_views_per_{col1}_{col2}'))\n",
    "    \n",
    "    daily_stats = daily_stats.with_columns(( pl.col(f\"daily_clicks_per_{col1}_{col2}\")/pl.col(f\"daily_views_per_{col1}_{col2}\"))\\\n",
    "                                           .alias(f'ctr_daily_pred_per_{col1}_{col2}'))\n",
    "\n",
    "    \n",
    "    \n",
    "    \n",
    "    # Добавляем столбец \"previous_day\" для последующего объединения на день назад\n",
    "    daily_stats = daily_stats.with_columns(\n",
    "        (pl.col(\"event_date\") + pl.duration(days=1)).alias(\"next_day\")\n",
    "    )\n",
    "    \n",
    "    \n",
    "    \n",
    "    \n",
    "    # Присоединяем полученные результаты на день позже к оригинальному DataFrame\n",
    "    df = df.join(\n",
    "        daily_stats,\n",
    "        left_on=[col1, col2, \"event_date\"],\n",
    "        right_on=[col1, col2, \"next_day\"],\n",
    "        how=\"left\"\n",
    "    )\n",
    "\n",
    "    df = df.with_columns([\n",
    "       pl.col(f\"daily_clicks_per_{col1}_{col2}\").fill_null(-1),\n",
    "        pl.col(f\"daily_views_per_{col1}_{col2}\").fill_null(-1),\n",
    "        pl.col(f'ctr_daily_pred_per_{col1}_{col2}').fill_null(-1),\n",
    "        \n",
    "    ])\n",
    "\n",
    "    \n",
    "    df = df.drop(\"event_date_right\")\n",
    "    return df"
   ]
  },
  {
   "cell_type": "code",
   "execution_count": 29,
   "id": "0e289cb0-689b-4169-a354-6ace782c9682",
   "metadata": {},
   "outputs": [
    {
     "data": {
      "text/html": [
       "<div><style>\n",
       ".dataframe > thead > tr,\n",
       ".dataframe > tbody > tr {\n",
       "  text-align: right;\n",
       "  white-space: pre-wrap;\n",
       "}\n",
       "</style>\n",
       "<small>shape: (116_724_322, 29)</small><table border=\"1\" class=\"dataframe\"><thead><tr><th>user_id</th><th>adv_campaign_id</th><th>platform_id</th><th>adv_creative_id</th><th>event_date</th><th>banner_code</th><th>is_main</th><th>target</th><th>test</th><th>start_date</th><th>end_date</th><th>goal_cost</th><th>goal_budget</th><th>location_id</th><th>logcat_id</th><th>vertical_id</th><th>category_id</th><th>cumulative_cost</th><th>remaining_budget</th><th>ad_click_count</th><th>user_ad_click_count</th><th>ad_click_count_per_ads</th><th>user_ad_click_count_per_ads</th><th>daily_views_per_campaign</th><th>daily_clicks_per_campaign</th><th>ctr_daily_pred_per_campaign</th><th>daily_views_per_ads</th><th>daily_clicks_per_ads</th><th>ctr_daily_pred_per_ads</th></tr><tr><td>i64</td><td>i64</td><td>i64</td><td>i64</td><td>date</td><td>i64</td><td>bool</td><td>i32</td><td>i32</td><td>date</td><td>date</td><td>f64</td><td>f64</td><td>i64</td><td>i64</td><td>i64</td><td>i64</td><td>f64</td><td>f64</td><td>i32</td><td>i32</td><td>i32</td><td>i32</td><td>i64</td><td>i32</td><td>f64</td><td>i64</td><td>i32</td><td>f64</td></tr></thead><tbody><tr><td>2234003</td><td>1348</td><td>2</td><td>1</td><td>2024-09-01</td><td>8</td><td>true</td><td>0</td><td>0</td><td>2024-08-28</td><td>2024-09-20</td><td>3.556529</td><td>715.279026</td><td>78</td><td>56</td><td>8</td><td>11</td><td>1087.547997</td><td>-372.268971</td><td>0</td><td>null</td><td>null</td><td>null</td><td>-1</td><td>-1</td><td>-1.0</td><td>-1</td><td>-1</td><td>-1.0</td></tr><tr><td>1099576</td><td>1348</td><td>2</td><td>1</td><td>2024-09-01</td><td>8</td><td>true</td><td>0</td><td>0</td><td>2024-08-28</td><td>2024-09-20</td><td>3.556529</td><td>715.279026</td><td>78</td><td>56</td><td>8</td><td>11</td><td>1087.547997</td><td>-372.268971</td><td>0</td><td>null</td><td>0</td><td>null</td><td>-1</td><td>-1</td><td>-1.0</td><td>-1</td><td>-1</td><td>-1.0</td></tr><tr><td>2923050</td><td>1348</td><td>2</td><td>1</td><td>2024-09-01</td><td>8</td><td>true</td><td>0</td><td>0</td><td>2024-08-28</td><td>2024-09-20</td><td>3.556529</td><td>715.279026</td><td>78</td><td>56</td><td>8</td><td>11</td><td>1087.547997</td><td>-372.268971</td><td>0</td><td>null</td><td>0</td><td>null</td><td>-1</td><td>-1</td><td>-1.0</td><td>-1</td><td>-1</td><td>-1.0</td></tr><tr><td>2346641</td><td>1348</td><td>2</td><td>1</td><td>2024-09-01</td><td>8</td><td>true</td><td>0</td><td>0</td><td>2024-08-28</td><td>2024-09-20</td><td>3.556529</td><td>715.279026</td><td>78</td><td>56</td><td>8</td><td>11</td><td>1087.547997</td><td>-372.268971</td><td>0</td><td>null</td><td>0</td><td>null</td><td>-1</td><td>-1</td><td>-1.0</td><td>-1</td><td>-1</td><td>-1.0</td></tr><tr><td>1979949</td><td>1348</td><td>2</td><td>1</td><td>2024-09-01</td><td>8</td><td>true</td><td>0</td><td>0</td><td>2024-08-28</td><td>2024-09-20</td><td>3.556529</td><td>715.279026</td><td>78</td><td>56</td><td>8</td><td>11</td><td>1087.547997</td><td>-372.268971</td><td>0</td><td>null</td><td>0</td><td>null</td><td>-1</td><td>-1</td><td>-1.0</td><td>-1</td><td>-1</td><td>-1.0</td></tr><tr><td>&hellip;</td><td>&hellip;</td><td>&hellip;</td><td>&hellip;</td><td>&hellip;</td><td>&hellip;</td><td>&hellip;</td><td>&hellip;</td><td>&hellip;</td><td>&hellip;</td><td>&hellip;</td><td>&hellip;</td><td>&hellip;</td><td>&hellip;</td><td>&hellip;</td><td>&hellip;</td><td>&hellip;</td><td>&hellip;</td><td>&hellip;</td><td>&hellip;</td><td>&hellip;</td><td>&hellip;</td><td>&hellip;</td><td>&hellip;</td><td>&hellip;</td><td>&hellip;</td><td>&hellip;</td><td>&hellip;</td><td>&hellip;</td></tr><tr><td>1500413</td><td>1025</td><td>2</td><td>4302</td><td>2024-09-23</td><td>5</td><td>false</td><td>0</td><td>1</td><td>2024-09-16</td><td>2024-10-15</td><td>4.690097</td><td>38809.863468</td><td>1</td><td>65</td><td>8</td><td>5</td><td>825.33893</td><td>37984.524538</td><td>407</td><td>null</td><td>407</td><td>null</td><td>11616</td><td>47</td><td>0.004046</td><td>11616</td><td>47</td><td>0.004046</td></tr><tr><td>1721348</td><td>1025</td><td>2</td><td>4302</td><td>2024-09-23</td><td>5</td><td>false</td><td>0</td><td>1</td><td>2024-09-16</td><td>2024-10-15</td><td>4.690097</td><td>38809.863468</td><td>1</td><td>65</td><td>8</td><td>5</td><td>825.33893</td><td>37984.524538</td><td>407</td><td>null</td><td>407</td><td>null</td><td>11616</td><td>47</td><td>0.004046</td><td>11616</td><td>47</td><td>0.004046</td></tr><tr><td>93957</td><td>1025</td><td>2</td><td>4302</td><td>2024-09-23</td><td>8</td><td>true</td><td>0</td><td>1</td><td>2024-09-16</td><td>2024-10-15</td><td>4.690097</td><td>38809.863468</td><td>1</td><td>65</td><td>8</td><td>5</td><td>825.33893</td><td>37984.524538</td><td>407</td><td>0</td><td>407</td><td>0</td><td>11616</td><td>47</td><td>0.004046</td><td>11616</td><td>47</td><td>0.004046</td></tr><tr><td>2550277</td><td>1025</td><td>2</td><td>4302</td><td>2024-09-23</td><td>8</td><td>true</td><td>0</td><td>1</td><td>2024-09-16</td><td>2024-10-15</td><td>4.690097</td><td>38809.863468</td><td>1</td><td>65</td><td>8</td><td>5</td><td>825.33893</td><td>37984.524538</td><td>407</td><td>0</td><td>407</td><td>0</td><td>11616</td><td>47</td><td>0.004046</td><td>11616</td><td>47</td><td>0.004046</td></tr><tr><td>2079812</td><td>1025</td><td>2</td><td>4302</td><td>2024-09-23</td><td>8</td><td>true</td><td>0</td><td>1</td><td>2024-09-16</td><td>2024-10-15</td><td>4.690097</td><td>38809.863468</td><td>1</td><td>65</td><td>8</td><td>5</td><td>825.33893</td><td>37984.524538</td><td>407</td><td>0</td><td>407</td><td>0</td><td>11616</td><td>47</td><td>0.004046</td><td>11616</td><td>47</td><td>0.004046</td></tr></tbody></table></div>"
      ],
      "text/plain": [
       "shape: (116_724_322, 29)\n",
       "┌─────────┬────────────┬───────────┬───────────┬───┬───────────┬───────────┬───────────┬───────────┐\n",
       "│ user_id ┆ adv_campai ┆ platform_ ┆ adv_creat ┆ … ┆ ctr_daily ┆ daily_vie ┆ daily_cli ┆ ctr_daily │\n",
       "│ ---     ┆ gn_id      ┆ id        ┆ ive_id    ┆   ┆ _pred_per ┆ ws_per_ad ┆ cks_per_a ┆ _pred_per │\n",
       "│ i64     ┆ ---        ┆ ---       ┆ ---       ┆   ┆ _campaign ┆ s         ┆ ds        ┆ _ads      │\n",
       "│         ┆ i64        ┆ i64       ┆ i64       ┆   ┆ ---       ┆ ---       ┆ ---       ┆ ---       │\n",
       "│         ┆            ┆           ┆           ┆   ┆ f64       ┆ i64       ┆ i32       ┆ f64       │\n",
       "╞═════════╪════════════╪═══════════╪═══════════╪═══╪═══════════╪═══════════╪═══════════╪═══════════╡\n",
       "│ 2234003 ┆ 1348       ┆ 2         ┆ 1         ┆ … ┆ -1.0      ┆ -1        ┆ -1        ┆ -1.0      │\n",
       "│ 1099576 ┆ 1348       ┆ 2         ┆ 1         ┆ … ┆ -1.0      ┆ -1        ┆ -1        ┆ -1.0      │\n",
       "│ 2923050 ┆ 1348       ┆ 2         ┆ 1         ┆ … ┆ -1.0      ┆ -1        ┆ -1        ┆ -1.0      │\n",
       "│ 2346641 ┆ 1348       ┆ 2         ┆ 1         ┆ … ┆ -1.0      ┆ -1        ┆ -1        ┆ -1.0      │\n",
       "│ 1979949 ┆ 1348       ┆ 2         ┆ 1         ┆ … ┆ -1.0      ┆ -1        ┆ -1        ┆ -1.0      │\n",
       "│ …       ┆ …          ┆ …         ┆ …         ┆ … ┆ …         ┆ …         ┆ …         ┆ …         │\n",
       "│ 1500413 ┆ 1025       ┆ 2         ┆ 4302      ┆ … ┆ 0.004046  ┆ 11616     ┆ 47        ┆ 0.004046  │\n",
       "│ 1721348 ┆ 1025       ┆ 2         ┆ 4302      ┆ … ┆ 0.004046  ┆ 11616     ┆ 47        ┆ 0.004046  │\n",
       "│ 93957   ┆ 1025       ┆ 2         ┆ 4302      ┆ … ┆ 0.004046  ┆ 11616     ┆ 47        ┆ 0.004046  │\n",
       "│ 2550277 ┆ 1025       ┆ 2         ┆ 4302      ┆ … ┆ 0.004046  ┆ 11616     ┆ 47        ┆ 0.004046  │\n",
       "│ 2079812 ┆ 1025       ┆ 2         ┆ 4302      ┆ … ┆ 0.004046  ┆ 11616     ┆ 47        ┆ 0.004046  │\n",
       "└─────────┴────────────┴───────────┴───────────┴───┴───────────┴───────────┴───────────┴───────────┘"
      ]
     },
     "execution_count": 29,
     "metadata": {},
     "output_type": "execute_result"
    }
   ],
   "source": [
    "updated_df\n"
   ]
  },
  {
   "cell_type": "code",
   "execution_count": 30,
   "id": "a127e5ea-3fcf-45d2-9a81-d55c89ec7d93",
   "metadata": {},
   "outputs": [],
   "source": [
    "#changed t0 ads and location\n",
    "# Функция для вычисления количества просмотров и кликов за предыдущий день для каждой компании\n",
    "def compute_prev_day_stats_per_ads_per_location(df):\n",
    "\n",
    "    \n",
    "    # Считаем количество просмотров и кликов за каждый день по каждому объявлению\n",
    "    daily_stats = df.group_by([\"adv_creative_id\", 'location_id', \"event_date\"]).agg([\n",
    "        pl.count().alias(\"daily_views_per_ads_loc\"),\n",
    "        pl.sum(\"target\").alias(\"daily_clicks_per_ads_loc\")  # Считаем только клики, где target = 1\n",
    "    ])\n",
    "    \n",
    "    # Добавляем столбец \"previous_day\" для последующего объединения на день назад\n",
    "    daily_stats = daily_stats.with_columns(\n",
    "        (pl.col(\"event_date\") + pl.duration(days=1)).alias(\"next_day\")\n",
    "    )\n",
    "    \n",
    "    # Присоединяем полученные результаты на день позже к оригинальному DataFrame\n",
    "    df = df.join(\n",
    "        daily_stats,\n",
    "        left_on=[\"adv_creative_id\", 'location_id', \"event_date\"],\n",
    "        right_on=[\"adv_creative_id\", 'location_id', \"next_day\"],\n",
    "        how=\"left\"\n",
    "    )\n",
    "\n",
    "    # Заменяем пустые значения на нули (если нет просмотров или кликов за предыдущий день)\n",
    "    df = df.with_columns([\n",
    "       pl.col(\"daily_views_per_ads_loc\").fill_null(-1),\n",
    "        pl.col(\"daily_clicks_per_ads_loc\").fill_null(-1),\n",
    "        \n",
    "    ])\n",
    "    return df"
   ]
  },
  {
   "cell_type": "code",
   "execution_count": 31,
   "id": "5a2ad395-fc2e-4271-9806-d21df277a93c",
   "metadata": {},
   "outputs": [
    {
     "name": "stderr",
     "output_type": "stream",
     "text": [
      "/tmp/ipykernel_61921/3515010437.py:11: DeprecationWarning: `pl.count()` is deprecated. Please use `pl.len()` instead.\n",
      "  pl.count().alias(\"daily_views_per_ads_loc\"),\n"
     ]
    }
   ],
   "source": [
    "updated_df = compute_prev_day_stats_per_ads_per_location(updated_df)"
   ]
  },
  {
   "cell_type": "code",
   "execution_count": 4,
   "id": "9fba3de9-f01a-47a8-a8cc-e8fe8984952f",
   "metadata": {},
   "outputs": [],
   "source": [
    "import numpy as np\n",
    "\n",
    "def reduce_memory_usage_pl(df, name):\n",
    "    \"\"\" Reduce memory usage by polars dataframe {df} with name {name} by changing its data types.\n",
    "        Original pandas version of this function: https://www.kaggle.com/code/arjanso/reducing-dataframe-memory-size-by-65 \"\"\"\n",
    "    print(f\"Memory usage of dataframe {name} is {round(df.estimated_size('mb'), 2)} MB\")\n",
    "    Numeric_Int_types = [pl.Int8,pl.Int16,pl.Int32,pl.Int64]\n",
    "    Numeric_Float_types = [pl.Float32,pl.Float64]    \n",
    "    for col in df.columns:\n",
    "        col_type = df[col].dtype\n",
    "        c_min = df[col].min()\n",
    "        c_max = df[col].max()\n",
    "        if col_type in Numeric_Int_types:\n",
    "            if c_min > np.iinfo(np.int8).min and c_max < np.iinfo(np.int8).max:\n",
    "                df = df.with_columns(df[col].cast(pl.Int8))\n",
    "            elif c_min > np.iinfo(np.int16).min and c_max < np.iinfo(np.int16).max:\n",
    "                df = df.with_columns(df[col].cast(pl.Int16))\n",
    "            elif c_min > np.iinfo(np.int32).min and c_max < np.iinfo(np.int32).max:\n",
    "                df = df.with_columns(df[col].cast(pl.Int32))\n",
    "            elif c_min > np.iinfo(np.int64).min and c_max < np.iinfo(np.int64).max:\n",
    "                df = df.with_columns(df[col].cast(pl.Int64))\n",
    "        elif col_type in Numeric_Float_types:\n",
    "            if c_min > np.finfo(np.float32).min and c_max < np.finfo(np.float32).max:\n",
    "                df = df.with_columns(df[col].cast(pl.Float32))\n",
    "            else:\n",
    "                pass\n",
    "        elif col_type == pl.Utf8:\n",
    "            df = df.with_columns(df[col].cast(pl.Categorical))\n",
    "        else:\n",
    "            pass\n",
    "    print(f\"Memory usage of dataframe {name} became {round(df.estimated_size('mb'), 2)} MB\")\n",
    "    return df\n",
    "\n",
    "\n"
   ]
  },
  {
   "cell_type": "code",
   "execution_count": 6,
   "id": "14d8e568-05f4-449b-945f-75c12d39902d",
   "metadata": {},
   "outputs": [
    {
     "name": "stdout",
     "output_type": "stream",
     "text": [
      "Memory usage of dataframe train_subset is 55964.68 MB\n",
      "Memory usage of dataframe train_subset became 55964.68 MB\n"
     ]
    }
   ],
   "source": [
    "# usage example\n",
    "updated_df = reduce_memory_usage_pl(updated_df, \"train_subset\")"
   ]
  },
  {
   "cell_type": "code",
   "execution_count": 7,
   "id": "5103de5f-12c0-4900-aa53-e6ee94938020",
   "metadata": {},
   "outputs": [],
   "source": [
    "# Функция для вычисления кумулятивного количества просмотров и кликов по user_id и logcat_id до текущего наблюдения\n",
    "def compute_user_logcat_stats(df):\n",
    "    # Сортировка по user_id, logcat_id и event_date для корректного накопления\n",
    "    df = df.sort([\"user_id\", \"logcat_id\", \"event_date\"])\n",
    "\n",
    "    return df\n",
    "\n"
   ]
  },
  {
   "cell_type": "code",
   "execution_count": 38,
   "id": "9a1f6cb6-310f-4c64-95b5-e44a4da16c36",
   "metadata": {},
   "outputs": [],
   "source": [
    "#updated_df = compute_user_logcat_stats(updated_df)"
   ]
  },
  {
   "cell_type": "code",
   "execution_count": 39,
   "id": "583e03a8-ab5b-48ee-8a9b-58a7d5e70145",
   "metadata": {},
   "outputs": [],
   "source": [
    "\n",
    "\n",
    "def compute_user_adv_views(df):\n",
    "    # Убедимся, что даты в формате Date для корректной сортировки\n",
    "    #df = df.with_columns(pl.col(\"event_date\").str.strptime(pl.Date, \"%Y-%m-%d\"))\n",
    "\n",
    "    # Сортировка по user_id, adv_campaign_id и event_date\n",
    "    df = df.sort([\"user_id\", \"adv_campaign_id\", \"event_date\"])\n",
    "\n",
    "    # Вычисляем кумулятивное количество просмотров по каждому объявлению, не исключая текущее наблюдение\n",
    "    df = df.with_columns([\n",
    "        #fixed shift\n",
    "        # Кумулятивная сумма просмотров, исключая текущее наблюдение\n",
    "        pl.col(\"target\").shift(1).cum_count().over([\"user_id\", \"adv_campaign_id\"])\n",
    "        .fill_nan(-1).alias(\"cumulative_adv_peruser_views\")\n",
    "    ])\n",
    "    \n",
    "    \n",
    "    df = df.with_columns([\n",
    "        # Кумулятивная сумма просмотров, исключая текущее наблюдение\n",
    "        \n",
    "        #fixed shift\n",
    "        pl.col(\"target\").shift(1).cum_count().over([\"adv_campaign_id\"])\n",
    "        .fill_nan(-1).alias(\"cumulative_adv_all_views\")\n",
    "    ])\n",
    "    \n",
    "    return df"
   ]
  },
  {
   "cell_type": "code",
   "execution_count": 40,
   "id": "c324aff5-ec5f-489b-adee-3be0ca242756",
   "metadata": {},
   "outputs": [],
   "source": [
    "del train\n",
    "\n",
    "del test"
   ]
  },
  {
   "cell_type": "code",
   "execution_count": 41,
   "id": "d5919d3d-fd8f-4500-9f67-513caf9b594c",
   "metadata": {},
   "outputs": [
    {
     "data": {
      "text/plain": [
       "0"
      ]
     },
     "execution_count": 41,
     "metadata": {},
     "output_type": "execute_result"
    }
   ],
   "source": [
    "import gc\n",
    "gc.collect()"
   ]
  },
  {
   "cell_type": "code",
   "execution_count": 42,
   "id": "a22a42c9-a17a-4ca1-a956-0152f75b0120",
   "metadata": {},
   "outputs": [
    {
     "name": "stdout",
     "output_type": "stream",
     "text": [
      "Memory usage of dataframe train_subset is 9935.04 MB\n",
      "Memory usage of dataframe train_subset became 9935.04 MB\n"
     ]
    }
   ],
   "source": [
    "updated_df = reduce_memory_usage_pl(updated_df, \"train_subset\")\n"
   ]
  },
  {
   "cell_type": "code",
   "execution_count": 43,
   "id": "3425fa06-0ca3-4b1a-8ae9-e5b322601b7b",
   "metadata": {},
   "outputs": [
    {
     "name": "stdout",
     "output_type": "stream",
     "text": [
      "Memory usage of dataframe cat_subset is 1.2 MB\n",
      "Memory usage of dataframe cat_subset became 0.61 MB\n"
     ]
    }
   ],
   "source": [
    "categories = reduce_memory_usage_pl(categories, \"cat_subset\")"
   ]
  },
  {
   "cell_type": "code",
   "execution_count": 44,
   "id": "546caa9a-4c55-4652-b736-05451eec6f4a",
   "metadata": {},
   "outputs": [],
   "source": [
    "\n",
    "updated_df = compute_user_adv_views(updated_df)"
   ]
  },
  {
   "cell_type": "code",
   "execution_count": 45,
   "id": "4f230c9e-1345-4c51-8ed9-69df629a13a2",
   "metadata": {},
   "outputs": [],
   "source": [
    "\n",
    "\n",
    "def compute_user_adv_views_per_ads(df):\n",
    "    # Убедимся, что даты в формате Date для корректной сортировки\n",
    "    #df = df.with_columns(pl.col(\"event_date\").str.strptime(pl.Date, \"%Y-%m-%d\"))\n",
    "\n",
    "    # Сортировка по user_id, adv_campaign_id и event_date\n",
    "    df = df.sort([\"user_id\", \"adv_creative_id\", \"event_date\"])\n",
    "\n",
    "    # Вычисляем кумулятивное количество просмотров по каждому объявлению, не исключая текущее наблюдение\n",
    "    df = df.with_columns([\n",
    "        # Кумулятивная сумма просмотров, исключая текущее наблюдение\n",
    "        pl.col(\"target\").shift(1).cum_count().over([\"user_id\", \"adv_creative_id\"])\n",
    "        .fill_nan(-1).alias(\"cumulative_adv_peruser_views_ads\")\n",
    "    ])\n",
    "    \n",
    "    \n",
    "    df = df.with_columns([\n",
    "        # Кумулятивная сумма просмотров, исключая текущее наблюдение\n",
    "        pl.col(\"target\").shift(1).cum_count().over([\"adv_creative_id\"])\n",
    "        .fill_nan(-1).alias(\"cumulative_adv_all_views_ads\")\n",
    "    ])\n",
    "    \n",
    "    return df"
   ]
  },
  {
   "cell_type": "code",
   "execution_count": 46,
   "id": "54f635ef-db64-4534-ba79-0371f902dc1b",
   "metadata": {},
   "outputs": [],
   "source": [
    "updated_df = compute_user_adv_views_per_ads(updated_df)"
   ]
  },
  {
   "cell_type": "code",
   "execution_count": 47,
   "id": "4191b7ef-6f98-4519-8ee0-01a103be8b65",
   "metadata": {},
   "outputs": [],
   "source": [
    "\n",
    "categories = categories.with_columns(pl.col(\"logcat_id\").cast(pl.Int8))\n",
    "\n"
   ]
  },
  {
   "cell_type": "code",
   "execution_count": 48,
   "id": "adb0212c-a63d-472f-8511-3807459e10ab",
   "metadata": {},
   "outputs": [],
   "source": [
    "def count_microcats_per_logcat(df, cats):\n",
    "    result = (\n",
    "        cats\n",
    "        .group_by(\"logcat_id\")\n",
    "        .agg(\n",
    "            pl.col(\"microcat_id\").n_unique().alias(\"unique_microcat_count\")\n",
    "        )\n",
    "    )\n",
    "    \n",
    "    return df.join(result, on=\"logcat_id\", how=\"left\")\n",
    "    #return result"
   ]
  },
  {
   "cell_type": "code",
   "execution_count": 49,
   "id": "3e95809f-f086-4c6d-a1e2-628d1411df82",
   "metadata": {},
   "outputs": [
    {
     "name": "stdout",
     "output_type": "stream",
     "text": [
      "Memory usage of dataframe train_subset is 13469.36 MB\n",
      "Memory usage of dataframe train_subset became 11020.38 MB\n",
      "Memory usage of dataframe cat_subset is 0.53 MB\n",
      "Memory usage of dataframe cat_subset became 0.53 MB\n"
     ]
    }
   ],
   "source": [
    "updated_df = reduce_memory_usage_pl(updated_df, \"train_subset\")\n",
    "categories = reduce_memory_usage_pl(categories, \"cat_subset\")"
   ]
  },
  {
   "cell_type": "code",
   "execution_count": 50,
   "id": "5b1ce775-f94e-42c6-98d9-376a634c5ce7",
   "metadata": {},
   "outputs": [],
   "source": [
    "updated_df = count_microcats_per_logcat(updated_df, categories)"
   ]
  },
  {
   "cell_type": "code",
   "execution_count": null,
   "id": "0dc2a5a9-18ca-456f-ab5a-19f1f2b4b10b",
   "metadata": {},
   "outputs": [],
   "source": []
  },
  {
   "cell_type": "code",
   "execution_count": 51,
   "id": "a08c19e5-55cd-4644-81f5-7b1d435c6cfb",
   "metadata": {},
   "outputs": [],
   "source": [
    "def count_creatives_per_campaign(df):\n",
    "    # Считаем уникальные объявления (adv_creative_id) для каждой кампании (adv_campaign_id)\n",
    "    campaign_stats = (\n",
    "        df.group_by(\"adv_campaign_id\")\n",
    "        .agg(pl.col(\"adv_creative_id\").n_unique().alias(\"unique_creatives_per_campaign\"))\n",
    "    )\n",
    "    \n",
    "    # Считаем, в скольких кампаниях участвует каждое объявление\n",
    "    creative_stats = (\n",
    "        df.group_by(\"adv_creative_id\")\n",
    "        .agg(pl.col(\"adv_campaign_id\").n_unique().alias(\"campaign_count_per_creative\"))\n",
    "    )\n",
    "    \n",
    "    # Объединяем результаты в один DataFrame\n",
    "    result_df = df.join(campaign_stats, on=\"adv_campaign_id\", how=\"left\") \\\n",
    "                  .join(creative_stats, on=\"adv_creative_id\", how=\"left\")\n",
    "    \n",
    "    return result_df"
   ]
  },
  {
   "cell_type": "code",
   "execution_count": 52,
   "id": "f96a3fe6-6754-49b7-8e50-7012b6c5e18f",
   "metadata": {},
   "outputs": [],
   "source": [
    "updated_df = count_creatives_per_campaign(updated_df)"
   ]
  },
  {
   "cell_type": "code",
   "execution_count": 53,
   "id": "a2d77bde-70e2-4802-8cf3-b7132dd52b03",
   "metadata": {},
   "outputs": [],
   "source": [
    "from tqdm import tqdm"
   ]
  },
  {
   "cell_type": "code",
   "execution_count": 2,
   "id": "b9247a83-8023-4f61-8e21-bcff500032de",
   "metadata": {},
   "outputs": [],
   "source": [
    "\n",
    "\n",
    "def compute_user_banner_stats_expanded(df):\n",
    "    # Сортировка по user_id, banner_code, и event_date, чтобы учитывать порядок событий для каждого баннера\n",
    "    df = df.sort([\"user_id\", \"banner_code\", \"event_date\"])\n",
    "    \n",
    "    # Получаем уникальные значения banner_code\n",
    "    unique_banners = df.select(\"banner_code\").unique().to_series()\n",
    "    \n",
    "    # Создаем пустой DataFrame для хранения результатов\n",
    "    results = df\n",
    "    \n",
    "    # Для каждого уникального banner_code создаем отдельные кумулятивные столбцы для просмотров и кликов\n",
    "    for banner in unique_banners:\n",
    "        view_col = f\"views_banner_{banner}\"\n",
    "        click_col = f\"clicks_banner_{banner}\"\n",
    "        \n",
    "        # Добавляем кумулятивные просмотры и клики для текущего banner_code, исключая текущее наблюдение\n",
    "        results = results.with_columns([\n",
    "            # Кумулятивные просмотры для каждого баннера (target=0), исключая текущее наблюдение\n",
    "            pl.when(pl.col(\"banner_code\") == banner)\n",
    "              .then((pl.col(\"target\") == 0).shift(1).cum_sum().over([\"user_id\", \"banner_code\"]))\n",
    "              .otherwise(None)\n",
    "              .alias(view_col),\n",
    "            \n",
    "            # Кумулятивные клики для каждого баннера (target=1), исключая текущее наблюдение\n",
    "            pl.when(pl.col(\"banner_code\") == banner)\n",
    "              .then((pl.col(\"target\") == 1).shift(1).cum_sum().over([\"user_id\", \"banner_code\"]))\n",
    "              .otherwise(None)\n",
    "              .alias(click_col)\n",
    "        ])\n",
    "    for banner in unique_banners:  \n",
    "        results = results.with_columns(\n",
    "            pl.col(f\"clicks_banner_{banner}\").fill_null(strategy=\"forward\").over(\"user_id\")\n",
    "    )\n",
    "        results = results.with_columns(\n",
    "            pl.col(f\"views_banner_{banner}\").fill_null(strategy=\"forward\").over(\"user_id\")\n",
    "    )\n",
    "    \n",
    "    \n",
    "        results = results.with_columns(\n",
    "                pl.col(f\"clicks_banner_{banner}\").fill_null(0)\n",
    "        )\n",
    "        results = results.with_columns(\n",
    "                pl.col(f\"views_banner_{banner}\").fill_null(0)\n",
    "        )\n",
    "\n",
    "\n",
    "    \n",
    "    # Заполняем NaN значения нулями\n",
    "    #results = results.fill_null(No)\n",
    "    \n",
    "    return results\n",
    "\n",
    "\n",
    "def compute_user_platform_id_stats_expanded(df):\n",
    "    # Сортировка по user_id, banner_code, и event_date, чтобы учитывать порядок событий для каждого баннера\n",
    "    df = df.sort([\"user_id\", \"platform_id\", \"event_date\"])\n",
    "    \n",
    "    # Получаем уникальные значения banner_code\n",
    "    unique_banners = df.select(\"platform_id\").unique().to_series()\n",
    "    \n",
    "    # Создаем пустой DataFrame для хранения результатов\n",
    "    results = df\n",
    "    \n",
    "    # Для каждого уникального banner_code создаем отдельные кумулятивные столбцы для просмотров и кликов\n",
    "    for banner in unique_banners:\n",
    "        view_col = f\"views_platform_id_{banner}\"\n",
    "        click_col = f\"clicks_platform_id_{banner}\"\n",
    "        \n",
    "        # Добавляем кумулятивные просмотры и клики для текущего banner_code, исключая текущее наблюдение\n",
    "        results = results.with_columns([\n",
    "            # Кумулятивные просмотры для каждого баннера (target=0), исключая текущее наблюдение\n",
    "            pl.when(pl.col(\"platform_id\") == banner)\n",
    "              .then((pl.col(\"target\") == 0).shift(1).cum_sum().over([\"user_id\", \"platform_id\"]))\n",
    "              .otherwise(None)\n",
    "              .alias(view_col),\n",
    "            \n",
    "            # Кумулятивные клики для каждого баннера (target=1), исключая текущее наблюдение\n",
    "            pl.when(pl.col(\"platform_id\") == banner)\n",
    "              .then((pl.col(\"target\") == 1).shift(1).cum_sum().over([\"user_id\", \"platform_id\"]))\n",
    "              .otherwise(None)\n",
    "              .alias(click_col)\n",
    "        ])\n",
    "    for banner in unique_banners:  \n",
    "        results = results.with_columns(\n",
    "            pl.col(f\"clicks_platform_id_{banner}\").fill_null(strategy=\"forward\").over(\"user_id\")\n",
    "    )\n",
    "        results = results.with_columns(\n",
    "            pl.col(f\"views_platform_id_{banner}\").fill_null(strategy=\"forward\").over(\"user_id\")\n",
    "    )\n",
    "    \n",
    "    \n",
    "        results = results.with_columns(\n",
    "                pl.col(f\"clicks_platform_id_{banner}\").fill_null(0)\n",
    "        )\n",
    "        results = results.with_columns(\n",
    "                pl.col(f\"views_platform_id_{banner}\").fill_null(0)\n",
    "        )\n",
    "\n",
    "\n",
    "\n",
    "    return results\n",
    "\n",
    "\n",
    "\n",
    "def compute_user_logcat_id_stats_expanded(df):\n",
    "    # Сортировка по user_id, banner_code, и event_date, чтобы учитывать порядок событий для каждого баннера\n",
    "    df = df.sort([\"user_id\", \"logcat_id\", \"event_date\"])\n",
    "    \n",
    "    # Получаем уникальные значения banner_code\n",
    "    unique_banners = df.select(\"logcat_id\").unique().to_series()\n",
    "    \n",
    "    # Создаем пустой DataFrame для хранения результатов\n",
    "    results = df\n",
    "    \n",
    "    # Для каждого уникального banner_code создаем отдельные кумулятивные столбцы для просмотров и кликов\n",
    "    for banner in tqdm(unique_banners):\n",
    "        view_col = f\"views_logcat_id_{banner}\"\n",
    "        click_col = f\"clicks_logcat_id_{banner}\"\n",
    "        \n",
    "        # Добавляем кумулятивные просмотры и клики для текущего banner_code, исключая текущее наблюдение\n",
    "        results = results.with_columns([\n",
    "            #Кумулятивные просмотры для каждого баннера (target=0), исключая текущее наблюдение\n",
    "            pl.when(pl.col(\"logcat_id\") == banner)\n",
    "              .then((pl.col(\"target\") == 0).shift(1).cum_sum().over([\"user_id\", \"logcat_id\"]))\n",
    "              .otherwise(None)\n",
    "              .alias(view_col),\n",
    "            \n",
    "            # Кумулятивные клики для каждого баннера (target=1), исключая текущее наблюдение\n",
    "            pl.when(pl.col(\"logcat_id\") == banner)\n",
    "              .then((pl.col(\"target\") == 1).shift(1).cum_sum().over([\"user_id\", \"logcat_id\"]))\n",
    "              .otherwise(None)\n",
    "              .alias(click_col)\n",
    "        ])\n",
    "    for banner in unique_banners:  \n",
    "        results = results.with_columns(\n",
    "            pl.col(f\"clicks_logcat_id_{banner}\").fill_null(strategy=\"forward\").over(\"user_id\")\n",
    "    )\n",
    "        results = results.with_columns(\n",
    "            pl.col(f\"views_logcat_id_{banner}\").fill_null(strategy=\"forward\").over(\"user_id\")\n",
    "    )\n",
    "    \n",
    "    \n",
    "        results = results.with_columns(\n",
    "                pl.col(f\"clicks_logcat_id_{banner}\").fill_null(0)\n",
    "        )\n",
    "        results = results.with_columns(\n",
    "                pl.col(f\"views_logcat_id_{banner}\").fill_null(0)\n",
    "        )\n",
    "\n",
    "\n",
    "    \n",
    "    # Заполняем NaN значеcния нулями\n",
    "    #results = results.fill_null(No)\n",
    "    \n",
    "    return results\n",
    "\n",
    "\n",
    "\n",
    "\n",
    "\n"
   ]
  },
  {
   "cell_type": "code",
   "execution_count": 15,
   "id": "6a677c17-61fb-41a7-9b08-b8c736017df6",
   "metadata": {},
   "outputs": [
    {
     "ename": "KeyboardInterrupt",
     "evalue": "",
     "output_type": "error",
     "traceback": [
      "\u001b[0;31m---------------------------------------------------------------------------\u001b[0m",
      "\u001b[0;31mKeyboardInterrupt\u001b[0m                         Traceback (most recent call last)",
      "Cell \u001b[0;32mIn[15], line 1\u001b[0m\n\u001b[0;32m----> 1\u001b[0m updated_df \u001b[38;5;241m=\u001b[39m \u001b[43mcompute_user_banner_stats_expanded\u001b[49m\u001b[43m(\u001b[49m\u001b[43mupdated_df\u001b[49m\u001b[43m)\u001b[49m\n",
      "Cell \u001b[0;32mIn[14], line 38\u001b[0m, in \u001b[0;36mcompute_user_banner_stats_expanded\u001b[0;34m(df)\u001b[0m\n\u001b[1;32m     36\u001b[0m \u001b[38;5;28;01mdef\u001b[39;00m \u001b[38;5;21mcompute_user_banner_stats_expanded\u001b[39m(df):\n\u001b[1;32m     37\u001b[0m     \u001b[38;5;66;03m# Сортировка по user_id, banner_code, и event_date, чтобы учитывать порядок событий для каждого баннера\u001b[39;00m\n\u001b[0;32m---> 38\u001b[0m     df \u001b[38;5;241m=\u001b[39m \u001b[43mdf\u001b[49m\u001b[38;5;241;43m.\u001b[39;49m\u001b[43msort\u001b[49m\u001b[43m(\u001b[49m\u001b[43m[\u001b[49m\u001b[38;5;124;43m\"\u001b[39;49m\u001b[38;5;124;43muser_id\u001b[39;49m\u001b[38;5;124;43m\"\u001b[39;49m\u001b[43m,\u001b[49m\u001b[43m \u001b[49m\u001b[38;5;124;43m\"\u001b[39;49m\u001b[38;5;124;43mbanner_code\u001b[39;49m\u001b[38;5;124;43m\"\u001b[39;49m\u001b[43m,\u001b[49m\u001b[43m \u001b[49m\u001b[38;5;124;43m\"\u001b[39;49m\u001b[38;5;124;43mevent_date\u001b[39;49m\u001b[38;5;124;43m\"\u001b[39;49m\u001b[43m]\u001b[49m\u001b[43m)\u001b[49m\n\u001b[1;32m     40\u001b[0m     \u001b[38;5;66;03m# Получаем уникальные значения banner_code\u001b[39;00m\n\u001b[1;32m     41\u001b[0m     unique_banners \u001b[38;5;241m=\u001b[39m df\u001b[38;5;241m.\u001b[39mselect(\u001b[38;5;124m\"\u001b[39m\u001b[38;5;124mbanner_code\u001b[39m\u001b[38;5;124m\"\u001b[39m)\u001b[38;5;241m.\u001b[39munique()\u001b[38;5;241m.\u001b[39mto_series()\n",
      "File \u001b[0;32m/opt/conda/lib/python3.8/site-packages/polars/dataframe/frame.py:5102\u001b[0m, in \u001b[0;36mDataFrame.sort\u001b[0;34m(self, by, descending, nulls_last, multithreaded, maintain_order, *more_by)\u001b[0m\n\u001b[1;32m   5006\u001b[0m \u001b[38;5;28;01mdef\u001b[39;00m \u001b[38;5;21msort\u001b[39m(\n\u001b[1;32m   5007\u001b[0m     \u001b[38;5;28mself\u001b[39m,\n\u001b[1;32m   5008\u001b[0m     by: IntoExpr \u001b[38;5;241m|\u001b[39m Iterable[IntoExpr],\n\u001b[0;32m   (...)\u001b[0m\n\u001b[1;32m   5013\u001b[0m     maintain_order: \u001b[38;5;28mbool\u001b[39m \u001b[38;5;241m=\u001b[39m \u001b[38;5;28;01mFalse\u001b[39;00m,\n\u001b[1;32m   5014\u001b[0m ) \u001b[38;5;241m-\u001b[39m\u001b[38;5;241m>\u001b[39m DataFrame:\n\u001b[1;32m   5015\u001b[0m \u001b[38;5;250m    \u001b[39m\u001b[38;5;124;03m\"\"\"\u001b[39;00m\n\u001b[1;32m   5016\u001b[0m \u001b[38;5;124;03m    Sort the dataframe by the given columns.\u001b[39;00m\n\u001b[1;32m   5017\u001b[0m \n\u001b[0;32m   (...)\u001b[0m\n\u001b[1;32m   5099\u001b[0m \u001b[38;5;124;03m    └──────┴─────┴─────┘\u001b[39;00m\n\u001b[1;32m   5100\u001b[0m \u001b[38;5;124;03m    \"\"\"\u001b[39;00m\n\u001b[1;32m   5101\u001b[0m     \u001b[38;5;28;01mreturn\u001b[39;00m (\n\u001b[0;32m-> 5102\u001b[0m         \u001b[38;5;28;43mself\u001b[39;49m\u001b[38;5;241;43m.\u001b[39;49m\u001b[43mlazy\u001b[49m\u001b[43m(\u001b[49m\u001b[43m)\u001b[49m\n\u001b[1;32m   5103\u001b[0m \u001b[43m        \u001b[49m\u001b[38;5;241;43m.\u001b[39;49m\u001b[43msort\u001b[49m\u001b[43m(\u001b[49m\n\u001b[1;32m   5104\u001b[0m \u001b[43m            \u001b[49m\u001b[43mby\u001b[49m\u001b[43m,\u001b[49m\n\u001b[1;32m   5105\u001b[0m \u001b[43m            \u001b[49m\u001b[38;5;241;43m*\u001b[39;49m\u001b[43mmore_by\u001b[49m\u001b[43m,\u001b[49m\n\u001b[1;32m   5106\u001b[0m \u001b[43m            \u001b[49m\u001b[43mdescending\u001b[49m\u001b[38;5;241;43m=\u001b[39;49m\u001b[43mdescending\u001b[49m\u001b[43m,\u001b[49m\n\u001b[1;32m   5107\u001b[0m \u001b[43m            \u001b[49m\u001b[43mnulls_last\u001b[49m\u001b[38;5;241;43m=\u001b[39;49m\u001b[43mnulls_last\u001b[49m\u001b[43m,\u001b[49m\n\u001b[1;32m   5108\u001b[0m \u001b[43m            \u001b[49m\u001b[43mmultithreaded\u001b[49m\u001b[38;5;241;43m=\u001b[39;49m\u001b[43mmultithreaded\u001b[49m\u001b[43m,\u001b[49m\n\u001b[1;32m   5109\u001b[0m \u001b[43m            \u001b[49m\u001b[43mmaintain_order\u001b[49m\u001b[38;5;241;43m=\u001b[39;49m\u001b[43mmaintain_order\u001b[49m\u001b[43m,\u001b[49m\n\u001b[1;32m   5110\u001b[0m \u001b[43m        \u001b[49m\u001b[43m)\u001b[49m\n\u001b[1;32m   5111\u001b[0m \u001b[43m        \u001b[49m\u001b[38;5;241;43m.\u001b[39;49m\u001b[43mcollect\u001b[49m\u001b[43m(\u001b[49m\u001b[43m_eager\u001b[49m\u001b[38;5;241;43m=\u001b[39;49m\u001b[38;5;28;43;01mTrue\u001b[39;49;00m\u001b[43m)\u001b[49m\n\u001b[1;32m   5112\u001b[0m     )\n",
      "File \u001b[0;32m/opt/conda/lib/python3.8/site-packages/polars/lazyframe/frame.py:2053\u001b[0m, in \u001b[0;36mLazyFrame.collect\u001b[0;34m(self, type_coercion, predicate_pushdown, projection_pushdown, simplify_expression, slice_pushdown, comm_subplan_elim, comm_subexpr_elim, cluster_with_columns, collapse_joins, no_optimization, streaming, engine, background, _eager, **_kwargs)\u001b[0m\n\u001b[1;32m   2051\u001b[0m \u001b[38;5;66;03m# Only for testing purposes\u001b[39;00m\n\u001b[1;32m   2052\u001b[0m callback \u001b[38;5;241m=\u001b[39m _kwargs\u001b[38;5;241m.\u001b[39mget(\u001b[38;5;124m\"\u001b[39m\u001b[38;5;124mpost_opt_callback\u001b[39m\u001b[38;5;124m\"\u001b[39m, callback)\n\u001b[0;32m-> 2053\u001b[0m \u001b[38;5;28;01mreturn\u001b[39;00m wrap_df(\u001b[43mldf\u001b[49m\u001b[38;5;241;43m.\u001b[39;49m\u001b[43mcollect\u001b[49m\u001b[43m(\u001b[49m\u001b[43mcallback\u001b[49m\u001b[43m)\u001b[49m)\n",
      "\u001b[0;31mKeyboardInterrupt\u001b[0m: "
     ]
    }
   ],
   "source": [
    "updated_df = compute_user_banner_stats_expanded(updated_df)"
   ]
  },
  {
   "cell_type": "code",
   "execution_count": 56,
   "id": "0ea87ae5-54eb-4d42-8a10-ba6ad20a1618",
   "metadata": {},
   "outputs": [],
   "source": [
    "updated_df = compute_user_platform_id_stats_expanded(updated_df)"
   ]
  },
  {
   "cell_type": "code",
   "execution_count": 57,
   "id": "7ecd0b45-86c1-4dd5-954d-9b34ffd83f66",
   "metadata": {},
   "outputs": [
    {
     "name": "stdout",
     "output_type": "stream",
     "text": [
      "Memory usage of dataframe train_subset is 23153.93 MB\n",
      "Memory usage of dataframe train_subset became 23153.93 MB\n"
     ]
    }
   ],
   "source": [
    "updated_df = reduce_memory_usage_pl(updated_df, \"train_subset\")"
   ]
  },
  {
   "cell_type": "code",
   "execution_count": 58,
   "id": "a522a749-d927-46c0-9b1c-358e02fabba0",
   "metadata": {},
   "outputs": [],
   "source": [
    "updated_df.write_parquet(\"data.parquet\")"
   ]
  },
  {
   "cell_type": "code",
   "execution_count": null,
   "id": "6c242437-edd0-4b35-8456-f8394ba3b660",
   "metadata": {},
   "outputs": [
    {
     "name": "stderr",
     "output_type": "stream",
     "text": [
      "  8%|▊         | 3/37 [03:45<42:31, 75.05s/it]"
     ]
    }
   ],
   "source": [
    "updated_df = compute_user_logcat_id_stats_expanded(updated_df)"
   ]
  },
  {
   "cell_type": "code",
   "execution_count": 102,
   "id": "b705fbc2-312e-43c4-8be9-305a7352ae2f",
   "metadata": {},
   "outputs": [
    {
     "ename": "NameError",
     "evalue": "name 'updated_df' is not defined",
     "output_type": "error",
     "traceback": [
      "\u001b[0;31m---------------------------------------------------------------------------\u001b[0m",
      "\u001b[0;31mNameError\u001b[0m                                 Traceback (most recent call last)",
      "Cell \u001b[0;32mIn[102], line 1\u001b[0m\n\u001b[0;32m----> 1\u001b[0m \u001b[43mupdated_df\u001b[49m\u001b[38;5;241m.\u001b[39mwrite_parquet(\u001b[38;5;124m\"\u001b[39m\u001b[38;5;124mdata.parquet\u001b[39m\u001b[38;5;124m\"\u001b[39m)\n",
      "\u001b[0;31mNameError\u001b[0m: name 'updated_df' is not defined"
     ]
    }
   ],
   "source": [
    "updated_df.write_parquet(\"data.parquet\")"
   ]
  },
  {
   "cell_type": "code",
   "execution_count": null,
   "id": "cf0a5f93-ea9b-4cc8-9e9d-d45f7d41cade",
   "metadata": {},
   "outputs": [],
   "source": [
    "updated_df = reduce_memory_usage_pl(updated_df, \"train_subset\")"
   ]
  },
  {
   "cell_type": "code",
   "execution_count": 104,
   "id": "d6f24579-6031-432b-86bc-fdd7ab2a6796",
   "metadata": {},
   "outputs": [],
   "source": [
    "\n",
    "\n",
    "\n",
    "import polars as pl\n",
    "import numpy as np\n",
    "updated_df = pl.read_parquet(\"data.parquet\") "
   ]
  },
  {
   "cell_type": "code",
   "execution_count": 106,
   "id": "dc5dd29d-67cc-4051-baf3-52663d77d45d",
   "metadata": {},
   "outputs": [
    {
     "name": "stderr",
     "output_type": "stream",
     "text": [
      "/tmp/ipykernel_158624/1591028037.py:14: DeprecationWarning: `DataFrame.with_row_count` is deprecated. Use `with_row_index` instead. Note that the default column name has changed from 'row_nr' to 'index'.\n",
      "  return df.with_row_count(id_column)\n"
     ]
    }
   ],
   "source": [
    "updated_df.head()\n",
    "\n",
    "def add_unique_id(df: pl.DataFrame, id_column: str = \"unique_id\") -> pl.DataFrame:\n",
    "    \"\"\"\n",
    "    Добавляет уникальный идентификатор для каждой строки в DataFrame.\n",
    "\n",
    "    Args:\n",
    "        df (pl.DataFrame): Исходный DataFrame.\n",
    "        id_column (str): Имя столбца с уникальными идентификаторами. По умолчанию 'unique_id'.\n",
    "\n",
    "    Returns:\n",
    "        pl.DataFrame: Новый DataFrame с добавленным уникальным идентификатором.\n",
    "    \"\"\"\n",
    "    return df.with_row_count(id_column)\n",
    "\n",
    "updated_df = add_unique_id(updated_df)\n",
    "\n"
   ]
  },
  {
   "cell_type": "code",
   "execution_count": 107,
   "id": "f6525f9e-65b2-436e-9756-a8d8f7a622a6",
   "metadata": {},
   "outputs": [],
   "source": [
    "updated_df.write_parquet(\"data_1.parquet\")"
   ]
  },
  {
   "cell_type": "code",
   "execution_count": 108,
   "id": "8e6a29e5-e52f-448e-8783-7c207a8859ce",
   "metadata": {},
   "outputs": [],
   "source": [
    "#################################################################################################\n",
    "\n",
    "\n",
    "updated_df = updated_df.select(['unique_id', 'user_id',\t'adv_campaign_id',\t'platform_id',\t\n",
    "                   'adv_creative_id',\t'event_date',\t'category_id', 'logcat_id',\n",
    "                   \n",
    "                   'banner_code',\t'is_main',\t'target',\t'test',\t'start_date',\t'end_date', 'vertical_id'])"
   ]
  },
  {
   "cell_type": "code",
   "execution_count": 109,
   "id": "1c4a0402-54ec-41d0-aea4-b18581ee174b",
   "metadata": {},
   "outputs": [],
   "source": [
    "from tqdm import tqdm\n",
    "\n",
    "import numpy as np\n",
    "\n",
    "def reduce_memory_usage_pl(df, name):\n",
    "    \"\"\" Reduce memory usage by polars dataframe {df} with name {name} by changing its data types.\n",
    "        Original pandas version of this function: https://www.kaggle.com/code/arjanso/reducing-dataframe-memory-size-by-65 \"\"\"\n",
    "    print(f\"Memory usage of dataframe {name} is {round(df.estimated_size('mb'), 2)} MB\")\n",
    "    Numeric_Int_types = [pl.Int8,pl.Int16,pl.Int32,pl.Int64]\n",
    "    Numeric_Float_types = [pl.Float32,pl.Float64]    \n",
    "    for col in df.columns:\n",
    "        col_type = df[col].dtype\n",
    "        c_min = df[col].min()\n",
    "        c_max = df[col].max()\n",
    "        if col_type in Numeric_Int_types:\n",
    "            if c_min > np.iinfo(np.int8).min and c_max < np.iinfo(np.int8).max:\n",
    "                df = df.with_columns(df[col].cast(pl.Int8))\n",
    "            elif c_min > np.iinfo(np.int16).min and c_max < np.iinfo(np.int16).max:\n",
    "                df = df.with_columns(df[col].cast(pl.Int16))\n",
    "            elif c_min > np.iinfo(np.int32).min and c_max < np.iinfo(np.int32).max:\n",
    "                df = df.with_columns(df[col].cast(pl.Int32))\n",
    "            elif c_min > np.iinfo(np.int64).min and c_max < np.iinfo(np.int64).max:\n",
    "                df = df.with_columns(df[col].cast(pl.Int64))\n",
    "        elif col_type in Numeric_Float_types:\n",
    "            if c_min > np.finfo(np.float32).min and c_max < np.finfo(np.float32).max:\n",
    "                df = df.with_columns(df[col].cast(pl.Float32))\n",
    "            else:\n",
    "                pass\n",
    "        elif col_type == pl.Utf8:\n",
    "            df = df.with_columns(df[col].cast(pl.Categorical))\n",
    "        else:\n",
    "            pass\n",
    "    print(f\"Memory usage of dataframe {name} became {round(df.estimated_size('mb'), 2)} MB\")\n",
    "    return df\n",
    "\n",
    "\n"
   ]
  },
  {
   "cell_type": "code",
   "execution_count": 110,
   "id": "8e112732-bd0c-4365-99cb-f13d11e54d50",
   "metadata": {},
   "outputs": [],
   "source": [
    "\n",
    "\n",
    "\n",
    "def compute_user_vertical_id_stats_expanded(df):\n",
    "    # Сортировка по user_id, banner_code, и event_date, чтобы учитывать порядок событий для каждого баннера\n",
    "    df = df.sort([\"user_id\", \"vertical_id\", \"event_date\"])\n",
    "    \n",
    "    # Получаем уникальные значения banner_code\n",
    "    unique_banners = df.select(\"vertical_id\").unique().to_series()\n",
    "    \n",
    "    # Создаем пустой DataFrame для хранения результатов\n",
    "    results = df\n",
    "    \n",
    "    # Для каждого уникального banner_code создаем отдельные кумулятивные столбцы для просмотров и кликов\n",
    "    for banner in unique_banners:\n",
    "        view_col = f\"views_vertical_id_{banner}\"\n",
    "        click_col = f\"clicks_vertical_id_{banner}\"\n",
    "        \n",
    "        # Добавляем кумулятивные просмотры и клики для текущего banner_code, исключая текущее наблюдение\n",
    "        results = results.with_columns([\n",
    "            # Кумулятивные просмотры для каждого баннера (target=0), исключая текущее наблюдение\n",
    "            pl.when(pl.col(\"vertical_id\") == banner)\n",
    "              .then((pl.col(\"target\") == 0).shift(1).cum_sum().over([\"user_id\", \"vertical_id\"]))\n",
    "              .otherwise(None)\n",
    "              .alias(view_col),\n",
    "            \n",
    "            # Кумулятивные клики для каждого баннера (target=1), исключая текущее наблюдение\n",
    "            pl.when(pl.col(\"vertical_id\") == banner)\n",
    "              .then((pl.col(\"target\") == 1).shift(1).cum_sum().over([\"user_id\", \"vertical_id\"]))\n",
    "              .otherwise(None)\n",
    "              .alias(click_col)\n",
    "        ])\n",
    "    for banner in tqdm(unique_banners):  \n",
    "        results = results.with_columns(\n",
    "            pl.col(f\"clicks_vertical_id_{banner}\").fill_null(strategy=\"forward\").over(\"user_id\")\n",
    "    )\n",
    "        results = results.with_columns(\n",
    "            pl.col(f\"views_vertical_id_{banner}\").fill_null(strategy=\"forward\").over(\"user_id\")\n",
    "    )\n",
    "    \n",
    "    \n",
    "        results = results.with_columns(\n",
    "                pl.col(f\"clicks_vertical_id_{banner}\").fill_null(0)\n",
    "        )\n",
    "        results = results.with_columns(\n",
    "                pl.col(f\"views_vertical_id_{banner}\").fill_null(0)\n",
    "        )\n",
    "\n",
    "\n",
    "    \n",
    "    # Заполняем NaN значения нулями\n",
    "    #results = results.fill_null(No)\n",
    "    \n",
    "    return results\n"
   ]
  },
  {
   "cell_type": "code",
   "execution_count": 111,
   "id": "a10d0103-2fdb-40f4-aff0-42c3ba788ce4",
   "metadata": {},
   "outputs": [
    {
     "name": "stderr",
     "output_type": "stream",
     "text": [
      "100%|██████████| 5/5 [00:26<00:00,  5.37s/it]\n"
     ]
    }
   ],
   "source": [
    "\n",
    "\n",
    "updated_df = compute_user_vertical_id_stats_expanded(updated_df)"
   ]
  },
  {
   "cell_type": "code",
   "execution_count": 112,
   "id": "294acad1-69df-446d-8c51-4ec895d0c928",
   "metadata": {},
   "outputs": [
    {
     "name": "stdout",
     "output_type": "stream",
     "text": [
      "Memory usage of dataframe train_subset is 8056.57 MB\n",
      "Memory usage of dataframe train_subset became 8056.57 MB\n"
     ]
    }
   ],
   "source": [
    "updated_df = reduce_memory_usage_pl(updated_df, \"train_subset\")"
   ]
  },
  {
   "cell_type": "code",
   "execution_count": 114,
   "id": "14d5820d-f7e4-4952-bc83-bb87414bd5cb",
   "metadata": {},
   "outputs": [],
   "source": [
    "\n",
    "\n",
    "\n",
    "def compute_user_category_id_stats_expanded(df):\n",
    "    # Сортировка по user_id, banner_code, и event_date, чтобы учитывать порядок событий для каждого баннера\n",
    "    df = df.sort([\"user_id\", \"category_id\", \"event_date\"])\n",
    "    \n",
    "    # Получаем уникальные значения banner_code\n",
    "    unique_banners = df.select(\"category_id\").unique().to_series()\n",
    "    \n",
    "    # Создаем пустой DataFrame для хранения результатов\n",
    "    results = df\n",
    "    \n",
    "    # Для каждого уникального banner_code создаем отдельные кумулятивные столбцы для просмотров и кликов\n",
    "    for banner in unique_banners:\n",
    "        view_col = f\"views_category_id_{banner}\"\n",
    "        click_col = f\"clicks_category_id_{banner}\"\n",
    "        \n",
    "        # Добавляем кумулятивные просмотры и клики для текущего banner_code, исключая текущее наблюдение\n",
    "        results = results.with_columns([\n",
    "            # Кумулятивные просмотры для каждого баннера (target=0), исключая текущее наблюдение\n",
    "            pl.when(pl.col(\"category_id\") == banner)\n",
    "              .then((pl.col(\"target\") == 0).shift(1).cum_sum().over([\"user_id\", \"category_id\"]))\n",
    "              .otherwise(None)\n",
    "              .alias(view_col),\n",
    "            \n",
    "            # Кумулятивные клики для каждого баннера (target=1), исключая текущее наблюдение\n",
    "            pl.when(pl.col(\"category_id\") == banner)\n",
    "              .then((pl.col(\"target\") == 1).shift(1).cum_sum().over([\"user_id\", \"category_id\"]))\n",
    "              .otherwise(None)\n",
    "              .alias(click_col)\n",
    "        ])\n",
    "    for banner in tqdm(unique_banners):  \n",
    "        results = results.with_columns(\n",
    "            pl.col(f\"clicks_category_id_{banner}\").fill_null(strategy=\"forward\").over(\"user_id\")\n",
    "    )\n",
    "        results = results.with_columns(\n",
    "            pl.col(f\"views_category_id_{banner}\").fill_null(strategy=\"forward\").over(\"user_id\")\n",
    "    )\n",
    "    \n",
    "    \n",
    "        results = results.with_columns(\n",
    "                pl.col(f\"clicks_category_id_{banner}\").fill_null(0)\n",
    "        )\n",
    "        results = results.with_columns(\n",
    "                pl.col(f\"views_category_id_{banner}\").fill_null(0)\n",
    "        )\n",
    "\n",
    "\n",
    "    \n",
    "    # Заполняем NaN значения нулями\n",
    "    #results = results.fill_null(No)\n",
    "    \n",
    "    return results\n",
    "# vertical_id\t"
   ]
  },
  {
   "cell_type": "code",
   "execution_count": 115,
   "id": "1dc7afbb-df78-423a-ab5e-55cbcaa31699",
   "metadata": {},
   "outputs": [
    {
     "name": "stderr",
     "output_type": "stream",
     "text": [
      "100%|██████████| 10/10 [00:51<00:00,  5.20s/it]\n"
     ]
    }
   ],
   "source": [
    "\n",
    "\n",
    "\n",
    "updated_df = compute_user_category_id_stats_expanded(updated_df)"
   ]
  },
  {
   "cell_type": "code",
   "execution_count": 116,
   "id": "75abf38c-5feb-46c9-acb5-4be597d44c1b",
   "metadata": {},
   "outputs": [
    {
     "name": "stdout",
     "output_type": "stream",
     "text": [
      "Memory usage of dataframe train_subset is 17101.07 MB\n",
      "Memory usage of dataframe train_subset became 17101.07 MB\n"
     ]
    }
   ],
   "source": [
    "updated_df = reduce_memory_usage_pl(updated_df, \"train_subset\")"
   ]
  },
  {
   "cell_type": "code",
   "execution_count": 117,
   "id": "bffbb3bd-76e5-463b-9667-68eb7c4080ec",
   "metadata": {},
   "outputs": [],
   "source": [
    "import polars as pl\n",
    "\n",
    "def calculate_stats(df):\n",
    "    # Сортируем данные по пользователю, объявлению и дате\n",
    "    df = df.sort([\"user_id\", \"adv_creative_id\", \"event_date\"])\n",
    "\n",
    "    # Группируем по пользователю и объявлению\n",
    "    df = df.with_columns(\n",
    "        [\n",
    "\n",
    "            pl.col(\"event_date\").shift(1).over([\"user_id\", \"adv_creative_id\"]).alias(\"prev_event_date\"),\n",
    "            pl.col(\"target\").shift(1).cum_sum().over([\"user_id\", \"adv_creative_id\"]).alias(\"clicks_so_far\").fill_null(-1),\n",
    "            (pl.col(\"target\").eq(0).shift(1).cum_sum().over([\"user_id\", \"adv_creative_id\"])).alias(\"views_so_far\").fill_null(-1),\n",
    "            \n",
    "            \n",
    "        ]\n",
    "    )\n",
    "\n",
    "    # Вычисляем количество дней с момента последнего клика\n",
    "    df = df.with_columns(\n",
    "        [\n",
    "            pl.when(pl.col(\"prev_event_date\").is_not_null())\n",
    "            .then(((pl.col(\"event_date\") - pl.col(\"prev_event_date\")).dt.total_days()) )\n",
    "            .otherwise(None)\n",
    "            .alias(\"days_since_last_click\"),\n",
    "        ]\n",
    "    )\n",
    "    \n",
    "    \n",
    "    \n",
    "    df = df.with_columns(\n",
    "        pl.when(pl.col(\"target\") <2)\n",
    "        .then(pl.col(\"days_since_last_click\"))\n",
    "        .otherwise(None)\n",
    "        .fill_null(-1)\n",
    "        .cast(pl.Int32)\n",
    "        .alias(\"days_since_last_view\")\n",
    "    )\n",
    "        \n",
    "\n",
    "    df = df.drop(['days_since_last_click', 'prev_event_date'])\n",
    "    \n",
    "\n",
    "    \n",
    "\n",
    "\n",
    "    return df"
   ]
  },
  {
   "cell_type": "code",
   "execution_count": 120,
   "id": "839fd9f5-3bd6-431b-8699-d58e42f2dede",
   "metadata": {},
   "outputs": [
    {
     "data": {
      "text/html": [
       "<div><style>\n",
       ".dataframe > thead > tr,\n",
       ".dataframe > tbody > tr {\n",
       "  text-align: right;\n",
       "  white-space: pre-wrap;\n",
       "}\n",
       "</style>\n",
       "<small>shape: (116_724_322, 45)</small><table border=\"1\" class=\"dataframe\"><thead><tr><th>unique_id</th><th>user_id</th><th>adv_campaign_id</th><th>platform_id</th><th>adv_creative_id</th><th>event_date</th><th>category_id</th><th>logcat_id</th><th>banner_code</th><th>is_main</th><th>target</th><th>test</th><th>start_date</th><th>end_date</th><th>vertical_id</th><th>views_vertical_id_9</th><th>clicks_vertical_id_9</th><th>views_vertical_id_3</th><th>clicks_vertical_id_3</th><th>views_vertical_id_4</th><th>clicks_vertical_id_4</th><th>views_vertical_id_5</th><th>clicks_vertical_id_5</th><th>views_vertical_id_8</th><th>clicks_vertical_id_8</th><th>views_category_id_6</th><th>clicks_category_id_6</th><th>views_category_id_3</th><th>clicks_category_id_3</th><th>views_category_id_9</th><th>clicks_category_id_9</th><th>views_category_id_7</th><th>clicks_category_id_7</th><th>views_category_id_1</th><th>clicks_category_id_1</th><th>views_category_id_4</th><th>clicks_category_id_4</th><th>views_category_id_2</th><th>clicks_category_id_2</th><th>views_category_id_5</th><th>clicks_category_id_5</th><th>views_category_id_11</th><th>clicks_category_id_11</th><th>views_category_id_8</th><th>clicks_category_id_8</th></tr><tr><td>u32</td><td>i32</td><td>i16</td><td>i8</td><td>i16</td><td>date</td><td>i8</td><td>i8</td><td>i8</td><td>bool</td><td>i8</td><td>i8</td><td>date</td><td>date</td><td>i8</td><td>u32</td><td>u32</td><td>u32</td><td>u32</td><td>u32</td><td>u32</td><td>u32</td><td>u32</td><td>u32</td><td>u32</td><td>u32</td><td>u32</td><td>u32</td><td>u32</td><td>u32</td><td>u32</td><td>u32</td><td>u32</td><td>u32</td><td>u32</td><td>u32</td><td>u32</td><td>u32</td><td>u32</td><td>u32</td><td>u32</td><td>u32</td><td>u32</td><td>u32</td><td>u32</td></tr></thead><tbody><tr><td>219</td><td>1</td><td>2652</td><td>1</td><td>3301</td><td>2024-09-01</td><td>1</td><td>35</td><td>7</td><td>true</td><td>0</td><td>0</td><td>2024-08-23</td><td>2024-09-05</td><td>9</td><td>0</td><td>0</td><td>0</td><td>0</td><td>82</td><td>0</td><td>186</td><td>0</td><td>89</td><td>0</td><td>0</td><td>0</td><td>0</td><td>0</td><td>0</td><td>0</td><td>0</td><td>0</td><td>0</td><td>0</td><td>0</td><td>0</td><td>0</td><td>0</td><td>0</td><td>0</td><td>0</td><td>0</td><td>0</td><td>0</td></tr><tr><td>220</td><td>1</td><td>2652</td><td>1</td><td>3301</td><td>2024-09-05</td><td>1</td><td>35</td><td>7</td><td>true</td><td>0</td><td>0</td><td>2024-08-23</td><td>2024-09-05</td><td>9</td><td>1</td><td>0</td><td>0</td><td>0</td><td>82</td><td>0</td><td>186</td><td>0</td><td>89</td><td>0</td><td>0</td><td>0</td><td>0</td><td>0</td><td>0</td><td>0</td><td>0</td><td>0</td><td>1</td><td>0</td><td>0</td><td>0</td><td>0</td><td>0</td><td>0</td><td>0</td><td>0</td><td>0</td><td>0</td><td>0</td></tr><tr><td>221</td><td>1</td><td>1063</td><td>1</td><td>1294</td><td>2024-09-09</td><td>1</td><td>35</td><td>7</td><td>true</td><td>0</td><td>0</td><td>2024-09-09</td><td>2024-09-15</td><td>9</td><td>2</td><td>0</td><td>0</td><td>0</td><td>82</td><td>0</td><td>186</td><td>0</td><td>89</td><td>0</td><td>0</td><td>0</td><td>0</td><td>0</td><td>0</td><td>0</td><td>0</td><td>0</td><td>2</td><td>0</td><td>0</td><td>0</td><td>0</td><td>0</td><td>0</td><td>0</td><td>0</td><td>0</td><td>0</td><td>0</td></tr><tr><td>223</td><td>1</td><td>563</td><td>1</td><td>2547</td><td>2024-09-10</td><td>1</td><td>35</td><td>7</td><td>true</td><td>0</td><td>0</td><td>2024-09-10</td><td>2024-09-16</td><td>9</td><td>4</td><td>0</td><td>0</td><td>0</td><td>82</td><td>0</td><td>186</td><td>0</td><td>89</td><td>0</td><td>0</td><td>0</td><td>0</td><td>0</td><td>0</td><td>0</td><td>0</td><td>0</td><td>3</td><td>0</td><td>0</td><td>0</td><td>0</td><td>0</td><td>0</td><td>0</td><td>0</td><td>0</td><td>0</td><td>0</td></tr><tr><td>222</td><td>1</td><td>1063</td><td>1</td><td>1294</td><td>2024-09-10</td><td>1</td><td>35</td><td>7</td><td>true</td><td>0</td><td>0</td><td>2024-09-09</td><td>2024-09-15</td><td>9</td><td>3</td><td>0</td><td>0</td><td>0</td><td>82</td><td>0</td><td>186</td><td>0</td><td>89</td><td>0</td><td>0</td><td>0</td><td>0</td><td>0</td><td>0</td><td>0</td><td>0</td><td>0</td><td>4</td><td>0</td><td>0</td><td>0</td><td>0</td><td>0</td><td>0</td><td>0</td><td>0</td><td>0</td><td>0</td><td>0</td></tr><tr><td>&hellip;</td><td>&hellip;</td><td>&hellip;</td><td>&hellip;</td><td>&hellip;</td><td>&hellip;</td><td>&hellip;</td><td>&hellip;</td><td>&hellip;</td><td>&hellip;</td><td>&hellip;</td><td>&hellip;</td><td>&hellip;</td><td>&hellip;</td><td>&hellip;</td><td>&hellip;</td><td>&hellip;</td><td>&hellip;</td><td>&hellip;</td><td>&hellip;</td><td>&hellip;</td><td>&hellip;</td><td>&hellip;</td><td>&hellip;</td><td>&hellip;</td><td>&hellip;</td><td>&hellip;</td><td>&hellip;</td><td>&hellip;</td><td>&hellip;</td><td>&hellip;</td><td>&hellip;</td><td>&hellip;</td><td>&hellip;</td><td>&hellip;</td><td>&hellip;</td><td>&hellip;</td><td>&hellip;</td><td>&hellip;</td><td>&hellip;</td><td>&hellip;</td><td>&hellip;</td><td>&hellip;</td><td>&hellip;</td><td>&hellip;</td></tr><tr><td>116724317</td><td>3263622</td><td>289</td><td>2</td><td>2633</td><td>2024-09-12</td><td>1</td><td>35</td><td>8</td><td>true</td><td>0</td><td>0</td><td>2024-09-10</td><td>2024-09-16</td><td>9</td><td>2</td><td>0</td><td>0</td><td>0</td><td>0</td><td>0</td><td>0</td><td>0</td><td>0</td><td>0</td><td>0</td><td>0</td><td>0</td><td>0</td><td>0</td><td>0</td><td>0</td><td>0</td><td>2</td><td>0</td><td>0</td><td>0</td><td>0</td><td>0</td><td>0</td><td>0</td><td>0</td><td>0</td><td>0</td><td>0</td></tr><tr><td>116724318</td><td>3263622</td><td>1993</td><td>2</td><td>3250</td><td>2024-09-12</td><td>1</td><td>35</td><td>8</td><td>true</td><td>0</td><td>0</td><td>2024-09-10</td><td>2024-09-16</td><td>9</td><td>3</td><td>0</td><td>0</td><td>0</td><td>0</td><td>0</td><td>0</td><td>0</td><td>0</td><td>0</td><td>0</td><td>0</td><td>0</td><td>0</td><td>0</td><td>0</td><td>0</td><td>0</td><td>3</td><td>0</td><td>0</td><td>0</td><td>0</td><td>0</td><td>0</td><td>0</td><td>0</td><td>0</td><td>0</td><td>0</td></tr><tr><td>116724319</td><td>3263622</td><td>1178</td><td>2</td><td>680</td><td>2024-09-13</td><td>1</td><td>35</td><td>5</td><td>false</td><td>0</td><td>0</td><td>2024-09-11</td><td>2024-09-17</td><td>9</td><td>4</td><td>0</td><td>0</td><td>0</td><td>0</td><td>0</td><td>0</td><td>0</td><td>0</td><td>0</td><td>0</td><td>0</td><td>0</td><td>0</td><td>0</td><td>0</td><td>0</td><td>0</td><td>4</td><td>0</td><td>0</td><td>0</td><td>0</td><td>0</td><td>0</td><td>0</td><td>0</td><td>0</td><td>0</td><td>0</td></tr><tr><td>116724320</td><td>3263622</td><td>691</td><td>2</td><td>1189</td><td>2024-09-13</td><td>1</td><td>35</td><td>5</td><td>false</td><td>0</td><td>0</td><td>2024-09-11</td><td>2024-09-17</td><td>9</td><td>5</td><td>0</td><td>0</td><td>0</td><td>0</td><td>0</td><td>0</td><td>0</td><td>0</td><td>0</td><td>0</td><td>0</td><td>0</td><td>0</td><td>0</td><td>0</td><td>0</td><td>0</td><td>5</td><td>0</td><td>0</td><td>0</td><td>0</td><td>0</td><td>0</td><td>0</td><td>0</td><td>0</td><td>0</td><td>0</td></tr><tr><td>116724321</td><td>3263622</td><td>289</td><td>2</td><td>863</td><td>2024-09-13</td><td>1</td><td>35</td><td>8</td><td>true</td><td>0</td><td>0</td><td>2024-09-10</td><td>2024-09-16</td><td>9</td><td>6</td><td>0</td><td>0</td><td>0</td><td>0</td><td>0</td><td>0</td><td>0</td><td>0</td><td>0</td><td>0</td><td>0</td><td>0</td><td>0</td><td>0</td><td>0</td><td>0</td><td>0</td><td>6</td><td>0</td><td>0</td><td>0</td><td>0</td><td>0</td><td>0</td><td>0</td><td>0</td><td>0</td><td>0</td><td>0</td></tr></tbody></table></div>"
      ],
      "text/plain": [
       "shape: (116_724_322, 45)\n",
       "┌───────────┬─────────┬────────────┬───────────┬───┬───────────┬───────────┬───────────┬───────────┐\n",
       "│ unique_id ┆ user_id ┆ adv_campai ┆ platform_ ┆ … ┆ views_cat ┆ clicks_ca ┆ views_cat ┆ clicks_ca │\n",
       "│ ---       ┆ ---     ┆ gn_id      ┆ id        ┆   ┆ egory_id_ ┆ tegory_id ┆ egory_id_ ┆ tegory_id │\n",
       "│ u32       ┆ i32     ┆ ---        ┆ ---       ┆   ┆ 11        ┆ _11       ┆ 8         ┆ _8        │\n",
       "│           ┆         ┆ i16        ┆ i8        ┆   ┆ ---       ┆ ---       ┆ ---       ┆ ---       │\n",
       "│           ┆         ┆            ┆           ┆   ┆ u32       ┆ u32       ┆ u32       ┆ u32       │\n",
       "╞═══════════╪═════════╪════════════╪═══════════╪═══╪═══════════╪═══════════╪═══════════╪═══════════╡\n",
       "│ 219       ┆ 1       ┆ 2652       ┆ 1         ┆ … ┆ 0         ┆ 0         ┆ 0         ┆ 0         │\n",
       "│ 220       ┆ 1       ┆ 2652       ┆ 1         ┆ … ┆ 0         ┆ 0         ┆ 0         ┆ 0         │\n",
       "│ 221       ┆ 1       ┆ 1063       ┆ 1         ┆ … ┆ 0         ┆ 0         ┆ 0         ┆ 0         │\n",
       "│ 223       ┆ 1       ┆ 563        ┆ 1         ┆ … ┆ 0         ┆ 0         ┆ 0         ┆ 0         │\n",
       "│ 222       ┆ 1       ┆ 1063       ┆ 1         ┆ … ┆ 0         ┆ 0         ┆ 0         ┆ 0         │\n",
       "│ …         ┆ …       ┆ …          ┆ …         ┆ … ┆ …         ┆ …         ┆ …         ┆ …         │\n",
       "│ 116724317 ┆ 3263622 ┆ 289        ┆ 2         ┆ … ┆ 0         ┆ 0         ┆ 0         ┆ 0         │\n",
       "│ 116724318 ┆ 3263622 ┆ 1993       ┆ 2         ┆ … ┆ 0         ┆ 0         ┆ 0         ┆ 0         │\n",
       "│ 116724319 ┆ 3263622 ┆ 1178       ┆ 2         ┆ … ┆ 0         ┆ 0         ┆ 0         ┆ 0         │\n",
       "│ 116724320 ┆ 3263622 ┆ 691        ┆ 2         ┆ … ┆ 0         ┆ 0         ┆ 0         ┆ 0         │\n",
       "│ 116724321 ┆ 3263622 ┆ 289        ┆ 2         ┆ … ┆ 0         ┆ 0         ┆ 0         ┆ 0         │\n",
       "└───────────┴─────────┴────────────┴───────────┴───┴───────────┴───────────┴───────────┴───────────┘"
      ]
     },
     "execution_count": 120,
     "metadata": {},
     "output_type": "execute_result"
    }
   ],
   "source": [
    "updated_df"
   ]
  },
  {
   "cell_type": "code",
   "execution_count": 121,
   "id": "41558052-53ca-41c8-b031-df4c1fc2dcdc",
   "metadata": {},
   "outputs": [],
   "source": [
    "updated_df.drop(['platform_id',\t'user_id', \t'adv_campaign_id',\t'platform_id',\t\n",
    "                   'adv_creative_id',\n",
    "                  'event_date',\t'category_id', 'logcat_id',\n",
    "                   \n",
    "                   'banner_code',\t'is_main',\t'target',\t'test',\t'start_date',\t'end_date', 'vertical_id']).write_parquet(\"data_2.parquet\")"
   ]
  },
  {
   "cell_type": "code",
   "execution_count": 122,
   "id": "91499a1e-fe0e-408a-9f38-fded5506ff86",
   "metadata": {},
   "outputs": [
    {
     "data": {
      "text/plain": [
       "45593"
      ]
     },
     "execution_count": 122,
     "metadata": {},
     "output_type": "execute_result"
    }
   ],
   "source": [
    "import gc\n",
    "gc.collect()"
   ]
  },
  {
   "cell_type": "code",
   "execution_count": null,
   "id": "48308a93-6113-4f1a-8868-cb41c2bf6d04",
   "metadata": {},
   "outputs": [],
   "source": []
  },
  {
   "cell_type": "code",
   "execution_count": 1,
   "id": "b27034c2-9682-4b9e-a102-c0a37612e1f3",
   "metadata": {},
   "outputs": [],
   "source": [
    "import polars as pl\n",
    "import numpy as np"
   ]
  },
  {
   "cell_type": "code",
   "execution_count": 2,
   "id": "0271c087-a00e-4295-8b1a-48e80eb1492e",
   "metadata": {},
   "outputs": [],
   "source": [
    "def reduce_memory_usage_pl(df, name):\n",
    "    \"\"\" Reduce memory usage by polars dataframe {df} with name {name} by changing its data types.\n",
    "        Original pandas version of this function: https://www.kaggle.com/code/arjanso/reducing-dataframe-memory-size-by-65 \"\"\"\n",
    "    print(f\"Memory usage of dataframe {name} is {round(df.estimated_size('mb'), 2)} MB\")\n",
    "    Numeric_Int_types = [pl.Int8,pl.Int16,pl.Int32,pl.Int64]\n",
    "    Numeric_Float_types = [pl.Float32,pl.Float64]    \n",
    "    for col in df.columns:\n",
    "        col_type = df[col].dtype\n",
    "        c_min = df[col].min()\n",
    "        c_max = df[col].max()\n",
    "        if col_type in Numeric_Int_types:\n",
    "            if c_min > np.iinfo(np.int8).min and c_max < np.iinfo(np.int8).max:\n",
    "                df = df.with_columns(df[col].cast(pl.Int8))\n",
    "            elif c_min > np.iinfo(np.int16).min and c_max < np.iinfo(np.int16).max:\n",
    "                df = df.with_columns(df[col].cast(pl.Int16))\n",
    "            elif c_min > np.iinfo(np.int32).min and c_max < np.iinfo(np.int32).max:\n",
    "                df = df.with_columns(df[col].cast(pl.Int32))\n",
    "            elif c_min > np.iinfo(np.int64).min and c_max < np.iinfo(np.int64).max:\n",
    "                df = df.with_columns(df[col].cast(pl.Int64))\n",
    "        elif col_type in Numeric_Float_types:\n",
    "            if c_min > np.finfo(np.float32).min and c_max < np.finfo(np.float32).max:\n",
    "                df = df.with_columns(df[col].cast(pl.Float32))\n",
    "            else:\n",
    "                pass\n",
    "        elif col_type == pl.Utf8:\n",
    "            df = df.with_columns(df[col].cast(pl.Categorical))\n",
    "        else:\n",
    "            pass\n",
    "    print(f\"Memory usage of dataframe {name} became {round(df.estimated_size('mb'), 2)} MB\")\n",
    "    return df\n",
    "\n"
   ]
  },
  {
   "cell_type": "code",
   "execution_count": 3,
   "id": "58255e96-3d5a-4c13-b353-65a7569d705b",
   "metadata": {},
   "outputs": [],
   "source": [
    "updated_df = pl.scan_parquet(\"data_1.parquet\").join(pl.scan_parquet(\"data_2.parquet\"), how='left', on=['unique_id'])"
   ]
  },
  {
   "cell_type": "code",
   "execution_count": 6,
   "id": "0f8c1be3-8374-42f4-8751-07daf7a1ba25",
   "metadata": {},
   "outputs": [
    {
     "data": {
      "text/plain": [
       "0"
      ]
     },
     "execution_count": 6,
     "metadata": {},
     "output_type": "execute_result"
    }
   ],
   "source": [
    "#updated_df\n",
    "import gc\n",
    "gc.collect()"
   ]
  },
  {
   "cell_type": "code",
   "execution_count": null,
   "id": "0c5c2016-faac-4bc7-8b8e-41b714d53d2c",
   "metadata": {},
   "outputs": [],
   "source": []
  },
  {
   "cell_type": "code",
   "execution_count": 7,
   "id": "a43f96b8-6279-4dd9-8bfc-dbd1a1703a34",
   "metadata": {},
   "outputs": [
    {
     "data": {
      "text/html": [
       "<i>naive plan: (run <b>LazyFrame.explain(optimized=True)</b> to see the optimized plan)</i>\n",
       "    <p></p>\n",
       "    <div>FILTER [(col(\"test\")) == (1)] FROM<p></p>  LEFT JOIN:<p></p>  LEFT PLAN ON: [col(\"unique_id\")]<p></p>    Parquet SCAN [data_1.parquet]<p></p>    PROJECT */138 COLUMNS<p></p>  RIGHT PLAN ON: [col(\"unique_id\")]<p></p>    Parquet SCAN [data_2.parquet]<p></p>    PROJECT */31 COLUMNS<p></p>  END LEFT JOIN</div>"
      ],
      "text/plain": [
       "<LazyFrame at 0x7F9480030C10>"
      ]
     },
     "execution_count": 7,
     "metadata": {},
     "output_type": "execute_result"
    }
   ],
   "source": [
    "# updated_df[updated_df.select(pl.col('target') == 1)]\n",
    "\n",
    "updated_df.filter(pl.col(\"test\") == 1)"
   ]
  },
  {
   "cell_type": "code",
   "execution_count": null,
   "id": "d3252bd3-c354-492e-88d2-852e24fb713f",
   "metadata": {},
   "outputs": [],
   "source": []
  },
  {
   "cell_type": "code",
   "execution_count": 8,
   "id": "42123e90-4774-431b-b477-375b52cb7b93",
   "metadata": {},
   "outputs": [],
   "source": [
    "import numpy as np"
   ]
  },
  {
   "cell_type": "code",
   "execution_count": 9,
   "id": "8f0e686c-414d-4517-a424-96b26edb51c0",
   "metadata": {},
   "outputs": [],
   "source": [
    "import datetime"
   ]
  },
  {
   "cell_type": "code",
   "execution_count": 12,
   "id": "76e4835c-78c0-4f22-9a4c-f00ab9a3087d",
   "metadata": {},
   "outputs": [],
   "source": [
    "test_data = updated_df.filter(pl.col(\"test\") == 1).drop([\"test\"]).collect()"
   ]
  },
  {
   "cell_type": "code",
   "execution_count": 15,
   "id": "9a0e8fe3-792d-4ac4-a3d2-600ecdabbd8d",
   "metadata": {},
   "outputs": [],
   "source": [
    "non_null_df = updated_df.filter(( pl.col(\"target\") == 1)).drop([\"test\"]).collect()"
   ]
  },
  {
   "cell_type": "code",
   "execution_count": null,
   "id": "0f090f3f-4e72-4748-b470-b067f4e81e98",
   "metadata": {},
   "outputs": [],
   "source": []
  },
  {
   "cell_type": "code",
   "execution_count": 16,
   "id": "3f5fa92e-3331-4532-a645-f53095e66483",
   "metadata": {},
   "outputs": [],
   "source": [
    "test_data.write_parquet(\"test_batch.parquet\")\n",
    "non_null_df.write_parquet(\"positive_batch.parquet\")"
   ]
  },
  {
   "cell_type": "code",
   "execution_count": 17,
   "id": "f5f3b790-f456-4ec9-9c71-7ff608afdea1",
   "metadata": {},
   "outputs": [],
   "source": [
    "del test_data, non_null_df"
   ]
  },
  {
   "cell_type": "code",
   "execution_count": 18,
   "id": "1a7b8631-5788-4f7d-96df-a91dadfb1ec1",
   "metadata": {},
   "outputs": [],
   "source": [
    "del updated_df"
   ]
  },
  {
   "cell_type": "code",
   "execution_count": 19,
   "id": "d060eb16-c53d-49b9-b571-ea2f85280eb7",
   "metadata": {},
   "outputs": [],
   "source": [
    "import polars as pl"
   ]
  },
  {
   "cell_type": "code",
   "execution_count": 20,
   "id": "4896115a-ed68-47a3-b19b-29e03c7d05ad",
   "metadata": {},
   "outputs": [],
   "source": [
    "null_df = pl.read_parquet(\"data_1.parquet\")\\\n",
    ".sample(fraction=0.11, with_replacement=False, shuffle=True)\n",
    "\n",
    "\n",
    "#pl.read_parquet(\"data.parquet\").sample(fraction=0.07, with_replacement=False, shuffle=True)"
   ]
  },
  {
   "cell_type": "code",
   "execution_count": 21,
   "id": "25287b71-e8d3-45a7-ae1c-0893a63870ca",
   "metadata": {},
   "outputs": [],
   "source": [
    "#fix\n",
    "null_df = null_df.join(pl.read_parquet(\"data_2.parquet\"), how='left', on=['unique_id'])"
   ]
  },
  {
   "cell_type": "code",
   "execution_count": null,
   "id": "1c695ed8-f8b0-408c-b9e4-1527c5130054",
   "metadata": {},
   "outputs": [],
   "source": []
  },
  {
   "cell_type": "code",
   "execution_count": 22,
   "id": "fa82e452-62c8-4a75-a600-06bc9f5b7add",
   "metadata": {},
   "outputs": [],
   "source": [
    "null_df = null_df.filter(( pl.col(\"target\") == 0) & ( pl.col(\"test\") == 0))"
   ]
  },
  {
   "cell_type": "code",
   "execution_count": 23,
   "id": "fa3d9ec1-c00c-49fe-b13a-022a8c4abb6f",
   "metadata": {},
   "outputs": [],
   "source": [
    "train_data = pl.concat([null_df.drop([\"test\"]), pl.read_parquet(\"positive_batch.parquet\")])"
   ]
  },
  {
   "cell_type": "code",
   "execution_count": 24,
   "id": "1f01af19-e70b-4536-bc4a-adf500293134",
   "metadata": {},
   "outputs": [],
   "source": [
    "test_data = pl.read_parquet(\"test_batch.parquet\")"
   ]
  },
  {
   "cell_type": "code",
   "execution_count": 25,
   "id": "3ff29ac0-e7ca-4333-b991-f19c046f1519",
   "metadata": {},
   "outputs": [
    {
     "data": {
      "text/plain": [
       "(13170030, 167)"
      ]
     },
     "execution_count": 25,
     "metadata": {},
     "output_type": "execute_result"
    }
   ],
   "source": [
    "train_data.shape"
   ]
  },
  {
   "cell_type": "code",
   "execution_count": 26,
   "id": "302c9e80-298a-47d9-ac3e-bd67df33c8c1",
   "metadata": {},
   "outputs": [
    {
     "data": {
      "text/plain": [
       "(1983287, 167)"
      ]
     },
     "execution_count": 26,
     "metadata": {},
     "output_type": "execute_result"
    }
   ],
   "source": [
    "test_data.shape"
   ]
  },
  {
   "cell_type": "code",
   "execution_count": 27,
   "id": "26e95bb0-9dce-4bc2-aee6-036e299bc74d",
   "metadata": {},
   "outputs": [
    {
     "data": {
      "text/html": [
       "<div><style>\n",
       ".dataframe > thead > tr,\n",
       ".dataframe > tbody > tr {\n",
       "  text-align: right;\n",
       "  white-space: pre-wrap;\n",
       "}\n",
       "</style>\n",
       "<small>shape: (1, 1)</small><table border=\"1\" class=\"dataframe\"><thead><tr><th>target</th></tr><tr><td>f64</td></tr></thead><tbody><tr><td>0.046782</td></tr></tbody></table></div>"
      ],
      "text/plain": [
       "shape: (1, 1)\n",
       "┌──────────┐\n",
       "│ target   │\n",
       "│ ---      │\n",
       "│ f64      │\n",
       "╞══════════╡\n",
       "│ 0.046782 │\n",
       "└──────────┘"
      ]
     },
     "execution_count": 27,
     "metadata": {},
     "output_type": "execute_result"
    }
   ],
   "source": [
    "train_data.select('target').mean()"
   ]
  },
  {
   "cell_type": "code",
   "execution_count": null,
   "id": "614a445c-987d-4c97-ad66-bf16a34a9ab2",
   "metadata": {},
   "outputs": [],
   "source": []
  },
  {
   "cell_type": "code",
   "execution_count": 28,
   "id": "3883ae47-7f78-436f-b448-6dfa764cd028",
   "metadata": {},
   "outputs": [],
   "source": [
    "def stratified_sampling(df, ratio0, ratio1):\n",
    "    # Разделяем датафрейм по классам\n",
    "#     df_class_0 = df.filter(pl.col(\"target\") == 0)\n",
    "#     df_class_1 = df.filter(pl.col(\"target\") == 1)\n",
    "    \n",
    "    # Вычисляем количество примеров, которое нужно выбрать для каждого класса\n",
    "    sample_size_0 = int(len(df.filter(pl.col(\"target\") == 0)) * ratio0 / 100)\n",
    "    sample_size_1 = int(len(df.filter(pl.col(\"target\") == 1)) * ratio1 / 100)\n",
    "    \n",
    "\n",
    "    # Объединяем результаты и возвращаем финальный датафрейм\n",
    "    sampled_df = pl.concat([ df.filter(pl.col(\"target\") == 0).sample(n=sample_size_0, with_replacement=False), \n",
    "                            df.filter(pl.col(\"target\") == 1).sample(n=sample_size_1, with_replacement=False)])\n",
    "    \n",
    "    return sampled_df"
   ]
  },
  {
   "cell_type": "code",
   "execution_count": 31,
   "id": "f5e4ce51-33f6-410a-a8e0-2cdad5155af0",
   "metadata": {},
   "outputs": [],
   "source": [
    "log_cats = sorted([i.split(\"_\")[-1] for i in train_data.columns  if \"views_logcat\" in i ])\n",
    "    "
   ]
  },
  {
   "cell_type": "code",
   "execution_count": 32,
   "id": "cbf3a336-f352-4d0f-aab9-df9027b9275f",
   "metadata": {},
   "outputs": [],
   "source": [
    "def compute_days_difference(df):\n",
    "    # Убедимся, что start_date и event_date в формате даты\n",
    "#     df = df.with_columns([\n",
    "#         #pl.col(\"start_date\").str.strptime(pl.Date, \"%Y-%m-%d\"),\n",
    "#         pl.col(\"end_date\").str.strptime(pl.Date, \"%Y-%m-%d\")\n",
    "#     ])\n",
    "    \n",
    "    # Вычисляем разницу в днях\n",
    "    df = df.with_columns(\n",
    "        (pl.col(\"event_date\") - pl.col(\"start_date\")).dt.total_days().alias(\"days_difference_passed\")\n",
    "       \n",
    "    )\n",
    "    \n",
    "    df = df.with_columns(\n",
    "       (pl.col(\"end_date\") - pl.col(\"event_date\")).dt.total_days().alias(\"days_difference_remained\")\n",
    "       \n",
    "    )\n",
    "    \n",
    "    df = df.with_columns(\n",
    "        (pl.col(\"end_date\") - pl.col(\"start_date\")).dt.total_days().alias(\"days_difference_total\")\n",
    "       \n",
    "    )\n",
    "    \n",
    "     \n",
    "       \n",
    "    \n",
    "    \n",
    "    \n",
    "    return df"
   ]
  },
  {
   "cell_type": "code",
   "execution_count": 33,
   "id": "577ba586-3956-43be-ad24-f07a4e82187b",
   "metadata": {},
   "outputs": [],
   "source": [
    "train_data = compute_days_difference(train_data)\n",
    "\n",
    "test_data  =  compute_days_difference(test_data)"
   ]
  },
  {
   "cell_type": "code",
   "execution_count": 34,
   "id": "2c976d04-8ff0-4ccd-94dc-6a03c899c719",
   "metadata": {},
   "outputs": [],
   "source": [
    "train_data = train_data.with_columns((pl.col(\"daily_clicks_per_ads_loc\")/pl.col(\"daily_views_per_ads_loc\"))   .alias(\"ctr_per_ads_loc\"))\n",
    "\n",
    "train_data = train_data.with_columns((pl.col(\"remaining_budget\")/pl.col(\"goal_budget\"))   .alias(\"left_budget_ratio\"))\n",
    "\n",
    "\n",
    "\n",
    "test_data = test_data.with_columns((pl.col(\"daily_clicks_per_ads_loc\")/pl.col(\"daily_views_per_ads_loc\"))   .alias(\"ctr_per_ads_loc\"))\n",
    "\n",
    "test_data = test_data.with_columns((pl.col(\"remaining_budget\")/pl.col(\"goal_budget\"))   .alias(\"left_budget_ratio\"))"
   ]
  },
  {
   "cell_type": "code",
   "execution_count": 35,
   "id": "a681c320-82ce-461a-a06b-1136d0019b77",
   "metadata": {},
   "outputs": [],
   "source": [
    "from tqdm import tqdm"
   ]
  },
  {
   "cell_type": "code",
   "execution_count": 37,
   "id": "76396398-6031-44b9-9491-61655c3912bf",
   "metadata": {},
   "outputs": [],
   "source": [
    "\n",
    "# дописать \n",
    "\n",
    "def compute_ctr_logcats(df):\n",
    "    # Вычисляем CTR с учетом деления на ноль\n",
    "    for i in tqdm(log_cats):\n",
    "        df = df.with_columns(\n",
    "            (\n",
    "                pl.when(pl.col(f\"views_logcat_id_{i}\") > 0)\n",
    "                .then(pl.col(f\"clicks_logcat_id_{i}\") / pl.col(f\"views_logcat_id_{i}\"))\n",
    "                .otherwise(0)\n",
    "                .alias(f\"ctr_logcat_id_{i}\")\n",
    "            )\n",
    "        )\n",
    "    return df\n"
   ]
  },
  {
   "cell_type": "code",
   "execution_count": 39,
   "id": "4791611f-c2aa-4921-a8a3-8c9af0c43ccf",
   "metadata": {},
   "outputs": [],
   "source": [
    "\n",
    "# дописать \n",
    "\n",
    "def compute_ctr(df):\n",
    "    # Вычисляем CTR с учетом деления на ноль\n",
    "    for i in tqdm(range(1, 9)):\n",
    "        df = df.with_columns(\n",
    "            (\n",
    "                pl.when(pl.col(f\"views_banner_{i}\") > 0)\n",
    "                .then(pl.col(f\"clicks_banner_{i}\") / pl.col(f\"views_banner_{i}\"))\n",
    "                .otherwise(0)\n",
    "                .alias(f\"ctr_banner_{i}\")\n",
    "            )\n",
    "        )\n",
    "    return df\n",
    "\n"
   ]
  },
  {
   "cell_type": "code",
   "execution_count": 40,
   "id": "97108471-bc98-4476-8360-5214b92f8595",
   "metadata": {},
   "outputs": [
    {
     "name": "stderr",
     "output_type": "stream",
     "text": [
      "100%|██████████| 8/8 [00:00<00:00, 216.47it/s]\n",
      "100%|██████████| 8/8 [00:00<00:00, 69.43it/s]\n"
     ]
    }
   ],
   "source": [
    "test_data = compute_ctr(test_data)\n",
    "\n",
    "train_data = compute_ctr(train_data)\n"
   ]
  },
  {
   "cell_type": "code",
   "execution_count": 42,
   "id": "58a45f46-9001-46ec-b23e-68b4da9848fa",
   "metadata": {},
   "outputs": [],
   "source": [
    "#train_data.select(\"platform_id\").unique()\n",
    "\n",
    "# дописать \n",
    "\n",
    "\n",
    "\n",
    "def compute_ctr_vertical(df):\n",
    "    # Вычисляем CTR с учетом деления на ноль\n",
    "    for i in tqdm([3,4,5,8,9]):\n",
    "        df = df.with_columns(\n",
    "            (\n",
    "                pl.when(pl.col(f\"views_vertical_id_{i}\") > 0)\n",
    "                .then(pl.col(f\"clicks_vertical_id_{i}\") / pl.col(f\"views_vertical_id_{i}\"))\n",
    "                .otherwise(0)\n",
    "                .alias(f\"ctr_vertical_id_{i}\")\n",
    "            )\n",
    "        )\n",
    "    return df\n"
   ]
  },
  {
   "cell_type": "code",
   "execution_count": 43,
   "id": "e2cc76a8-799a-42c9-9eed-67159e28670c",
   "metadata": {},
   "outputs": [
    {
     "name": "stderr",
     "output_type": "stream",
     "text": [
      "100%|██████████| 5/5 [00:00<00:00, 258.04it/s]\n",
      "100%|██████████| 5/5 [00:00<00:00, 78.37it/s]\n"
     ]
    }
   ],
   "source": [
    "test_data = compute_ctr_vertical(test_data)\n",
    "\n",
    "train_data = compute_ctr_vertical(train_data)\n"
   ]
  },
  {
   "cell_type": "code",
   "execution_count": 44,
   "id": "abca5dc1-1c96-4736-8aaf-c3705e5078e7",
   "metadata": {},
   "outputs": [],
   "source": [
    "\n",
    "def compute_ctr_category(df):\n",
    "    # Вычисляем CTR с учетом деления на ноль\n",
    "    for i in tqdm([1,2,3,4,5,6,7,8,9,11]):\n",
    "        df = df.with_columns(\n",
    "            (\n",
    "                pl.when(pl.col(f\"views_category_id_{i}\") > 0)\n",
    "                .then(pl.col(f\"clicks_category_id_{i}\") / pl.col(f\"views_category_id_{i}\"))\n",
    "                .otherwise(0)\n",
    "                .alias(f\"ctr_category_id_{i}\")\n",
    "            )\n",
    "        )\n",
    "    return df\n"
   ]
  },
  {
   "cell_type": "code",
   "execution_count": 45,
   "id": "dd8e0065-5bbe-4c81-ad03-9dde92bed5b6",
   "metadata": {},
   "outputs": [
    {
     "name": "stderr",
     "output_type": "stream",
     "text": [
      "100%|██████████| 10/10 [00:00<00:00, 293.57it/s]\n",
      "100%|██████████| 10/10 [00:00<00:00, 85.34it/s]\n"
     ]
    }
   ],
   "source": [
    "test_data = compute_ctr_category(test_data)\n",
    "\n",
    "train_data = compute_ctr_category(train_data)\n"
   ]
  },
  {
   "cell_type": "code",
   "execution_count": 46,
   "id": "ff26d184-1df2-4119-8f6b-b4f47e2ca700",
   "metadata": {},
   "outputs": [],
   "source": [
    "\n",
    "def compute_ctr_views(df):\n",
    "    # Вычисляем CTR с учетом деления на ноль\n",
    "    for i in tqdm(range(1, 5)):\n",
    "        df = df.with_columns(\n",
    "            (\n",
    "                pl.when(pl.col(f\"views_platform_id_{i}\") > 0)\n",
    "                .then(pl.col(f\"clicks_platform_id_{i}\") / pl.col(f\"views_platform_id_{i}\"))\n",
    "                .otherwise(0)\n",
    "                .alias(f\"ctr_platform_id_{i}\")\n",
    "            )\n",
    "        )\n",
    "    return df\n"
   ]
  },
  {
   "cell_type": "code",
   "execution_count": 50,
   "id": "c1a19064-53b7-4ec3-9fd2-2f06189738b5",
   "metadata": {},
   "outputs": [
    {
     "data": {
      "text/html": [
       "<div><style>\n",
       ".dataframe > thead > tr,\n",
       ".dataframe > tbody > tr {\n",
       "  text-align: right;\n",
       "  white-space: pre-wrap;\n",
       "}\n",
       "</style>\n",
       "<small>shape: (5, 195)</small><table border=\"1\" class=\"dataframe\"><thead><tr><th>unique_id</th><th>user_id</th><th>adv_campaign_id</th><th>platform_id</th><th>adv_creative_id</th><th>event_date</th><th>banner_code</th><th>is_main</th><th>target</th><th>start_date</th><th>end_date</th><th>goal_cost</th><th>goal_budget</th><th>location_id</th><th>logcat_id</th><th>vertical_id</th><th>category_id</th><th>cumulative_cost</th><th>remaining_budget</th><th>ad_click_count</th><th>user_ad_click_count</th><th>ad_click_count_per_ads</th><th>user_ad_click_count_per_ads</th><th>daily_views_per_campaign</th><th>daily_clicks_per_campaign</th><th>ctr_daily_pred_per_campaign</th><th>daily_views_per_ads</th><th>daily_clicks_per_ads</th><th>ctr_daily_pred_per_ads</th><th>event_date_right</th><th>daily_views_per_ads_loc</th><th>daily_clicks_per_ads_loc</th><th>cumulative_adv_peruser_views</th><th>cumulative_adv_all_views</th><th>cumulative_adv_peruser_views_ads</th><th>cumulative_adv_all_views_ads</th><th>unique_microcat_count</th><th>&hellip;</th><th>clicks_category_id_4</th><th>views_category_id_2</th><th>clicks_category_id_2</th><th>views_category_id_5</th><th>clicks_category_id_5</th><th>views_category_id_11</th><th>clicks_category_id_11</th><th>views_category_id_8</th><th>clicks_category_id_8</th><th>days_difference_passed</th><th>days_difference_remained</th><th>days_difference_total</th><th>ctr_per_ads_loc</th><th>left_budget_ratio</th><th>ctr_banner_1</th><th>ctr_banner_2</th><th>ctr_banner_3</th><th>ctr_banner_4</th><th>ctr_banner_5</th><th>ctr_banner_6</th><th>ctr_banner_7</th><th>ctr_banner_8</th><th>ctr_vertical_id_3</th><th>ctr_vertical_id_4</th><th>ctr_vertical_id_5</th><th>ctr_vertical_id_8</th><th>ctr_vertical_id_9</th><th>ctr_category_id_1</th><th>ctr_category_id_2</th><th>ctr_category_id_3</th><th>ctr_category_id_4</th><th>ctr_category_id_5</th><th>ctr_category_id_6</th><th>ctr_category_id_7</th><th>ctr_category_id_8</th><th>ctr_category_id_9</th><th>ctr_category_id_11</th></tr><tr><td>u32</td><td>i32</td><td>i16</td><td>i8</td><td>i16</td><td>date</td><td>i8</td><td>bool</td><td>i8</td><td>date</td><td>date</td><td>f32</td><td>f32</td><td>i8</td><td>i8</td><td>i8</td><td>i8</td><td>f32</td><td>f32</td><td>i16</td><td>i8</td><td>i16</td><td>i8</td><td>i32</td><td>i16</td><td>f64</td><td>i32</td><td>i16</td><td>f64</td><td>date</td><td>i32</td><td>i16</td><td>i8</td><td>i32</td><td>i8</td><td>i32</td><td>u32</td><td>&hellip;</td><td>u32</td><td>u32</td><td>u32</td><td>u32</td><td>u32</td><td>u32</td><td>u32</td><td>u32</td><td>u32</td><td>i64</td><td>i64</td><td>i64</td><td>f64</td><td>f32</td><td>f64</td><td>f64</td><td>f64</td><td>f64</td><td>f64</td><td>f64</td><td>f64</td><td>f64</td><td>f64</td><td>f64</td><td>f64</td><td>f64</td><td>f64</td><td>f64</td><td>f64</td><td>f64</td><td>f64</td><td>f64</td><td>f64</td><td>f64</td><td>f64</td><td>f64</td><td>f64</td></tr></thead><tbody><tr><td>59906657</td><td>1674311</td><td>131</td><td>2</td><td>358</td><td>2024-09-03</td><td>8</td><td>true</td><td>0</td><td>2024-08-29</td><td>2024-09-04</td><td>10.017113</td><td>43233.238281</td><td>60</td><td>18</td><td>5</td><td>4</td><td>116.895134</td><td>43116.34375</td><td>294</td><td>0</td><td>254</td><td>0</td><td>30959</td><td>117</td><td>0.003779</td><td>30959</td><td>117</td><td>0.003779</td><td>2024-09-02</td><td>31076</td><td>117</td><td>1</td><td>53958</td><td>1</td><td>53958</td><td>6260</td><td>&hellip;</td><td>0</td><td>1</td><td>0</td><td>0</td><td>0</td><td>0</td><td>0</td><td>0</td><td>0</td><td>5</td><td>1</td><td>6</td><td>0.003765</td><td>0.997296</td><td>0.0</td><td>0.0</td><td>0.0</td><td>0.0</td><td>0.0</td><td>0.0</td><td>0.0</td><td>0.0</td><td>0.0</td><td>0.0</td><td>0.0</td><td>0.0</td><td>0.0</td><td>0.0</td><td>0.0</td><td>0.0</td><td>0.0</td><td>0.0</td><td>0.0</td><td>0.0</td><td>0.0</td><td>0.0</td><td>0.0</td></tr><tr><td>113336298</td><td>3169366</td><td>1775</td><td>2</td><td>2341</td><td>2024-09-11</td><td>8</td><td>true</td><td>0</td><td>2024-09-09</td><td>2024-09-15</td><td>3.926565</td><td>5223.495117</td><td>30</td><td>33</td><td>5</td><td>2</td><td>1418.606079</td><td>3804.888916</td><td>87</td><td>null</td><td>87</td><td>null</td><td>10126</td><td>33</td><td>0.003259</td><td>10126</td><td>33</td><td>0.003259</td><td>2024-09-10</td><td>10159</td><td>33</td><td>0</td><td>78307</td><td>0</td><td>78307</td><td>11</td><td>&hellip;</td><td>0</td><td>15</td><td>0</td><td>0</td><td>0</td><td>0</td><td>0</td><td>0</td><td>0</td><td>2</td><td>4</td><td>6</td><td>0.003248</td><td>0.728418</td><td>0.0</td><td>0.0</td><td>0.0</td><td>0.0</td><td>0.0</td><td>0.0</td><td>0.0</td><td>0.011364</td><td>0.0</td><td>0.0</td><td>0.066667</td><td>0.0</td><td>0.0</td><td>0.0</td><td>0.0</td><td>0.0</td><td>0.0</td><td>0.0</td><td>0.0</td><td>0.0</td><td>0.0</td><td>0.0</td><td>0.0</td></tr><tr><td>51005398</td><td>1426492</td><td>4045</td><td>2</td><td>3103</td><td>2024-09-17</td><td>5</td><td>false</td><td>0</td><td>2024-09-09</td><td>2024-09-22</td><td>6.251623</td><td>30964.78125</td><td>75</td><td>18</td><td>5</td><td>4</td><td>3237.551514</td><td>27727.230469</td><td>643</td><td>null</td><td>625</td><td>null</td><td>12003</td><td>71</td><td>0.005915</td><td>12003</td><td>71</td><td>0.005915</td><td>2024-09-16</td><td>12074</td><td>71</td><td>0</td><td>68723</td><td>0</td><td>68723</td><td>6260</td><td>&hellip;</td><td>0</td><td>0</td><td>0</td><td>0</td><td>0</td><td>0</td><td>0</td><td>0</td><td>0</td><td>8</td><td>5</td><td>13</td><td>0.00588</td><td>0.895444</td><td>0.0</td><td>0.0</td><td>0.0</td><td>0.0</td><td>0.0</td><td>0.0</td><td>0.0</td><td>0.0</td><td>0.0</td><td>0.0</td><td>0.0</td><td>0.0</td><td>0.0</td><td>0.0</td><td>0.0</td><td>0.0</td><td>0.0</td><td>0.0</td><td>0.0</td><td>0.0</td><td>0.0</td><td>0.0</td><td>0.0</td></tr><tr><td>116647671</td><td>3261488</td><td>2283</td><td>2</td><td>2796</td><td>2024-09-04</td><td>8</td><td>true</td><td>0</td><td>2024-08-26</td><td>2024-09-24</td><td>3.777222</td><td>13303.74707</td><td>45</td><td>18</td><td>5</td><td>4</td><td>1861.385742</td><td>11442.361328</td><td>78</td><td>null</td><td>78</td><td>null</td><td>6428</td><td>25</td><td>0.003889</td><td>6428</td><td>25</td><td>0.003889</td><td>2024-09-03</td><td>6453</td><td>25</td><td>0</td><td>131635</td><td>0</td><td>131634</td><td>6260</td><td>&hellip;</td><td>0</td><td>12</td><td>0</td><td>0</td><td>0</td><td>0</td><td>0</td><td>0</td><td>0</td><td>9</td><td>20</td><td>29</td><td>0.003874</td><td>0.860086</td><td>0.0</td><td>0.0</td><td>0.0</td><td>0.0</td><td>0.0</td><td>0.0</td><td>0.0</td><td>0.0</td><td>0.0</td><td>0.0</td><td>0.0</td><td>0.0</td><td>0.0</td><td>0.0</td><td>0.0</td><td>0.0</td><td>0.0</td><td>0.0</td><td>0.0</td><td>0.0</td><td>0.0</td><td>0.0</td><td>0.0</td></tr><tr><td>54777342</td><td>1531524</td><td>3154</td><td>2</td><td>2523</td><td>2024-09-04</td><td>8</td><td>true</td><td>0</td><td>2024-08-22</td><td>2024-09-20</td><td>1.304823</td><td>2466.315918</td><td>64</td><td>40</td><td>8</td><td>4</td><td>2581.999756</td><td>-115.683945</td><td>61</td><td>0</td><td>61</td><td>0</td><td>3765</td><td>12</td><td>0.003187</td><td>3765</td><td>12</td><td>0.003187</td><td>2024-09-03</td><td>3777</td><td>12</td><td>1</td><td>34823</td><td>1</td><td>34823</td><td>671</td><td>&hellip;</td><td>0</td><td>6</td><td>0</td><td>0</td><td>0</td><td>0</td><td>0</td><td>0</td><td>0</td><td>13</td><td>16</td><td>29</td><td>0.003177</td><td>-0.046906</td><td>0.0</td><td>0.0</td><td>0.0</td><td>0.0</td><td>0.0</td><td>0.0</td><td>0.0</td><td>0.0</td><td>0.0</td><td>0.0</td><td>0.0</td><td>0.0</td><td>0.0</td><td>0.0</td><td>0.0</td><td>0.0</td><td>0.0</td><td>0.0</td><td>0.0</td><td>0.0</td><td>0.0</td><td>0.0</td><td>0.0</td></tr></tbody></table></div>"
      ],
      "text/plain": [
       "shape: (5, 195)\n",
       "┌───────────┬─────────┬────────────┬───────────┬───┬───────────┬───────────┬───────────┬───────────┐\n",
       "│ unique_id ┆ user_id ┆ adv_campai ┆ platform_ ┆ … ┆ ctr_categ ┆ ctr_categ ┆ ctr_categ ┆ ctr_categ │\n",
       "│ ---       ┆ ---     ┆ gn_id      ┆ id        ┆   ┆ ory_id_7  ┆ ory_id_8  ┆ ory_id_9  ┆ ory_id_11 │\n",
       "│ u32       ┆ i32     ┆ ---        ┆ ---       ┆   ┆ ---       ┆ ---       ┆ ---       ┆ ---       │\n",
       "│           ┆         ┆ i16        ┆ i8        ┆   ┆ f64       ┆ f64       ┆ f64       ┆ f64       │\n",
       "╞═══════════╪═════════╪════════════╪═══════════╪═══╪═══════════╪═══════════╪═══════════╪═══════════╡\n",
       "│ 59906657  ┆ 1674311 ┆ 131        ┆ 2         ┆ … ┆ 0.0       ┆ 0.0       ┆ 0.0       ┆ 0.0       │\n",
       "│ 113336298 ┆ 3169366 ┆ 1775       ┆ 2         ┆ … ┆ 0.0       ┆ 0.0       ┆ 0.0       ┆ 0.0       │\n",
       "│ 51005398  ┆ 1426492 ┆ 4045       ┆ 2         ┆ … ┆ 0.0       ┆ 0.0       ┆ 0.0       ┆ 0.0       │\n",
       "│ 116647671 ┆ 3261488 ┆ 2283       ┆ 2         ┆ … ┆ 0.0       ┆ 0.0       ┆ 0.0       ┆ 0.0       │\n",
       "│ 54777342  ┆ 1531524 ┆ 3154       ┆ 2         ┆ … ┆ 0.0       ┆ 0.0       ┆ 0.0       ┆ 0.0       │\n",
       "└───────────┴─────────┴────────────┴───────────┴───┴───────────┴───────────┴───────────┴───────────┘"
      ]
     },
     "execution_count": 50,
     "metadata": {},
     "output_type": "execute_result"
    }
   ],
   "source": [
    "train_data.head()"
   ]
  },
  {
   "cell_type": "code",
   "execution_count": 52,
   "id": "8eab85d3-8a37-4412-b635-1aa875053ee8",
   "metadata": {},
   "outputs": [],
   "source": [
    "# del train\n",
    "# del test"
   ]
  },
  {
   "cell_type": "code",
   "execution_count": 53,
   "id": "907363cc-8788-4cb8-9766-83bfc7472187",
   "metadata": {},
   "outputs": [],
   "source": [
    "# del test_data"
   ]
  },
  {
   "cell_type": "code",
   "execution_count": 55,
   "id": "a9a8b040-4278-4629-8bc1-b8bbb0f1a431",
   "metadata": {},
   "outputs": [
    {
     "name": "stdout",
     "output_type": "stream",
     "text": [
      "Requirement already satisfied: pyarrow in /opt/conda/lib/python3.8/site-packages (15.0.2)\n",
      "Requirement already satisfied: numpy<2,>=1.16.6 in /opt/conda/lib/python3.8/site-packages (from pyarrow) (1.22.4)\n"
     ]
    }
   ],
   "source": [
    "!pip install pyarrow"
   ]
  },
  {
   "cell_type": "code",
   "execution_count": 56,
   "id": "f1e6cd97-75c0-46a4-ba66-ecfc1749d7fe",
   "metadata": {},
   "outputs": [
    {
     "name": "stdout",
     "output_type": "stream",
     "text": [
      "\u001b[31mERROR: Ignored the following versions that require a different python version: 1.4.0 Requires-Python >=3.9; 1.4.0rc1 Requires-Python >=3.9; 1.4.1.post1 Requires-Python >=3.9; 1.4.2 Requires-Python >=3.9; 1.5.0 Requires-Python >=3.9; 1.5.0rc1 Requires-Python >=3.9; 1.5.1 Requires-Python >=3.9; 1.5.2 Requires-Python >=3.9; 1.6.0rc1 Requires-Python >=3.9\u001b[0m\u001b[31m\n",
      "\u001b[0m\u001b[31mERROR: Could not find a version that satisfies the requirement scikit-learn==1.6.0 (from versions: 0.9, 0.10, 0.11, 0.12, 0.12.1, 0.13, 0.13.1, 0.14, 0.14.1, 0.15.0, 0.15.1, 0.15.2, 0.16.0, 0.16.1, 0.17, 0.17.1, 0.18, 0.18.1, 0.18.2, 0.19.0, 0.19.1, 0.19.2, 0.20.0, 0.20.1, 0.20.2, 0.20.3, 0.20.4, 0.21.1, 0.21.2, 0.21.3, 0.22, 0.22.1, 0.22.2, 0.22.2.post1, 0.23.0, 0.23.1, 0.23.2, 0.24.0, 0.24.1, 0.24.2, 1.0, 1.0.1, 1.0.2, 1.1.0, 1.1.1, 1.1.2, 1.1.3, 1.2.0rc1, 1.2.0, 1.2.1, 1.2.2, 1.3.0rc1, 1.3.0, 1.3.1, 1.3.2)\u001b[0m\u001b[31m\n",
      "\u001b[0m\u001b[31mERROR: No matching distribution found for scikit-learn==1.6.0\u001b[0m\u001b[31m\n",
      "\u001b[0mNote: you may need to restart the kernel to use updated packages.\n"
     ]
    }
   ],
   "source": [
    "#pip install scikit-learn==1.6.0"
   ]
  },
  {
   "cell_type": "code",
   "execution_count": 57,
   "id": "a4a0ec7a-b3ce-4873-a2e7-8ccb79010b16",
   "metadata": {},
   "outputs": [],
   "source": [
    "import pyarrow\n",
    "import numpy as np"
   ]
  },
  {
   "cell_type": "code",
   "execution_count": 58,
   "id": "43c60922-acc5-4594-8e77-844a4ea5c398",
   "metadata": {},
   "outputs": [],
   "source": [
    "from sklearn.model_selection._split import _BaseKFold, _RepeatedSplits\n",
    "from sklearn.utils.validation import check_random_state, column_or_1d\n",
    "from sklearn.utils.multiclass import type_of_target\n",
    "from collections import defaultdict\n",
    "\n",
    "class StratifiedGroupKFold(_BaseKFold):\n",
    "    \"\"\"Stratified K-Folds iterator variant with non-overlapping groups.\n",
    "    This cross-validation object is a variation of StratifiedKFold attempts to\n",
    "    return stratified folds with non-overlapping groups. The folds are made by\n",
    "    preserving the percentage of samples for each class.\n",
    "    The same group will not appear in two different folds (the number of\n",
    "    distinct groups has to be at least equal to the number of folds).\n",
    "    The difference between GroupKFold and StratifiedGroupKFold is that\n",
    "    the former attempts to create balanced folds such that the number of\n",
    "    distinct groups is approximately the same in each fold, whereas\n",
    "    StratifiedGroupKFold attempts to create folds which preserve the\n",
    "    percentage of samples for each class as much as possible given the\n",
    "    constraint of non-overlapping groups between splits.\n",
    "    Read more in the :ref:`User Guide <cross_validation>`.\n",
    "    Parameters\n",
    "    ----------\n",
    "    n_splits : int, default=5\n",
    "        Number of folds. Must be at least 2.\n",
    "    shuffle : bool, default=False\n",
    "        Whether to shuffle each class's samples before splitting into batches.\n",
    "        Note that the samples within each split will not be shuffled.\n",
    "        This implementation can only shuffle groups that have approximately the\n",
    "        same y distribution, no global shuffle will be performed.\n",
    "    random_state : int or RandomState instance, default=None\n",
    "        When `shuffle` is True, `random_state` affects the ordering of the\n",
    "        indices, which controls the randomness of each fold for each class.\n",
    "        Otherwise, leave `random_state` as `None`.\n",
    "        Pass an int for reproducible output across multiple function calls.\n",
    "        See :term:`Glossary <random_state>`.\n",
    "    Examples\n",
    "    --------\n",
    "    >>> import numpy as np\n",
    "    >>> from sklearn.model_selection import StratifiedGroupKFold\n",
    "    >>> X = np.ones((17, 2))\n",
    "    >>> y = np.array([0, 0, 1, 1, 1, 1, 1, 1, 0, 0, 0, 0, 0, 0, 0, 0, 0])\n",
    "    >>> groups = np.array([1, 1, 2, 2, 3, 3, 3, 4, 5, 5, 5, 5, 6, 6, 7, 8, 8])\n",
    "    >>> cv = StratifiedGroupKFold(n_splits=3)\n",
    "    >>> for train_idxs, test_idxs in cv.split(X, y, groups):\n",
    "    ...     print(\"TRAIN:\", groups[train_idxs])\n",
    "    ...     print(\"      \", y[train_idxs])\n",
    "    ...     print(\" TEST:\", groups[test_idxs])\n",
    "    ...     print(\"      \", y[test_idxs])\n",
    "    TRAIN: [1 1 2 2 4 5 5 5 5 8 8]\n",
    "           [0 0 1 1 1 0 0 0 0 0 0]\n",
    "     TEST: [3 3 3 6 6 7]\n",
    "           [1 1 1 0 0 0]\n",
    "    TRAIN: [3 3 3 4 5 5 5 5 6 6 7]\n",
    "           [1 1 1 1 0 0 0 0 0 0 0]\n",
    "     TEST: [1 1 2 2 8 8]\n",
    "           [0 0 1 1 0 0]\n",
    "    TRAIN: [1 1 2 2 3 3 3 6 6 7 8 8]\n",
    "           [0 0 1 1 1 1 1 0 0 0 0 0]\n",
    "     TEST: [4 5 5 5 5]\n",
    "           [1 0 0 0 0]\n",
    "    Notes\n",
    "    -----\n",
    "    The implementation is designed to:\n",
    "    * Mimic the behavior of StratifiedKFold as much as possible for trivial\n",
    "      groups (e.g. when each group contains only one sample).\n",
    "    * Be invariant to class label: relabelling ``y = [\"Happy\", \"Sad\"]`` to\n",
    "      ``y = [1, 0]`` should not change the indices generated.\n",
    "    * Stratify based on samples as much as possible while keeping\n",
    "      non-overlapping groups constraint. That means that in some cases when\n",
    "      there is a small number of groups containing a large number of samples\n",
    "      the stratification will not be possible and the behavior will be close\n",
    "      to GroupKFold.\n",
    "    See also\n",
    "    --------\n",
    "    StratifiedKFold: Takes class information into account to build folds which\n",
    "        retain class distributions (for binary or multiclass classification\n",
    "        tasks).\n",
    "    GroupKFold: K-fold iterator variant with non-overlapping groups.\n",
    "    \"\"\"\n",
    "\n",
    "    def __init__(self, n_splits=5, shuffle=False, random_state=None):\n",
    "        super().__init__(n_splits=n_splits, shuffle=shuffle,\n",
    "                         random_state=random_state)\n",
    "\n",
    "    def _iter_test_indices(self, X, y, groups):\n",
    "        # Implementation is based on this kaggle kernel:\n",
    "        # https://www.kaggle.com/jakubwasikowski/stratified-group-k-fold-cross-validation\n",
    "        # and is a subject to Apache 2.0 License. You may obtain a copy of the\n",
    "        # License at http://www.apache.org/licenses/LICENSE-2.0\n",
    "        # Changelist:\n",
    "        # - Refactored function to a class following scikit-learn KFold\n",
    "        #   interface.\n",
    "        # - Added heuristic for assigning group to the least populated fold in\n",
    "        #   cases when all other criteria are equal\n",
    "        # - Swtch from using python ``Counter`` to ``np.unique`` to get class\n",
    "        #   distribution\n",
    "        # - Added scikit-learn checks for input: checking that target is binary\n",
    "        #   or multiclass, checking passed random state, checking that number\n",
    "        #   of splits is less than number of members in each class, checking\n",
    "        #   that least populated class has more members than there are splits.\n",
    "        rng = check_random_state(self.random_state)\n",
    "        y = np.asarray(y)\n",
    "        type_of_target_y = type_of_target(y)\n",
    "        allowed_target_types = ('binary', 'multiclass')\n",
    "        if type_of_target_y not in allowed_target_types:\n",
    "            raise ValueError(\n",
    "                'Supported target types are: {}. Got {!r} instead.'.format(\n",
    "                    allowed_target_types, type_of_target_y))\n",
    "\n",
    "        y = column_or_1d(y)\n",
    "        _, y_inv, y_cnt = np.unique(y, return_inverse=True, return_counts=True)\n",
    "        if np.all(self.n_splits > y_cnt):\n",
    "            raise ValueError(\"n_splits=%d cannot be greater than the\"\n",
    "                             \" number of members in each class.\"\n",
    "                             % (self.n_splits))\n",
    "        n_smallest_class = np.min(y_cnt)\n",
    "        if self.n_splits > n_smallest_class:\n",
    "            warnings.warn((\"The least populated class in y has only %d\"\n",
    "                           \" members, which is less than n_splits=%d.\"\n",
    "                           % (n_smallest_class, self.n_splits)), UserWarning)\n",
    "        n_classes = len(y_cnt)\n",
    "        \n",
    "        \n",
    "        _, groups_inv, groups_cnt = np.unique(\n",
    "            groups, return_inverse=True, return_counts=True)\n",
    "        y_counts_per_group = np.zeros((len(groups_cnt), n_classes))\n",
    "        for class_idx, group_idx in zip(y_inv, groups_inv):\n",
    "            y_counts_per_group[group_idx, class_idx] += 1\n",
    "\n",
    "        y_counts_per_fold = np.zeros((self.n_splits, n_classes))\n",
    "        groups_per_fold = defaultdict(set)\n",
    "\n",
    "        if self.shuffle:\n",
    "            rng.shuffle(y_counts_per_group)\n",
    "\n",
    "        # Stable sort to keep shuffled order for groups with the same\n",
    "        # class distribution variance\n",
    "        sorted_groups_idx = np.argsort(-np.std(y_counts_per_group, axis=1),\n",
    "                                       kind='mergesort')\n",
    "\n",
    "        for group_idx in sorted_groups_idx:\n",
    "            group_y_counts = y_counts_per_group[group_idx]\n",
    "            best_fold = self._find_best_fold(\n",
    "                y_counts_per_fold=y_counts_per_fold, y_cnt=y_cnt,\n",
    "                group_y_counts=group_y_counts)\n",
    "            y_counts_per_fold[best_fold] += group_y_counts\n",
    "            groups_per_fold[best_fold].add(group_idx)\n",
    "\n",
    "        for i in range(self.n_splits):\n",
    "            test_indices = [idx for idx, group_idx in enumerate(groups_inv)\n",
    "                            if group_idx in groups_per_fold[i]]\n",
    "            yield test_indices\n",
    "\n",
    "    def _find_best_fold(\n",
    "            self, y_counts_per_fold, y_cnt, group_y_counts):\n",
    "        best_fold = None\n",
    "        min_eval = np.inf\n",
    "        min_samples_in_fold = np.inf\n",
    "        for i in range(self.n_splits):\n",
    "            y_counts_per_fold[i] += group_y_counts\n",
    "            # Summarise the distribution over classes in each proposed fold\n",
    "            std_per_class = np.std(\n",
    "                y_counts_per_fold / y_cnt.reshape(1, -1),\n",
    "                axis=0)\n",
    "            y_counts_per_fold[i] -= group_y_counts\n",
    "            fold_eval = np.mean(std_per_class)\n",
    "            samples_in_fold = np.sum(y_counts_per_fold[i])\n",
    "            is_current_fold_better = (\n",
    "                fold_eval < min_eval or\n",
    "                np.isclose(fold_eval, min_eval)\n",
    "                and samples_in_fold < min_samples_in_fold\n",
    "            )\n",
    "            if is_current_fold_better:\n",
    "                min_eval = fold_eval\n",
    "                min_samples_in_fold = samples_in_fold\n",
    "                best_fold = i\n",
    "        return best_fold"
   ]
  },
  {
   "cell_type": "code",
   "execution_count": 59,
   "id": "6f2f7ab9-81de-4366-a608-c1f747f5dd7f",
   "metadata": {},
   "outputs": [
    {
     "name": "stdout",
     "output_type": "stream",
     "text": [
      "Requirement already satisfied: lightgbm in /opt/conda/lib/python3.8/site-packages (4.5.0)\n",
      "Requirement already satisfied: numpy>=1.17.0 in /opt/conda/lib/python3.8/site-packages (from lightgbm) (1.22.4)\n",
      "Requirement already satisfied: scipy in /opt/conda/lib/python3.8/site-packages (from lightgbm) (1.7.0)\n"
     ]
    }
   ],
   "source": [
    "!pip install lightgbm"
   ]
  },
  {
   "cell_type": "code",
   "execution_count": 60,
   "id": "1540c2ff-43ca-43ae-8d38-e4a0bffd16c4",
   "metadata": {},
   "outputs": [
    {
     "name": "stdout",
     "output_type": "stream",
     "text": [
      "Requirement already satisfied: catboost in /opt/conda/lib/python3.8/site-packages (1.2.7)\n",
      "Requirement already satisfied: graphviz in /opt/conda/lib/python3.8/site-packages (from catboost) (0.20.3)\n",
      "Requirement already satisfied: matplotlib in /opt/conda/lib/python3.8/site-packages (from catboost) (3.4.2)\n",
      "Requirement already satisfied: numpy<2.0,>=1.16.0 in /opt/conda/lib/python3.8/site-packages (from catboost) (1.22.4)\n",
      "Requirement already satisfied: pandas>=0.24 in /opt/conda/lib/python3.8/site-packages (from catboost) (1.2.4)\n",
      "Requirement already satisfied: scipy in /opt/conda/lib/python3.8/site-packages (from catboost) (1.7.0)\n",
      "Requirement already satisfied: plotly in /opt/conda/lib/python3.8/site-packages (from catboost) (5.24.1)\n",
      "Requirement already satisfied: six in /opt/conda/lib/python3.8/site-packages (from catboost) (1.16.0)\n",
      "Requirement already satisfied: python-dateutil>=2.7.3 in /opt/conda/lib/python3.8/site-packages (from pandas>=0.24->catboost) (2.8.2)\n",
      "Requirement already satisfied: pytz>=2017.3 in /opt/conda/lib/python3.8/site-packages (from pandas>=0.24->catboost) (2023.3.post1)\n",
      "Requirement already satisfied: cycler>=0.10 in /opt/conda/lib/python3.8/site-packages (from matplotlib->catboost) (0.11.0)\n",
      "Requirement already satisfied: kiwisolver>=1.0.1 in /opt/conda/lib/python3.8/site-packages (from matplotlib->catboost) (1.4.5)\n",
      "Requirement already satisfied: pillow>=6.2.0 in /opt/conda/lib/python3.8/site-packages (from matplotlib->catboost) (10.0.0)\n",
      "Requirement already satisfied: pyparsing>=2.2.1 in /opt/conda/lib/python3.8/site-packages (from matplotlib->catboost) (3.1.1)\n",
      "Requirement already satisfied: tenacity>=6.2.0 in /opt/conda/lib/python3.8/site-packages (from plotly->catboost) (9.0.0)\n",
      "Requirement already satisfied: packaging in /opt/conda/lib/python3.8/site-packages (from plotly->catboost) (23.1)\n"
     ]
    }
   ],
   "source": [
    "!pip install catboost"
   ]
  },
  {
   "cell_type": "code",
   "execution_count": null,
   "id": "91a8b930-be55-4403-a786-f112af5a56cd",
   "metadata": {},
   "outputs": [],
   "source": []
  },
  {
   "cell_type": "code",
   "execution_count": 61,
   "id": "93cddf56-0f33-4225-b1b3-cf3f574795a5",
   "metadata": {},
   "outputs": [],
   "source": [
    "import lightgbm as lgb\n",
    "from catboost import Pool, CatBoostClassifier"
   ]
  },
  {
   "cell_type": "code",
   "execution_count": 62,
   "id": "ea5d4b45-95bb-4620-8c97-71d987013218",
   "metadata": {},
   "outputs": [
    {
     "data": {
      "text/html": [
       "<div><style>\n",
       ".dataframe > thead > tr,\n",
       ".dataframe > tbody > tr {\n",
       "  text-align: right;\n",
       "  white-space: pre-wrap;\n",
       "}\n",
       "</style>\n",
       "<small>shape: (1, 1)</small><table border=\"1\" class=\"dataframe\"><thead><tr><th>target</th></tr><tr><td>f64</td></tr></thead><tbody><tr><td>0.046782</td></tr></tbody></table></div>"
      ],
      "text/plain": [
       "shape: (1, 1)\n",
       "┌──────────┐\n",
       "│ target   │\n",
       "│ ---      │\n",
       "│ f64      │\n",
       "╞══════════╡\n",
       "│ 0.046782 │\n",
       "└──────────┘"
      ]
     },
     "execution_count": 62,
     "metadata": {},
     "output_type": "execute_result"
    }
   ],
   "source": [
    "train_data.select(['target']).mean()"
   ]
  },
  {
   "cell_type": "code",
   "execution_count": 63,
   "id": "248481e5-1c98-4c4f-ac61-f86ca74e2ab0",
   "metadata": {},
   "outputs": [],
   "source": [
    "cat_features = ['adv_campaign_id', 'platform_id', 'adv_creative_id', 'location_id', 'logcat_id', 'banner_code']"
   ]
  },
  {
   "cell_type": "code",
   "execution_count": 67,
   "id": "a9323237-c4d0-4022-a6ef-bc6345e099d8",
   "metadata": {},
   "outputs": [],
   "source": [
    "X = train_data.to_pandas().drop(columns=[\"target\", 'event_date', 'start_date', 'end_date', 'event_date_right'])\n",
    "y = train_data.to_pandas()[\"target\"]\n",
    "weeks = train_data.to_pandas()[\"user_id\"]\n",
    "\n",
    "cv = StratifiedGroupKFold(n_splits=6, shuffle=True, random_state=2024)"
   ]
  },
  {
   "cell_type": "code",
   "execution_count": 68,
   "id": "7cb2f47b-18cd-4858-8b39-0d16564767c5",
   "metadata": {},
   "outputs": [
    {
     "name": "stderr",
     "output_type": "stream",
     "text": [
      "Default metric period is 5 because AUC is/are not implemented for GPU\n"
     ]
    },
    {
     "name": "stdout",
     "output_type": "stream",
     "text": [
      "0:\ttest: 0.6530452\tbest: 0.6530452 (0)\ttotal: 911ms\tremaining: 2h 24m 15s\n",
      "200:\ttest: 0.6931778\tbest: 0.6931778 (200)\ttotal: 2m 42s\tremaining: 2h 4m 58s\n",
      "400:\ttest: 0.7001180\tbest: 0.7001180 (400)\ttotal: 5m 42s\tremaining: 2h 9m 31s\n",
      "600:\ttest: 0.7027709\tbest: 0.7027709 (600)\ttotal: 8m 42s\tremaining: 2h 9m\n",
      "800:\ttest: 0.7042603\tbest: 0.7042603 (800)\ttotal: 11m 47s\tremaining: 2h 8m 1s\n",
      "1000:\ttest: 0.7052653\tbest: 0.7052653 (1000)\ttotal: 14m 47s\tremaining: 2h 5m 38s\n",
      "1200:\ttest: 0.7059965\tbest: 0.7059965 (1200)\ttotal: 17m 52s\tremaining: 2h 3m 28s\n",
      "1400:\ttest: 0.7064922\tbest: 0.7064922 (1400)\ttotal: 21m 1s\tremaining: 2h 1m 30s\n",
      "1600:\ttest: 0.7069518\tbest: 0.7069518 (1600)\ttotal: 24m 6s\tremaining: 1h 58m 58s\n",
      "1800:\ttest: 0.7073056\tbest: 0.7073056 (1800)\ttotal: 27m 6s\tremaining: 1h 55m 53s\n",
      "2000:\ttest: 0.7076655\tbest: 0.7076655 (2000)\ttotal: 30m 4s\tremaining: 1h 52m 42s\n",
      "2200:\ttest: 0.7079849\tbest: 0.7079849 (2200)\ttotal: 33m 3s\tremaining: 1h 49m 36s\n",
      "2400:\ttest: 0.7083118\tbest: 0.7083118 (2400)\ttotal: 36m\tremaining: 1h 46m 28s\n",
      "2600:\ttest: 0.7086116\tbest: 0.7086116 (2600)\ttotal: 38m 57s\tremaining: 1h 43m 19s\n",
      "2800:\ttest: 0.7088616\tbest: 0.7088616 (2800)\ttotal: 41m 53s\tremaining: 1h 40m 12s\n",
      "3000:\ttest: 0.7091122\tbest: 0.7091122 (3000)\ttotal: 44m 53s\tremaining: 1h 37m 13s\n",
      "3200:\ttest: 0.7093078\tbest: 0.7093078 (3200)\ttotal: 47m 53s\tremaining: 1h 34m 14s\n",
      "3400:\ttest: 0.7102226\tbest: 0.7102226 (3400)\ttotal: 50m 51s\tremaining: 1h 31m 11s\n",
      "3600:\ttest: 0.7107414\tbest: 0.7107414 (3598)\ttotal: 53m 49s\tremaining: 1h 28m 11s\n",
      "3800:\ttest: 0.7108847\tbest: 0.7108847 (3800)\ttotal: 56m 51s\tremaining: 1h 25m 14s\n",
      "4000:\ttest: 0.7110298\tbest: 0.7110298 (4000)\ttotal: 59m 54s\tremaining: 1h 22m 20s\n",
      "4200:\ttest: 0.7112106\tbest: 0.7112106 (4200)\ttotal: 1h 2m 54s\tremaining: 1h 19m 21s\n",
      "4400:\ttest: 0.7113748\tbest: 0.7113748 (4400)\ttotal: 1h 5m 54s\tremaining: 1h 16m 22s\n",
      "4600:\ttest: 0.7114792\tbest: 0.7114792 (4600)\ttotal: 1h 8m 56s\tremaining: 1h 13m 24s\n",
      "4800:\ttest: 0.7116035\tbest: 0.7116035 (4800)\ttotal: 1h 11m 55s\tremaining: 1h 10m 23s\n",
      "5000:\ttest: 0.7117041\tbest: 0.7117041 (5000)\ttotal: 1h 14m 55s\tremaining: 1h 7m 24s\n",
      "5200:\ttest: 0.7118020\tbest: 0.7118020 (5200)\ttotal: 1h 17m 57s\tremaining: 1h 4m 26s\n",
      "5400:\ttest: 0.7119735\tbest: 0.7119736 (5399)\ttotal: 1h 20m 56s\tremaining: 1h 1m 26s\n",
      "5600:\ttest: 0.7123995\tbest: 0.7123995 (5599)\ttotal: 1h 23m 59s\tremaining: 58m 28s\n",
      "5800:\ttest: 0.7126280\tbest: 0.7126280 (5800)\ttotal: 1h 27m 3s\tremaining: 55m 30s\n",
      "6000:\ttest: 0.7127176\tbest: 0.7127176 (6000)\ttotal: 1h 30m 6s\tremaining: 52m 32s\n",
      "6200:\ttest: 0.7128006\tbest: 0.7128006 (6200)\ttotal: 1h 33m 7s\tremaining: 49m 32s\n",
      "6400:\ttest: 0.7128600\tbest: 0.7128603 (6398)\ttotal: 1h 36m 11s\tremaining: 46m 34s\n",
      "6600:\ttest: 0.7129294\tbest: 0.7129301 (6598)\ttotal: 1h 39m 11s\tremaining: 43m 33s\n",
      "6800:\ttest: 0.7129944\tbest: 0.7129946 (6799)\ttotal: 1h 42m 12s\tremaining: 40m 33s\n",
      "7000:\ttest: 0.7130657\tbest: 0.7130657 (7000)\ttotal: 1h 45m 14s\tremaining: 37m 33s\n",
      "7200:\ttest: 0.7131604\tbest: 0.7131604 (7200)\ttotal: 1h 48m 16s\tremaining: 34m 34s\n",
      "7400:\ttest: 0.7132078\tbest: 0.7132078 (7400)\ttotal: 1h 51m 22s\tremaining: 31m 35s\n",
      "7600:\ttest: 0.7132674\tbest: 0.7132674 (7600)\ttotal: 1h 54m 26s\tremaining: 28m 35s\n",
      "7800:\ttest: 0.7133106\tbest: 0.7133115 (7797)\ttotal: 1h 57m 29s\tremaining: 25m 35s\n",
      "8000:\ttest: 0.7133567\tbest: 0.7133567 (8000)\ttotal: 2h 30s\tremaining: 22m 34s\n",
      "8200:\ttest: 0.7134155\tbest: 0.7134155 (8200)\ttotal: 2h 3m 35s\tremaining: 19m 34s\n",
      "8400:\ttest: 0.7134490\tbest: 0.7134490 (8400)\ttotal: 2h 6m 39s\tremaining: 16m 34s\n",
      "8600:\ttest: 0.7135125\tbest: 0.7135125 (8600)\ttotal: 2h 9m 41s\tremaining: 13m 33s\n",
      "8800:\ttest: 0.7135500\tbest: 0.7135500 (8800)\ttotal: 2h 12m 45s\tremaining: 10m 32s\n",
      "9000:\ttest: 0.7135837\tbest: 0.7135837 (9000)\ttotal: 2h 15m 51s\tremaining: 7m 31s\n",
      "9200:\ttest: 0.7136211\tbest: 0.7136216 (9198)\ttotal: 2h 18m 53s\tremaining: 4m 30s\n",
      "9400:\ttest: 0.7136497\tbest: 0.7136498 (9399)\ttotal: 2h 21m 57s\tremaining: 1m 29s\n",
      "9499:\ttest: 0.7136693\tbest: 0.7136693 (9498)\ttotal: 2h 23m 29s\tremaining: 0us\n",
      "bestTest = 0.7136692703\n",
      "bestIteration = 9498\n",
      "Shrink model to first 9499 iterations.\n"
     ]
    },
    {
     "name": "stderr",
     "output_type": "stream",
     "text": [
      "Default metric period is 5 because AUC is/are not implemented for GPU\n"
     ]
    },
    {
     "name": "stdout",
     "output_type": "stream",
     "text": [
      "0:\ttest: 0.6541753\tbest: 0.6541753 (0)\ttotal: 876ms\tremaining: 2h 18m 41s\n",
      "200:\ttest: 0.6923430\tbest: 0.6923430 (200)\ttotal: 2m 39s\tremaining: 2h 3m 21s\n",
      "400:\ttest: 0.6985774\tbest: 0.6985774 (400)\ttotal: 5m 38s\tremaining: 2h 7m 51s\n",
      "600:\ttest: 0.7010130\tbest: 0.7010130 (600)\ttotal: 8m 38s\tremaining: 2h 8m 4s\n",
      "800:\ttest: 0.7025188\tbest: 0.7025188 (800)\ttotal: 11m 39s\tremaining: 2h 6m 40s\n",
      "1000:\ttest: 0.7035238\tbest: 0.7035238 (1000)\ttotal: 14m 39s\tremaining: 2h 4m 25s\n",
      "1200:\ttest: 0.7042401\tbest: 0.7042401 (1200)\ttotal: 17m 40s\tremaining: 2h 2m 7s\n",
      "1400:\ttest: 0.7048191\tbest: 0.7048191 (1400)\ttotal: 20m 42s\tremaining: 1h 59m 42s\n",
      "1600:\ttest: 0.7053199\tbest: 0.7053199 (1600)\ttotal: 23m 43s\tremaining: 1h 57m 3s\n",
      "1800:\ttest: 0.7057187\tbest: 0.7057187 (1800)\ttotal: 26m 43s\tremaining: 1h 54m 13s\n",
      "2000:\ttest: 0.7061599\tbest: 0.7061599 (2000)\ttotal: 29m 37s\tremaining: 1h 51m 1s\n",
      "2200:\ttest: 0.7064525\tbest: 0.7064525 (2200)\ttotal: 32m 31s\tremaining: 1h 47m 51s\n",
      "2400:\ttest: 0.7067458\tbest: 0.7067458 (2400)\ttotal: 35m 31s\tremaining: 1h 45m 1s\n",
      "2600:\ttest: 0.7070758\tbest: 0.7070758 (2600)\ttotal: 38m 26s\tremaining: 1h 41m 58s\n",
      "2800:\ttest: 0.7074341\tbest: 0.7074341 (2800)\ttotal: 41m 24s\tremaining: 1h 39m 2s\n",
      "3000:\ttest: 0.7082524\tbest: 0.7082524 (3000)\ttotal: 44m 22s\tremaining: 1h 36m 6s\n",
      "3200:\ttest: 0.7085986\tbest: 0.7085986 (3200)\ttotal: 47m 21s\tremaining: 1h 33m 10s\n",
      "3400:\ttest: 0.7088656\tbest: 0.7088656 (3400)\ttotal: 50m 20s\tremaining: 1h 30m 16s\n",
      "3600:\ttest: 0.7095550\tbest: 0.7095550 (3600)\ttotal: 53m 17s\tremaining: 1h 27m 17s\n",
      "3800:\ttest: 0.7097404\tbest: 0.7097404 (3800)\ttotal: 56m 18s\tremaining: 1h 24m 25s\n",
      "4000:\ttest: 0.7099060\tbest: 0.7099060 (4000)\ttotal: 59m 15s\tremaining: 1h 21m 26s\n",
      "4200:\ttest: 0.7100319\tbest: 0.7100319 (4200)\ttotal: 1h 2m 14s\tremaining: 1h 18m 31s\n",
      "4400:\ttest: 0.7101296\tbest: 0.7101296 (4400)\ttotal: 1h 5m 14s\tremaining: 1h 15m 35s\n",
      "4600:\ttest: 0.7102389\tbest: 0.7102389 (4600)\ttotal: 1h 8m 14s\tremaining: 1h 12m 40s\n",
      "4800:\ttest: 0.7103573\tbest: 0.7103573 (4800)\ttotal: 1h 11m 13s\tremaining: 1h 9m 42s\n",
      "5000:\ttest: 0.7104757\tbest: 0.7104759 (4999)\ttotal: 1h 14m 12s\tremaining: 1h 6m 45s\n",
      "5200:\ttest: 0.7105847\tbest: 0.7105847 (5197)\ttotal: 1h 17m 12s\tremaining: 1h 3m 49s\n",
      "5400:\ttest: 0.7106940\tbest: 0.7106940 (5400)\ttotal: 1h 20m 16s\tremaining: 1h 55s\n",
      "5600:\ttest: 0.7107916\tbest: 0.7107920 (5596)\ttotal: 1h 23m 18s\tremaining: 57m 59s\n",
      "5800:\ttest: 0.7108781\tbest: 0.7108781 (5800)\ttotal: 1h 26m 18s\tremaining: 55m 1s\n",
      "6000:\ttest: 0.7109552\tbest: 0.7109556 (5999)\ttotal: 1h 29m 16s\tremaining: 52m 3s\n",
      "6200:\ttest: 0.7110325\tbest: 0.7110327 (6199)\ttotal: 1h 32m 20s\tremaining: 49m 7s\n",
      "6400:\ttest: 0.7111122\tbest: 0.7111122 (6400)\ttotal: 1h 35m 22s\tremaining: 46m 10s\n",
      "6600:\ttest: 0.7111814\tbest: 0.7111814 (6600)\ttotal: 1h 38m 22s\tremaining: 43m 12s\n",
      "6800:\ttest: 0.7112493\tbest: 0.7112493 (6800)\ttotal: 1h 41m 26s\tremaining: 40m 15s\n",
      "7000:\ttest: 0.7113250\tbest: 0.7113250 (7000)\ttotal: 1h 44m 28s\tremaining: 37m 17s\n",
      "7200:\ttest: 0.7113831\tbest: 0.7113836 (7199)\ttotal: 1h 47m 30s\tremaining: 34m 19s\n",
      "7400:\ttest: 0.7114421\tbest: 0.7114421 (7400)\ttotal: 1h 50m 33s\tremaining: 31m 21s\n",
      "7600:\ttest: 0.7115015\tbest: 0.7115015 (7600)\ttotal: 1h 53m 36s\tremaining: 28m 23s\n",
      "7800:\ttest: 0.7115530\tbest: 0.7115535 (7798)\ttotal: 1h 56m 37s\tremaining: 25m 24s\n",
      "8000:\ttest: 0.7116199\tbest: 0.7116202 (7999)\ttotal: 1h 59m 42s\tremaining: 22m 25s\n",
      "8200:\ttest: 0.7116807\tbest: 0.7116815 (8192)\ttotal: 2h 2m 42s\tremaining: 19m 26s\n",
      "8400:\ttest: 0.7117380\tbest: 0.7117380 (8400)\ttotal: 2h 5m 48s\tremaining: 16m 27s\n",
      "8600:\ttest: 0.7117769\tbest: 0.7117769 (8600)\ttotal: 2h 8m 54s\tremaining: 13m 28s\n",
      "8800:\ttest: 0.7118352\tbest: 0.7118352 (8800)\ttotal: 2h 11m 59s\tremaining: 10m 28s\n",
      "9000:\ttest: 0.7118743\tbest: 0.7118753 (8995)\ttotal: 2h 15m 4s\tremaining: 7m 29s\n",
      "9200:\ttest: 0.7119264\tbest: 0.7119264 (9200)\ttotal: 2h 18m 7s\tremaining: 4m 29s\n",
      "9400:\ttest: 0.7119596\tbest: 0.7119598 (9397)\ttotal: 2h 21m 11s\tremaining: 1m 29s\n",
      "9499:\ttest: 0.7119796\tbest: 0.7119796 (9499)\ttotal: 2h 22m 43s\tremaining: 0us\n",
      "bestTest = 0.711979568\n",
      "bestIteration = 9499\n"
     ]
    },
    {
     "name": "stderr",
     "output_type": "stream",
     "text": [
      "Default metric period is 5 because AUC is/are not implemented for GPU\n"
     ]
    },
    {
     "name": "stdout",
     "output_type": "stream",
     "text": [
      "0:\ttest: 0.6544535\tbest: 0.6544535 (0)\ttotal: 916ms\tremaining: 2h 25m 1s\n",
      "200:\ttest: 0.6933308\tbest: 0.6933308 (200)\ttotal: 2m 42s\tremaining: 2h 5m 12s\n",
      "400:\ttest: 0.6999411\tbest: 0.6999411 (400)\ttotal: 5m 38s\tremaining: 2h 8m 12s\n",
      "600:\ttest: 0.7025878\tbest: 0.7025878 (600)\ttotal: 8m 38s\tremaining: 2h 8m 2s\n",
      "800:\ttest: 0.7042445\tbest: 0.7042445 (800)\ttotal: 11m 40s\tremaining: 2h 6m 52s\n",
      "1000:\ttest: 0.7053089\tbest: 0.7053089 (1000)\ttotal: 14m 42s\tremaining: 2h 4m 50s\n",
      "1200:\ttest: 0.7060570\tbest: 0.7060570 (1200)\ttotal: 17m 42s\tremaining: 2h 2m 24s\n",
      "1400:\ttest: 0.7066492\tbest: 0.7066492 (1400)\ttotal: 20m 45s\tremaining: 2h\n",
      "1600:\ttest: 0.7071566\tbest: 0.7071566 (1600)\ttotal: 23m 48s\tremaining: 1h 57m 27s\n",
      "1800:\ttest: 0.7075513\tbest: 0.7075513 (1800)\ttotal: 26m 46s\tremaining: 1h 54m 28s\n",
      "2000:\ttest: 0.7079042\tbest: 0.7079042 (2000)\ttotal: 29m 43s\tremaining: 1h 51m 22s\n",
      "2200:\ttest: 0.7082021\tbest: 0.7082021 (2200)\ttotal: 32m 39s\tremaining: 1h 48m 18s\n",
      "2400:\ttest: 0.7084565\tbest: 0.7084565 (2399)\ttotal: 35m 35s\tremaining: 1h 45m 14s\n",
      "2600:\ttest: 0.7087789\tbest: 0.7087789 (2600)\ttotal: 38m 32s\tremaining: 1h 42m 13s\n",
      "2800:\ttest: 0.7090028\tbest: 0.7090028 (2800)\ttotal: 41m 30s\tremaining: 1h 39m 16s\n",
      "3000:\ttest: 0.7091935\tbest: 0.7091935 (3000)\ttotal: 44m 28s\tremaining: 1h 36m 18s\n",
      "3200:\ttest: 0.7093907\tbest: 0.7093907 (3200)\ttotal: 47m 26s\tremaining: 1h 33m 22s\n",
      "3400:\ttest: 0.7095656\tbest: 0.7095656 (3400)\ttotal: 50m 26s\tremaining: 1h 30m 26s\n",
      "3600:\ttest: 0.7097856\tbest: 0.7097856 (3600)\ttotal: 53m 24s\tremaining: 1h 27m 29s\n",
      "3800:\ttest: 0.7100000\tbest: 0.7100001 (3798)\ttotal: 56m 23s\tremaining: 1h 24m 33s\n",
      "4000:\ttest: 0.7102277\tbest: 0.7102277 (3999)\ttotal: 59m 23s\tremaining: 1h 21m 37s\n",
      "4200:\ttest: 0.7103771\tbest: 0.7103771 (4200)\ttotal: 1h 2m 23s\tremaining: 1h 18m 42s\n",
      "4400:\ttest: 0.7106317\tbest: 0.7106317 (4400)\ttotal: 1h 5m 21s\tremaining: 1h 15m 43s\n",
      "4600:\ttest: 0.7118477\tbest: 0.7118477 (4600)\ttotal: 1h 8m 21s\tremaining: 1h 12m 47s\n",
      "4800:\ttest: 0.7120758\tbest: 0.7120758 (4800)\ttotal: 1h 11m 27s\tremaining: 1h 9m 56s\n",
      "5000:\ttest: 0.7122295\tbest: 0.7122295 (5000)\ttotal: 1h 14m 28s\tremaining: 1h 7m\n",
      "5200:\ttest: 0.7123363\tbest: 0.7123363 (5200)\ttotal: 1h 17m 31s\tremaining: 1h 4m 4s\n",
      "5400:\ttest: 0.7124405\tbest: 0.7124405 (5400)\ttotal: 1h 20m 34s\tremaining: 1h 1m 8s\n",
      "5600:\ttest: 0.7125629\tbest: 0.7125629 (5600)\ttotal: 1h 23m 37s\tremaining: 58m 12s\n",
      "5800:\ttest: 0.7127676\tbest: 0.7127676 (5800)\ttotal: 1h 26m 35s\tremaining: 55m 12s\n",
      "6000:\ttest: 0.7129307\tbest: 0.7129307 (6000)\ttotal: 1h 29m 38s\tremaining: 52m 15s\n",
      "6200:\ttest: 0.7130923\tbest: 0.7130926 (6199)\ttotal: 1h 32m 41s\tremaining: 49m 18s\n",
      "6400:\ttest: 0.7131589\tbest: 0.7131590 (6399)\ttotal: 1h 35m 45s\tremaining: 46m 21s\n",
      "6600:\ttest: 0.7132650\tbest: 0.7132650 (6600)\ttotal: 1h 38m 46s\tremaining: 43m 22s\n",
      "6800:\ttest: 0.7133823\tbest: 0.7133823 (6800)\ttotal: 1h 41m 49s\tremaining: 40m 24s\n",
      "7000:\ttest: 0.7134582\tbest: 0.7134585 (6999)\ttotal: 1h 44m 52s\tremaining: 37m 26s\n",
      "7200:\ttest: 0.7135121\tbest: 0.7135124 (7197)\ttotal: 1h 47m 54s\tremaining: 34m 27s\n",
      "7400:\ttest: 0.7135692\tbest: 0.7135692 (7400)\ttotal: 1h 50m 59s\tremaining: 31m 28s\n",
      "7600:\ttest: 0.7136266\tbest: 0.7136266 (7600)\ttotal: 1h 54m 1s\tremaining: 28m 29s\n",
      "7800:\ttest: 0.7136793\tbest: 0.7136793 (7800)\ttotal: 1h 57m 6s\tremaining: 25m 30s\n",
      "8000:\ttest: 0.7137361\tbest: 0.7137361 (8000)\ttotal: 2h 10s\tremaining: 22m 30s\n",
      "8200:\ttest: 0.7138366\tbest: 0.7138367 (8199)\ttotal: 2h 3m 15s\tremaining: 19m 31s\n",
      "8400:\ttest: 0.7138809\tbest: 0.7138809 (8400)\ttotal: 2h 6m 20s\tremaining: 16m 31s\n",
      "8600:\ttest: 0.7139351\tbest: 0.7139352 (8599)\ttotal: 2h 9m 24s\tremaining: 13m 31s\n",
      "8800:\ttest: 0.7139883\tbest: 0.7139883 (8800)\ttotal: 2h 12m 28s\tremaining: 10m 31s\n",
      "9000:\ttest: 0.7140313\tbest: 0.7140313 (8999)\ttotal: 2h 15m 32s\tremaining: 7m 30s\n",
      "9200:\ttest: 0.7140901\tbest: 0.7140901 (9200)\ttotal: 2h 18m 36s\tremaining: 4m 30s\n",
      "9400:\ttest: 0.7141345\tbest: 0.7141345 (9400)\ttotal: 2h 21m 40s\tremaining: 1m 29s\n",
      "9499:\ttest: 0.7141617\tbest: 0.7141620 (9498)\ttotal: 2h 23m 11s\tremaining: 0us\n",
      "bestTest = 0.7141620219\n",
      "bestIteration = 9498\n",
      "Shrink model to first 9499 iterations.\n"
     ]
    },
    {
     "name": "stderr",
     "output_type": "stream",
     "text": [
      "Default metric period is 5 because AUC is/are not implemented for GPU\n"
     ]
    },
    {
     "name": "stdout",
     "output_type": "stream",
     "text": [
      "0:\ttest: 0.6565085\tbest: 0.6565085 (0)\ttotal: 906ms\tremaining: 2h 23m 26s\n",
      "200:\ttest: 0.6944013\tbest: 0.6944013 (200)\ttotal: 2m 41s\tremaining: 2h 4m 15s\n",
      "400:\ttest: 0.7010343\tbest: 0.7010343 (400)\ttotal: 5m 38s\tremaining: 2h 8m 9s\n",
      "600:\ttest: 0.7036174\tbest: 0.7036174 (600)\ttotal: 8m 40s\tremaining: 2h 8m 20s\n",
      "800:\ttest: 0.7051319\tbest: 0.7051319 (800)\ttotal: 11m 41s\tremaining: 2h 7m 1s\n",
      "1000:\ttest: 0.7061717\tbest: 0.7061717 (1000)\ttotal: 14m 42s\tremaining: 2h 4m 54s\n",
      "1200:\ttest: 0.7069313\tbest: 0.7069313 (1200)\ttotal: 17m 45s\tremaining: 2h 2m 45s\n",
      "1400:\ttest: 0.7075395\tbest: 0.7075395 (1400)\ttotal: 20m 51s\tremaining: 2h 33s\n",
      "1600:\ttest: 0.7080065\tbest: 0.7080065 (1600)\ttotal: 23m 54s\tremaining: 1h 57m 55s\n",
      "1800:\ttest: 0.7084345\tbest: 0.7084345 (1800)\ttotal: 26m 52s\tremaining: 1h 54m 51s\n",
      "2000:\ttest: 0.7087648\tbest: 0.7087648 (2000)\ttotal: 29m 51s\tremaining: 1h 51m 53s\n",
      "2200:\ttest: 0.7090335\tbest: 0.7090335 (2200)\ttotal: 32m 46s\tremaining: 1h 48m 42s\n",
      "2400:\ttest: 0.7092839\tbest: 0.7092839 (2400)\ttotal: 35m 45s\tremaining: 1h 45m 43s\n",
      "2600:\ttest: 0.7095993\tbest: 0.7095993 (2600)\ttotal: 38m 42s\tremaining: 1h 42m 41s\n",
      "2800:\ttest: 0.7098948\tbest: 0.7098948 (2800)\ttotal: 41m 40s\tremaining: 1h 39m 39s\n",
      "3000:\ttest: 0.7101172\tbest: 0.7101172 (3000)\ttotal: 44m 40s\tremaining: 1h 36m 45s\n",
      "3200:\ttest: 0.7102930\tbest: 0.7102930 (3200)\ttotal: 47m 40s\tremaining: 1h 33m 48s\n",
      "3400:\ttest: 0.7104550\tbest: 0.7104550 (3399)\ttotal: 50m 38s\tremaining: 1h 30m 49s\n",
      "3600:\ttest: 0.7106605\tbest: 0.7106605 (3600)\ttotal: 53m 36s\tremaining: 1h 27m 49s\n",
      "3800:\ttest: 0.7108315\tbest: 0.7108315 (3800)\ttotal: 56m 37s\tremaining: 1h 24m 54s\n",
      "4000:\ttest: 0.7109696\tbest: 0.7109696 (4000)\ttotal: 59m 36s\tremaining: 1h 21m 55s\n",
      "4200:\ttest: 0.7111256\tbest: 0.7111256 (4200)\ttotal: 1h 2m 36s\tremaining: 1h 18m 58s\n",
      "4400:\ttest: 0.7113404\tbest: 0.7113404 (4400)\ttotal: 1h 5m 38s\tremaining: 1h 16m 3s\n",
      "4600:\ttest: 0.7116309\tbest: 0.7116309 (4600)\ttotal: 1h 8m 40s\tremaining: 1h 13m 7s\n",
      "4800:\ttest: 0.7124676\tbest: 0.7124676 (4800)\ttotal: 1h 11m 38s\tremaining: 1h 10m 6s\n",
      "5000:\ttest: 0.7128341\tbest: 0.7128341 (5000)\ttotal: 1h 14m 41s\tremaining: 1h 7m 11s\n",
      "5200:\ttest: 0.7130831\tbest: 0.7130831 (5200)\ttotal: 1h 17m 43s\tremaining: 1h 4m 14s\n",
      "5400:\ttest: 0.7135587\tbest: 0.7135587 (5400)\ttotal: 1h 20m 44s\tremaining: 1h 1m 16s\n",
      "5600:\ttest: 0.7136713\tbest: 0.7136713 (5600)\ttotal: 1h 23m 45s\tremaining: 58m 18s\n",
      "5800:\ttest: 0.7137668\tbest: 0.7137668 (5800)\ttotal: 1h 26m 44s\tremaining: 55m 18s\n",
      "6000:\ttest: 0.7138541\tbest: 0.7138542 (5999)\ttotal: 1h 29m 45s\tremaining: 52m 20s\n",
      "6200:\ttest: 0.7139357\tbest: 0.7139357 (6200)\ttotal: 1h 32m 49s\tremaining: 49m 22s\n",
      "6400:\ttest: 0.7140009\tbest: 0.7140009 (6399)\ttotal: 1h 35m 51s\tremaining: 46m 24s\n",
      "6600:\ttest: 0.7140625\tbest: 0.7140625 (6600)\ttotal: 1h 38m 53s\tremaining: 43m 26s\n",
      "6800:\ttest: 0.7141606\tbest: 0.7141606 (6800)\ttotal: 1h 41m 55s\tremaining: 40m 26s\n",
      "7000:\ttest: 0.7142175\tbest: 0.7142176 (6999)\ttotal: 1h 44m 57s\tremaining: 37m 27s\n",
      "7200:\ttest: 0.7142806\tbest: 0.7142806 (7200)\ttotal: 1h 47m 58s\tremaining: 34m 28s\n",
      "7400:\ttest: 0.7143422\tbest: 0.7143422 (7400)\ttotal: 1h 51m\tremaining: 31m 29s\n",
      "7600:\ttest: 0.7144128\tbest: 0.7144134 (7597)\ttotal: 1h 54m 4s\tremaining: 28m 29s\n",
      "7800:\ttest: 0.7144733\tbest: 0.7144733 (7800)\ttotal: 1h 57m 10s\tremaining: 25m 31s\n",
      "8000:\ttest: 0.7145329\tbest: 0.7145330 (7997)\ttotal: 2h 13s\tremaining: 22m 31s\n",
      "8200:\ttest: 0.7146153\tbest: 0.7146155 (8194)\ttotal: 2h 3m 15s\tremaining: 19m 31s\n",
      "8400:\ttest: 0.7146686\tbest: 0.7146686 (8400)\ttotal: 2h 6m 19s\tremaining: 16m 31s\n",
      "8600:\ttest: 0.7147163\tbest: 0.7147173 (8596)\ttotal: 2h 9m 23s\tremaining: 13m 31s\n",
      "8800:\ttest: 0.7147770\tbest: 0.7147775 (8799)\ttotal: 2h 12m 28s\tremaining: 10m 31s\n",
      "9000:\ttest: 0.7148143\tbest: 0.7148143 (9000)\ttotal: 2h 15m 29s\tremaining: 7m 30s\n",
      "9200:\ttest: 0.7148525\tbest: 0.7148530 (9197)\ttotal: 2h 18m 32s\tremaining: 4m 30s\n",
      "9400:\ttest: 0.7148879\tbest: 0.7148884 (9395)\ttotal: 2h 21m 35s\tremaining: 1m 29s\n",
      "9499:\ttest: 0.7149046\tbest: 0.7149049 (9494)\ttotal: 2h 23m 5s\tremaining: 0us\n",
      "bestTest = 0.7149049044\n",
      "bestIteration = 9494\n",
      "Shrink model to first 9495 iterations.\n"
     ]
    },
    {
     "name": "stderr",
     "output_type": "stream",
     "text": [
      "Default metric period is 5 because AUC is/are not implemented for GPU\n"
     ]
    },
    {
     "name": "stdout",
     "output_type": "stream",
     "text": [
      "0:\ttest: 0.6517151\tbest: 0.6517151 (0)\ttotal: 871ms\tremaining: 2h 17m 52s\n",
      "200:\ttest: 0.6916290\tbest: 0.6916290 (200)\ttotal: 2m 43s\tremaining: 2h 6m\n",
      "400:\ttest: 0.6986840\tbest: 0.6986840 (400)\ttotal: 5m 41s\tremaining: 2h 9m 7s\n",
      "600:\ttest: 0.7012485\tbest: 0.7012485 (600)\ttotal: 8m 39s\tremaining: 2h 8m 5s\n",
      "800:\ttest: 0.7027147\tbest: 0.7027147 (800)\ttotal: 11m 39s\tremaining: 2h 6m 42s\n",
      "1000:\ttest: 0.7036831\tbest: 0.7036831 (1000)\ttotal: 14m 40s\tremaining: 2h 4m 34s\n",
      "1200:\ttest: 0.7043596\tbest: 0.7043596 (1200)\ttotal: 17m 40s\tremaining: 2h 2m 10s\n",
      "1400:\ttest: 0.7049078\tbest: 0.7049078 (1400)\ttotal: 20m 43s\tremaining: 1h 59m 47s\n",
      "1600:\ttest: 0.7054344\tbest: 0.7054344 (1600)\ttotal: 23m 47s\tremaining: 1h 57m 21s\n",
      "1800:\ttest: 0.7058146\tbest: 0.7058146 (1800)\ttotal: 26m 49s\tremaining: 1h 54m 39s\n",
      "2000:\ttest: 0.7061776\tbest: 0.7061776 (2000)\ttotal: 29m 45s\tremaining: 1h 51m 30s\n",
      "2200:\ttest: 0.7064698\tbest: 0.7064698 (2200)\ttotal: 32m 42s\tremaining: 1h 48m 27s\n",
      "2400:\ttest: 0.7067406\tbest: 0.7067406 (2400)\ttotal: 35m 37s\tremaining: 1h 45m 20s\n",
      "2600:\ttest: 0.7069678\tbest: 0.7069678 (2600)\ttotal: 38m 34s\tremaining: 1h 42m 18s\n",
      "2800:\ttest: 0.7071770\tbest: 0.7071770 (2800)\ttotal: 41m 33s\tremaining: 1h 39m 23s\n",
      "3000:\ttest: 0.7073435\tbest: 0.7073435 (3000)\ttotal: 44m 32s\tremaining: 1h 36m 27s\n",
      "3200:\ttest: 0.7074957\tbest: 0.7074957 (3200)\ttotal: 47m 31s\tremaining: 1h 33m 31s\n",
      "3400:\ttest: 0.7076943\tbest: 0.7076943 (3400)\ttotal: 50m 31s\tremaining: 1h 30m 35s\n",
      "3600:\ttest: 0.7078602\tbest: 0.7078602 (3600)\ttotal: 53m 27s\tremaining: 1h 27m 34s\n",
      "3800:\ttest: 0.7079689\tbest: 0.7079689 (3800)\ttotal: 56m 28s\tremaining: 1h 24m 39s\n",
      "4000:\ttest: 0.7080900\tbest: 0.7080900 (3999)\ttotal: 59m 30s\tremaining: 1h 21m 46s\n",
      "4200:\ttest: 0.7082403\tbest: 0.7082406 (4199)\ttotal: 1h 2m 30s\tremaining: 1h 18m 51s\n",
      "4400:\ttest: 0.7083804\tbest: 0.7083804 (4400)\ttotal: 1h 5m 31s\tremaining: 1h 15m 55s\n",
      "4600:\ttest: 0.7085169\tbest: 0.7085171 (4597)\ttotal: 1h 8m 30s\tremaining: 1h 12m 57s\n",
      "4800:\ttest: 0.7086682\tbest: 0.7086686 (4799)\ttotal: 1h 11m 32s\tremaining: 1h 10m 1s\n",
      "5000:\ttest: 0.7087652\tbest: 0.7087652 (5000)\ttotal: 1h 14m 31s\tremaining: 1h 7m 2s\n",
      "5200:\ttest: 0.7099342\tbest: 0.7099342 (5200)\ttotal: 1h 17m 29s\tremaining: 1h 4m 2s\n",
      "5400:\ttest: 0.7101198\tbest: 0.7101198 (5400)\ttotal: 1h 20m 32s\tremaining: 1h 1m 7s\n",
      "5600:\ttest: 0.7102242\tbest: 0.7102242 (5600)\ttotal: 1h 23m 32s\tremaining: 58m 9s\n",
      "5800:\ttest: 0.7103062\tbest: 0.7103062 (5800)\ttotal: 1h 26m 33s\tremaining: 55m 11s\n",
      "6000:\ttest: 0.7103840\tbest: 0.7103840 (6000)\ttotal: 1h 29m 35s\tremaining: 52m 14s\n",
      "6200:\ttest: 0.7104748\tbest: 0.7104748 (6200)\ttotal: 1h 32m 37s\tremaining: 49m 16s\n",
      "6400:\ttest: 0.7105363\tbest: 0.7105363 (6400)\ttotal: 1h 35m 38s\tremaining: 46m 18s\n",
      "6600:\ttest: 0.7105997\tbest: 0.7105997 (6600)\ttotal: 1h 38m 39s\tremaining: 43m 19s\n",
      "6800:\ttest: 0.7106557\tbest: 0.7106564 (6793)\ttotal: 1h 41m 42s\tremaining: 40m 21s\n",
      "7000:\ttest: 0.7107156\tbest: 0.7107156 (7000)\ttotal: 1h 44m 46s\tremaining: 37m 23s\n",
      "7200:\ttest: 0.7107823\tbest: 0.7107832 (7194)\ttotal: 1h 47m 48s\tremaining: 34m 25s\n",
      "7400:\ttest: 0.7108348\tbest: 0.7108348 (7400)\ttotal: 1h 50m 50s\tremaining: 31m 26s\n",
      "7600:\ttest: 0.7108911\tbest: 0.7108912 (7596)\ttotal: 1h 53m 54s\tremaining: 28m 27s\n",
      "7800:\ttest: 0.7109535\tbest: 0.7109548 (7795)\ttotal: 1h 56m 56s\tremaining: 25m 28s\n",
      "8000:\ttest: 0.7109973\tbest: 0.7109973 (8000)\ttotal: 1h 59m 58s\tremaining: 22m 28s\n",
      "8200:\ttest: 0.7110459\tbest: 0.7110459 (8200)\ttotal: 2h 3m 3s\tremaining: 19m 29s\n",
      "8400:\ttest: 0.7110948\tbest: 0.7110948 (8397)\ttotal: 2h 6m 8s\tremaining: 16m 30s\n",
      "8600:\ttest: 0.7111464\tbest: 0.7111464 (8600)\ttotal: 2h 9m 10s\tremaining: 13m 30s\n",
      "8800:\ttest: 0.7112202\tbest: 0.7112202 (8799)\ttotal: 2h 12m 15s\tremaining: 10m 30s\n",
      "9000:\ttest: 0.7112773\tbest: 0.7112775 (8996)\ttotal: 2h 15m 16s\tremaining: 7m 29s\n",
      "9200:\ttest: 0.7113206\tbest: 0.7113208 (9199)\ttotal: 2h 18m 22s\tremaining: 4m 29s\n",
      "9400:\ttest: 0.7113672\tbest: 0.7113672 (9400)\ttotal: 2h 21m 25s\tremaining: 1m 29s\n",
      "9499:\ttest: 0.7113899\tbest: 0.7113899 (9499)\ttotal: 2h 22m 55s\tremaining: 0us\n",
      "bestTest = 0.7113899291\n",
      "bestIteration = 9499\n"
     ]
    },
    {
     "name": "stderr",
     "output_type": "stream",
     "text": [
      "Default metric period is 5 because AUC is/are not implemented for GPU\n"
     ]
    },
    {
     "name": "stdout",
     "output_type": "stream",
     "text": [
      "0:\ttest: 0.6527983\tbest: 0.6527983 (0)\ttotal: 883ms\tremaining: 2h 19m 46s\n",
      "200:\ttest: 0.6927315\tbest: 0.6927315 (200)\ttotal: 2m 41s\tremaining: 2h 4m 37s\n",
      "400:\ttest: 0.6990797\tbest: 0.6990797 (400)\ttotal: 5m 37s\tremaining: 2h 7m 48s\n",
      "600:\ttest: 0.7018290\tbest: 0.7018290 (600)\ttotal: 8m 36s\tremaining: 2h 7m 22s\n",
      "800:\ttest: 0.7034377\tbest: 0.7034377 (800)\ttotal: 11m 37s\tremaining: 2h 6m 16s\n",
      "1000:\ttest: 0.7045208\tbest: 0.7045208 (1000)\ttotal: 14m 36s\tremaining: 2h 3m 58s\n",
      "1200:\ttest: 0.7052795\tbest: 0.7052795 (1200)\ttotal: 17m 38s\tremaining: 2h 1m 56s\n",
      "1400:\ttest: 0.7058744\tbest: 0.7058744 (1400)\ttotal: 20m 40s\tremaining: 1h 59m 32s\n",
      "1600:\ttest: 0.7063351\tbest: 0.7063351 (1600)\ttotal: 23m 44s\tremaining: 1h 57m 7s\n",
      "1800:\ttest: 0.7067254\tbest: 0.7067254 (1800)\ttotal: 26m 45s\tremaining: 1h 54m 22s\n",
      "2000:\ttest: 0.7071101\tbest: 0.7071101 (2000)\ttotal: 29m 41s\tremaining: 1h 51m 17s\n",
      "2200:\ttest: 0.7074274\tbest: 0.7074274 (2200)\ttotal: 32m 38s\tremaining: 1h 48m 15s\n",
      "2400:\ttest: 0.7077290\tbest: 0.7077290 (2400)\ttotal: 35m 37s\tremaining: 1h 45m 19s\n",
      "2600:\ttest: 0.7079584\tbest: 0.7079584 (2600)\ttotal: 38m 33s\tremaining: 1h 42m 16s\n",
      "2800:\ttest: 0.7081730\tbest: 0.7081730 (2800)\ttotal: 41m 31s\tremaining: 1h 39m 17s\n",
      "3000:\ttest: 0.7083839\tbest: 0.7083839 (3000)\ttotal: 44m 29s\tremaining: 1h 36m 20s\n",
      "3200:\ttest: 0.7085952\tbest: 0.7085952 (3200)\ttotal: 47m 27s\tremaining: 1h 33m 23s\n",
      "3400:\ttest: 0.7087612\tbest: 0.7087612 (3400)\ttotal: 50m 26s\tremaining: 1h 30m 27s\n",
      "3600:\ttest: 0.7089603\tbest: 0.7089603 (3599)\ttotal: 53m 24s\tremaining: 1h 27m 29s\n",
      "3800:\ttest: 0.7091769\tbest: 0.7091769 (3800)\ttotal: 56m 23s\tremaining: 1h 24m 32s\n",
      "4000:\ttest: 0.7093472\tbest: 0.7093473 (3999)\ttotal: 59m 22s\tremaining: 1h 21m 36s\n",
      "4200:\ttest: 0.7095203\tbest: 0.7095203 (4200)\ttotal: 1h 2m 22s\tremaining: 1h 18m 40s\n",
      "4400:\ttest: 0.7096586\tbest: 0.7096586 (4400)\ttotal: 1h 5m 22s\tremaining: 1h 15m 44s\n",
      "4600:\ttest: 0.7098095\tbest: 0.7098099 (4598)\ttotal: 1h 8m 22s\tremaining: 1h 12m 48s\n",
      "4800:\ttest: 0.7099310\tbest: 0.7099310 (4800)\ttotal: 1h 11m 23s\tremaining: 1h 9m 52s\n",
      "5000:\ttest: 0.7100587\tbest: 0.7100587 (5000)\ttotal: 1h 14m 25s\tremaining: 1h 6m 57s\n",
      "5200:\ttest: 0.7102349\tbest: 0.7102349 (5200)\ttotal: 1h 17m 25s\tremaining: 1h 3m 59s\n",
      "5400:\ttest: 0.7111327\tbest: 0.7111327 (5400)\ttotal: 1h 20m 26s\tremaining: 1h 1m 3s\n",
      "5600:\ttest: 0.7114925\tbest: 0.7114925 (5600)\ttotal: 1h 23m 26s\tremaining: 58m 5s\n",
      "5800:\ttest: 0.7116191\tbest: 0.7116191 (5800)\ttotal: 1h 26m 26s\tremaining: 55m 6s\n",
      "6000:\ttest: 0.7116884\tbest: 0.7116884 (6000)\ttotal: 1h 29m 28s\tremaining: 52m 9s\n",
      "6200:\ttest: 0.7117779\tbest: 0.7117779 (6200)\ttotal: 1h 32m 28s\tremaining: 49m 11s\n",
      "6400:\ttest: 0.7118699\tbest: 0.7118699 (6400)\ttotal: 1h 35m 32s\tremaining: 46m 15s\n",
      "6600:\ttest: 0.7120152\tbest: 0.7120152 (6600)\ttotal: 1h 38m 35s\tremaining: 43m 18s\n",
      "6800:\ttest: 0.7120914\tbest: 0.7120914 (6800)\ttotal: 1h 41m 36s\tremaining: 40m 19s\n",
      "7000:\ttest: 0.7121939\tbest: 0.7121939 (7000)\ttotal: 1h 44m 37s\tremaining: 37m 20s\n",
      "7200:\ttest: 0.7122419\tbest: 0.7122421 (7188)\ttotal: 1h 47m 37s\tremaining: 34m 21s\n",
      "7400:\ttest: 0.7123000\tbest: 0.7123000 (7400)\ttotal: 1h 50m 36s\tremaining: 31m 22s\n",
      "7600:\ttest: 0.7123583\tbest: 0.7123583 (7600)\ttotal: 1h 53m 38s\tremaining: 28m 23s\n",
      "7800:\ttest: 0.7124203\tbest: 0.7124203 (7800)\ttotal: 1h 56m 38s\tremaining: 25m 24s\n",
      "8000:\ttest: 0.7124890\tbest: 0.7124890 (8000)\ttotal: 1h 59m 42s\tremaining: 22m 25s\n",
      "8200:\ttest: 0.7125477\tbest: 0.7125478 (8198)\ttotal: 2h 2m 46s\tremaining: 19m 26s\n",
      "8400:\ttest: 0.7126138\tbest: 0.7126140 (8398)\ttotal: 2h 5m 46s\tremaining: 16m 27s\n",
      "8600:\ttest: 0.7126683\tbest: 0.7126683 (8600)\ttotal: 2h 8m 49s\tremaining: 13m 27s\n",
      "8800:\ttest: 0.7127002\tbest: 0.7127002 (8800)\ttotal: 2h 11m 53s\tremaining: 10m 28s\n",
      "9000:\ttest: 0.7127607\tbest: 0.7127607 (9000)\ttotal: 2h 14m 59s\tremaining: 7m 29s\n",
      "9200:\ttest: 0.7128028\tbest: 0.7128028 (9200)\ttotal: 2h 18m 1s\tremaining: 4m 29s\n",
      "9400:\ttest: 0.7128496\tbest: 0.7128496 (9400)\ttotal: 2h 21m 5s\tremaining: 1m 29s\n",
      "9499:\ttest: 0.7128690\tbest: 0.7128694 (9496)\ttotal: 2h 22m 35s\tremaining: 0us\n",
      "bestTest = 0.7128694057\n",
      "bestIteration = 9496\n",
      "Shrink model to first 9497 iterations.\n"
     ]
    }
   ],
   "source": [
    "\n",
    "\n",
    "fitted_models = []\n",
    "\n",
    "for idx_train, idx_valid in cv.split(X, y, groups=weeks):\n",
    "    X_train, y_train = X.iloc[idx_train], y.iloc[idx_train]\n",
    "    X_valid, y_valid = X.iloc[idx_valid], y.iloc[idx_valid]\n",
    "\n",
    "    \n",
    "    \n",
    "    \n",
    "    params = {'loss_function':'Logloss',\n",
    "              'eval_metric':'AUC',\n",
    "              'cat_features': cat_features,\n",
    "              'verbose': 200,\n",
    "              #'task_type':\"CPU\",\n",
    "              'task_type':\"GPU\",\n",
    "\n",
    "              'learning_rate': 0.009,\n",
    "\n",
    "               'iterations' : 9500,\n",
    "              'random_seed': 432013,\n",
    "             'depth' : 12,\n",
    "\n",
    "            'early_stopping_rounds': 200\n",
    "              \n",
    "              \n",
    "              \n",
    "             }\n",
    "    cbc_2 = CatBoostClassifier(**params)\n",
    "    cbc_2.fit(X_train, y_train,\n",
    "              eval_set=(X_valid, y_valid),\n",
    "              use_best_model=True,\n",
    "              plot=False,\n",
    "              verbose=200\n",
    "             )\n",
    "\n",
    "    fitted_models.append(cbc_2)\n"
   ]
  },
  {
   "cell_type": "code",
   "execution_count": 69,
   "id": "a5eb7630-bb65-4bb7-88ca-31ed40b440b7",
   "metadata": {},
   "outputs": [
    {
     "data": {
      "text/plain": [
       "{'nan_mode': 'Min',\n",
       " 'gpu_ram_part': 0.95,\n",
       " 'eval_metric': 'AUC',\n",
       " 'combinations_ctr': ['Borders:CtrBorderCount=15:CtrBorderType=Uniform:TargetBorderCount=1:TargetBorderType=MinEntropy:Prior=0/1:Prior=0.5/1:Prior=1/1',\n",
       "  'FeatureFreq:CtrBorderCount=15:CtrBorderType=Median:Prior=0/1'],\n",
       " 'iterations': 9500,\n",
       " 'fold_permutation_block': 64,\n",
       " 'leaf_estimation_method': 'Newton',\n",
       " 'observations_to_bootstrap': 'TestOnly',\n",
       " 'od_pval': 0,\n",
       " 'random_score_type': 'NormalWithModelSizeDecrease',\n",
       " 'counter_calc_method': 'SkipTest',\n",
       " 'grow_policy': 'SymmetricTree',\n",
       " 'penalties_coefficient': 1,\n",
       " 'boosting_type': 'Plain',\n",
       " 'ctr_history_unit': 'Sample',\n",
       " 'feature_border_type': 'GreedyLogSum',\n",
       " 'bayesian_matrix_reg': 0.10000000149011612,\n",
       " 'one_hot_max_size': 2,\n",
       " 'devices': '-1',\n",
       " 'eval_fraction': 0,\n",
       " 'pinned_memory_bytes': '104857600',\n",
       " 'force_unit_auto_pair_weights': False,\n",
       " 'l2_leaf_reg': 3,\n",
       " 'random_strength': 1,\n",
       " 'od_type': 'Iter',\n",
       " 'rsm': 1,\n",
       " 'boost_from_average': False,\n",
       " 'gpu_cat_features_storage': 'GpuRam',\n",
       " 'fold_size_loss_normalization': False,\n",
       " 'max_ctr_complexity': 4,\n",
       " 'model_size_reg': 0.5,\n",
       " 'simple_ctr': ['Borders:CtrBorderCount=15:CtrBorderType=Uniform:TargetBorderCount=1:TargetBorderType=MinEntropy:Prior=0/1:Prior=0.5/1:Prior=1/1',\n",
       "  'FeatureFreq:CtrBorderCount=15:CtrBorderType=MinEntropy:Prior=0/1'],\n",
       " 'pool_metainfo_options': {'tags': {}},\n",
       " 'use_best_model': True,\n",
       " 'meta_l2_frequency': 0,\n",
       " 'od_wait': 200,\n",
       " 'class_names': [0, 1],\n",
       " 'random_seed': 432013,\n",
       " 'depth': 12,\n",
       " 'ctr_target_border_count': 1,\n",
       " 'has_time': False,\n",
       " 'border_count': 128,\n",
       " 'min_fold_size': 100,\n",
       " 'data_partition': 'FeatureParallel',\n",
       " 'bagging_temperature': 1,\n",
       " 'classes_count': 0,\n",
       " 'auto_class_weights': 'None',\n",
       " 'leaf_estimation_backtracking': 'AnyImprovement',\n",
       " 'best_model_min_trees': 1,\n",
       " 'min_data_in_leaf': 1,\n",
       " 'add_ridge_penalty_to_loss_function': False,\n",
       " 'loss_function': 'Logloss',\n",
       " 'learning_rate': 0.008999999612569809,\n",
       " 'meta_l2_exponent': 1,\n",
       " 'score_function': 'Cosine',\n",
       " 'task_type': 'GPU',\n",
       " 'leaf_estimation_iterations': 10,\n",
       " 'bootstrap_type': 'Bayesian',\n",
       " 'max_leaves': 4096,\n",
       " 'permutation_count': 4}"
      ]
     },
     "execution_count": 69,
     "metadata": {},
     "output_type": "execute_result"
    }
   ],
   "source": [
    "cbc_2.get_all_params()\n"
   ]
  },
  {
   "cell_type": "code",
   "execution_count": 70,
   "id": "c6e20f16-3ad5-40c9-8092-3cfa81693285",
   "metadata": {},
   "outputs": [
    {
     "data": {
      "image/png": "[encoded data removed]",
      "text/plain": [
       "<Figure size 1000x800 with 1 Axes>"
      ]
     },
     "metadata": {},
     "output_type": "display_data"
    }
   ],
   "source": [
    "\n",
    "\n",
    "import pandas as pd\n",
    "import matplotlib.pyplot as plt\n",
    "import seaborn as sns\n",
    "\n",
    "\n",
    "def plot_feature_importance(importance,names,model_type):\n",
    "    \n",
    "    #Create arrays from feature importance and feature names\n",
    "    feature_importance = np.array(importance)\n",
    "    feature_names = np.array(names)\n",
    "    \n",
    "    #Create a DataFrame using a Dictionary\n",
    "    data={'feature_names':feature_names,'feature_importance':feature_importance}\n",
    "    fi_df = pd.DataFrame(data)\n",
    "    \n",
    "    #Sort the DataFrame in order decreasing feature importance\n",
    "    fi_df.sort_values(by=['feature_importance'], ascending=False,inplace=True)\n",
    "    \n",
    "    #Define size of bar plot\n",
    "    plt.figure(figsize=(10,8))\n",
    "    #Plot Searborn bar chart\n",
    "    sns.barplot(x=fi_df['feature_importance'], y=fi_df['feature_names'])\n",
    "    #Add chart labels\n",
    "    plt.title(model_type + 'FEATURE IMPORTANCE')\n",
    "    plt.xlabel('FEATURE IMPORTANCE')\n",
    "    plt.ylabel('FEATURE NAMES')\n",
    "\n",
    "#plot the catboost result\n",
    "plot_feature_importance(fitted_models[1].get_feature_importance(),X.columns,'CATBOOST')\n",
    "\n",
    "#cumulative_adv_all_views"
   ]
  },
  {
   "cell_type": "code",
   "execution_count": 72,
   "id": "5bdbdc9b-175d-4403-a271-73504d166673",
   "metadata": {},
   "outputs": [],
   "source": [
    "test_data = test_data.to_pandas()\n",
    "\n"
   ]
  },
  {
   "cell_type": "code",
   "execution_count": 73,
   "id": "9a6165f6-c2e6-46fa-8559-46ae29c0527b",
   "metadata": {},
   "outputs": [
    {
     "data": {
      "text/plain": [
       "Index(['unique_id', 'user_id', 'adv_campaign_id', 'platform_id',\n",
       "       'adv_creative_id', 'event_date', 'banner_code', 'is_main', 'target',\n",
       "       'start_date',\n",
       "       ...\n",
       "       'ctr_category_id_1', 'ctr_category_id_2', 'ctr_category_id_3',\n",
       "       'ctr_category_id_4', 'ctr_category_id_5', 'ctr_category_id_6',\n",
       "       'ctr_category_id_7', 'ctr_category_id_8', 'ctr_category_id_9',\n",
       "       'ctr_category_id_11'],\n",
       "      dtype='object', length=195)"
      ]
     },
     "execution_count": 73,
     "metadata": {},
     "output_type": "execute_result"
    }
   ],
   "source": [
    "test_data.columns"
   ]
  },
  {
   "cell_type": "code",
   "execution_count": 74,
   "id": "8cd855da-1edb-4bb5-abf1-7b4f75b27053",
   "metadata": {},
   "outputs": [],
   "source": [
    "from tqdm import tqdm\n"
   ]
  },
  {
   "cell_type": "code",
   "execution_count": 75,
   "id": "f7668ee0-c2d6-4602-953a-33ddf886ba62",
   "metadata": {},
   "outputs": [
    {
     "name": "stderr",
     "output_type": "stream",
     "text": [
      "100%|██████████| 6/6 [02:51<00:00, 28.64s/it]\n"
     ]
    }
   ],
   "source": [
    "for i in tqdm(range(len(fitted_models))):\n",
    "    \n",
    "    \n",
    "    \n",
    "    \n",
    "    \n",
    "    test_data[f'predict_{i}'] = fitted_models[i].predict_proba(test_data[X.columns])[:,1]"
   ]
  },
  {
   "cell_type": "code",
   "execution_count": 76,
   "id": "ce8b82c5-4d77-44f9-9007-1a6da6527cf5",
   "metadata": {},
   "outputs": [
    {
     "data": {
      "text/html": [
       "<div>\n",
       "<style scoped>\n",
       "    .dataframe tbody tr th:only-of-type {\n",
       "        vertical-align: middle;\n",
       "    }\n",
       "\n",
       "    .dataframe tbody tr th {\n",
       "        vertical-align: top;\n",
       "    }\n",
       "\n",
       "    .dataframe thead th {\n",
       "        text-align: right;\n",
       "    }\n",
       "</style>\n",
       "<table border=\"1\" class=\"dataframe\">\n",
       "  <thead>\n",
       "    <tr style=\"text-align: right;\">\n",
       "      <th></th>\n",
       "      <th>unique_id</th>\n",
       "      <th>user_id</th>\n",
       "      <th>adv_campaign_id</th>\n",
       "      <th>platform_id</th>\n",
       "      <th>adv_creative_id</th>\n",
       "      <th>event_date</th>\n",
       "      <th>banner_code</th>\n",
       "      <th>is_main</th>\n",
       "      <th>target</th>\n",
       "      <th>start_date</th>\n",
       "      <th>...</th>\n",
       "      <th>ctr_category_id_7</th>\n",
       "      <th>ctr_category_id_8</th>\n",
       "      <th>ctr_category_id_9</th>\n",
       "      <th>ctr_category_id_11</th>\n",
       "      <th>predict_0</th>\n",
       "      <th>predict_1</th>\n",
       "      <th>predict_2</th>\n",
       "      <th>predict_3</th>\n",
       "      <th>predict_4</th>\n",
       "      <th>predict_5</th>\n",
       "    </tr>\n",
       "  </thead>\n",
       "  <tbody>\n",
       "    <tr>\n",
       "      <th>0</th>\n",
       "      <td>4045</td>\n",
       "      <td>95</td>\n",
       "      <td>2226</td>\n",
       "      <td>2</td>\n",
       "      <td>1764</td>\n",
       "      <td>2024-09-23</td>\n",
       "      <td>8</td>\n",
       "      <td>True</td>\n",
       "      <td>0</td>\n",
       "      <td>2024-09-17</td>\n",
       "      <td>...</td>\n",
       "      <td>0.0</td>\n",
       "      <td>0.0</td>\n",
       "      <td>0.0</td>\n",
       "      <td>0.0</td>\n",
       "      <td>0.042103</td>\n",
       "      <td>0.046412</td>\n",
       "      <td>0.044234</td>\n",
       "      <td>0.046120</td>\n",
       "      <td>0.043373</td>\n",
       "      <td>0.043645</td>\n",
       "    </tr>\n",
       "    <tr>\n",
       "      <th>1</th>\n",
       "      <td>4046</td>\n",
       "      <td>95</td>\n",
       "      <td>1387</td>\n",
       "      <td>2</td>\n",
       "      <td>3355</td>\n",
       "      <td>2024-09-23</td>\n",
       "      <td>8</td>\n",
       "      <td>True</td>\n",
       "      <td>0</td>\n",
       "      <td>2024-09-03</td>\n",
       "      <td>...</td>\n",
       "      <td>0.0</td>\n",
       "      <td>0.0</td>\n",
       "      <td>0.0</td>\n",
       "      <td>0.0</td>\n",
       "      <td>0.035049</td>\n",
       "      <td>0.034839</td>\n",
       "      <td>0.035837</td>\n",
       "      <td>0.036795</td>\n",
       "      <td>0.034552</td>\n",
       "      <td>0.033927</td>\n",
       "    </tr>\n",
       "    <tr>\n",
       "      <th>2</th>\n",
       "      <td>4047</td>\n",
       "      <td>95</td>\n",
       "      <td>883</td>\n",
       "      <td>2</td>\n",
       "      <td>1850</td>\n",
       "      <td>2024-09-23</td>\n",
       "      <td>8</td>\n",
       "      <td>True</td>\n",
       "      <td>0</td>\n",
       "      <td>2024-09-19</td>\n",
       "      <td>...</td>\n",
       "      <td>0.0</td>\n",
       "      <td>0.0</td>\n",
       "      <td>0.0</td>\n",
       "      <td>0.0</td>\n",
       "      <td>0.048443</td>\n",
       "      <td>0.046596</td>\n",
       "      <td>0.049025</td>\n",
       "      <td>0.050051</td>\n",
       "      <td>0.048961</td>\n",
       "      <td>0.050572</td>\n",
       "    </tr>\n",
       "    <tr>\n",
       "      <th>3</th>\n",
       "      <td>4049</td>\n",
       "      <td>95</td>\n",
       "      <td>3959</td>\n",
       "      <td>2</td>\n",
       "      <td>1388</td>\n",
       "      <td>2024-09-23</td>\n",
       "      <td>8</td>\n",
       "      <td>True</td>\n",
       "      <td>0</td>\n",
       "      <td>2024-09-17</td>\n",
       "      <td>...</td>\n",
       "      <td>0.0</td>\n",
       "      <td>0.0</td>\n",
       "      <td>0.0</td>\n",
       "      <td>0.0</td>\n",
       "      <td>0.053821</td>\n",
       "      <td>0.047505</td>\n",
       "      <td>0.052570</td>\n",
       "      <td>0.053113</td>\n",
       "      <td>0.055529</td>\n",
       "      <td>0.054862</td>\n",
       "    </tr>\n",
       "    <tr>\n",
       "      <th>4</th>\n",
       "      <td>4050</td>\n",
       "      <td>95</td>\n",
       "      <td>619</td>\n",
       "      <td>2</td>\n",
       "      <td>4063</td>\n",
       "      <td>2024-09-23</td>\n",
       "      <td>8</td>\n",
       "      <td>True</td>\n",
       "      <td>0</td>\n",
       "      <td>2024-09-05</td>\n",
       "      <td>...</td>\n",
       "      <td>0.0</td>\n",
       "      <td>0.0</td>\n",
       "      <td>0.0</td>\n",
       "      <td>0.0</td>\n",
       "      <td>0.067037</td>\n",
       "      <td>0.065371</td>\n",
       "      <td>0.067428</td>\n",
       "      <td>0.070578</td>\n",
       "      <td>0.071623</td>\n",
       "      <td>0.069117</td>\n",
       "    </tr>\n",
       "    <tr>\n",
       "      <th>...</th>\n",
       "      <td>...</td>\n",
       "      <td>...</td>\n",
       "      <td>...</td>\n",
       "      <td>...</td>\n",
       "      <td>...</td>\n",
       "      <td>...</td>\n",
       "      <td>...</td>\n",
       "      <td>...</td>\n",
       "      <td>...</td>\n",
       "      <td>...</td>\n",
       "      <td>...</td>\n",
       "      <td>...</td>\n",
       "      <td>...</td>\n",
       "      <td>...</td>\n",
       "      <td>...</td>\n",
       "      <td>...</td>\n",
       "      <td>...</td>\n",
       "      <td>...</td>\n",
       "      <td>...</td>\n",
       "      <td>...</td>\n",
       "      <td>...</td>\n",
       "    </tr>\n",
       "    <tr>\n",
       "      <th>1983282</th>\n",
       "      <td>116724125</td>\n",
       "      <td>3263616</td>\n",
       "      <td>2783</td>\n",
       "      <td>2</td>\n",
       "      <td>276</td>\n",
       "      <td>2024-09-23</td>\n",
       "      <td>8</td>\n",
       "      <td>True</td>\n",
       "      <td>0</td>\n",
       "      <td>2024-09-20</td>\n",
       "      <td>...</td>\n",
       "      <td>0.0</td>\n",
       "      <td>0.0</td>\n",
       "      <td>0.0</td>\n",
       "      <td>0.0</td>\n",
       "      <td>0.049132</td>\n",
       "      <td>0.053189</td>\n",
       "      <td>0.051839</td>\n",
       "      <td>0.052241</td>\n",
       "      <td>0.049030</td>\n",
       "      <td>0.051376</td>\n",
       "    </tr>\n",
       "    <tr>\n",
       "      <th>1983283</th>\n",
       "      <td>116724126</td>\n",
       "      <td>3263616</td>\n",
       "      <td>1452</td>\n",
       "      <td>2</td>\n",
       "      <td>2377</td>\n",
       "      <td>2024-09-23</td>\n",
       "      <td>8</td>\n",
       "      <td>True</td>\n",
       "      <td>0</td>\n",
       "      <td>2024-09-20</td>\n",
       "      <td>...</td>\n",
       "      <td>0.0</td>\n",
       "      <td>0.0</td>\n",
       "      <td>0.0</td>\n",
       "      <td>0.0</td>\n",
       "      <td>0.040801</td>\n",
       "      <td>0.045143</td>\n",
       "      <td>0.041232</td>\n",
       "      <td>0.040538</td>\n",
       "      <td>0.039525</td>\n",
       "      <td>0.039300</td>\n",
       "    </tr>\n",
       "    <tr>\n",
       "      <th>1983284</th>\n",
       "      <td>116724127</td>\n",
       "      <td>3263616</td>\n",
       "      <td>1072</td>\n",
       "      <td>2</td>\n",
       "      <td>1667</td>\n",
       "      <td>2024-09-23</td>\n",
       "      <td>8</td>\n",
       "      <td>True</td>\n",
       "      <td>0</td>\n",
       "      <td>2024-09-17</td>\n",
       "      <td>...</td>\n",
       "      <td>0.0</td>\n",
       "      <td>0.0</td>\n",
       "      <td>0.0</td>\n",
       "      <td>0.0</td>\n",
       "      <td>0.057159</td>\n",
       "      <td>0.059084</td>\n",
       "      <td>0.054193</td>\n",
       "      <td>0.050070</td>\n",
       "      <td>0.053703</td>\n",
       "      <td>0.054520</td>\n",
       "    </tr>\n",
       "    <tr>\n",
       "      <th>1983285</th>\n",
       "      <td>116724128</td>\n",
       "      <td>3263616</td>\n",
       "      <td>228</td>\n",
       "      <td>2</td>\n",
       "      <td>2163</td>\n",
       "      <td>2024-09-23</td>\n",
       "      <td>8</td>\n",
       "      <td>True</td>\n",
       "      <td>0</td>\n",
       "      <td>2024-09-09</td>\n",
       "      <td>...</td>\n",
       "      <td>0.0</td>\n",
       "      <td>0.0</td>\n",
       "      <td>0.0</td>\n",
       "      <td>0.0</td>\n",
       "      <td>0.038498</td>\n",
       "      <td>0.041063</td>\n",
       "      <td>0.040206</td>\n",
       "      <td>0.040489</td>\n",
       "      <td>0.038636</td>\n",
       "      <td>0.038330</td>\n",
       "    </tr>\n",
       "    <tr>\n",
       "      <th>1983286</th>\n",
       "      <td>116724129</td>\n",
       "      <td>3263616</td>\n",
       "      <td>2574</td>\n",
       "      <td>2</td>\n",
       "      <td>1544</td>\n",
       "      <td>2024-09-23</td>\n",
       "      <td>8</td>\n",
       "      <td>True</td>\n",
       "      <td>0</td>\n",
       "      <td>2024-09-20</td>\n",
       "      <td>...</td>\n",
       "      <td>0.0</td>\n",
       "      <td>0.0</td>\n",
       "      <td>0.0</td>\n",
       "      <td>0.0</td>\n",
       "      <td>0.033372</td>\n",
       "      <td>0.033904</td>\n",
       "      <td>0.034051</td>\n",
       "      <td>0.030805</td>\n",
       "      <td>0.032148</td>\n",
       "      <td>0.033062</td>\n",
       "    </tr>\n",
       "  </tbody>\n",
       "</table>\n",
       "<p>1983287 rows × 201 columns</p>\n",
       "</div>"
      ],
      "text/plain": [
       "         unique_id  user_id  adv_campaign_id  platform_id  adv_creative_id  \\\n",
       "0             4045       95             2226            2             1764   \n",
       "1             4046       95             1387            2             3355   \n",
       "2             4047       95              883            2             1850   \n",
       "3             4049       95             3959            2             1388   \n",
       "4             4050       95              619            2             4063   \n",
       "...            ...      ...              ...          ...              ...   \n",
       "1983282  116724125  3263616             2783            2              276   \n",
       "1983283  116724126  3263616             1452            2             2377   \n",
       "1983284  116724127  3263616             1072            2             1667   \n",
       "1983285  116724128  3263616              228            2             2163   \n",
       "1983286  116724129  3263616             2574            2             1544   \n",
       "\n",
       "        event_date  banner_code  is_main  target start_date  ...  \\\n",
       "0       2024-09-23            8     True       0 2024-09-17  ...   \n",
       "1       2024-09-23            8     True       0 2024-09-03  ...   \n",
       "2       2024-09-23            8     True       0 2024-09-19  ...   \n",
       "3       2024-09-23            8     True       0 2024-09-17  ...   \n",
       "4       2024-09-23            8     True       0 2024-09-05  ...   \n",
       "...            ...          ...      ...     ...        ...  ...   \n",
       "1983282 2024-09-23            8     True       0 2024-09-20  ...   \n",
       "1983283 2024-09-23            8     True       0 2024-09-20  ...   \n",
       "1983284 2024-09-23            8     True       0 2024-09-17  ...   \n",
       "1983285 2024-09-23            8     True       0 2024-09-09  ...   \n",
       "1983286 2024-09-23            8     True       0 2024-09-20  ...   \n",
       "\n",
       "        ctr_category_id_7  ctr_category_id_8  ctr_category_id_9  \\\n",
       "0                     0.0                0.0                0.0   \n",
       "1                     0.0                0.0                0.0   \n",
       "2                     0.0                0.0                0.0   \n",
       "3                     0.0                0.0                0.0   \n",
       "4                     0.0                0.0                0.0   \n",
       "...                   ...                ...                ...   \n",
       "1983282               0.0                0.0                0.0   \n",
       "1983283               0.0                0.0                0.0   \n",
       "1983284               0.0                0.0                0.0   \n",
       "1983285               0.0                0.0                0.0   \n",
       "1983286               0.0                0.0                0.0   \n",
       "\n",
       "         ctr_category_id_11  predict_0  predict_1  predict_2  predict_3  \\\n",
       "0                       0.0   0.042103   0.046412   0.044234   0.046120   \n",
       "1                       0.0   0.035049   0.034839   0.035837   0.036795   \n",
       "2                       0.0   0.048443   0.046596   0.049025   0.050051   \n",
       "3                       0.0   0.053821   0.047505   0.052570   0.053113   \n",
       "4                       0.0   0.067037   0.065371   0.067428   0.070578   \n",
       "...                     ...        ...        ...        ...        ...   \n",
       "1983282                 0.0   0.049132   0.053189   0.051839   0.052241   \n",
       "1983283                 0.0   0.040801   0.045143   0.041232   0.040538   \n",
       "1983284                 0.0   0.057159   0.059084   0.054193   0.050070   \n",
       "1983285                 0.0   0.038498   0.041063   0.040206   0.040489   \n",
       "1983286                 0.0   0.033372   0.033904   0.034051   0.030805   \n",
       "\n",
       "         predict_4  predict_5  \n",
       "0         0.043373   0.043645  \n",
       "1         0.034552   0.033927  \n",
       "2         0.048961   0.050572  \n",
       "3         0.055529   0.054862  \n",
       "4         0.071623   0.069117  \n",
       "...            ...        ...  \n",
       "1983282   0.049030   0.051376  \n",
       "1983283   0.039525   0.039300  \n",
       "1983284   0.053703   0.054520  \n",
       "1983285   0.038636   0.038330  \n",
       "1983286   0.032148   0.033062  \n",
       "\n",
       "[1983287 rows x 201 columns]"
      ]
     },
     "execution_count": 76,
     "metadata": {},
     "output_type": "execute_result"
    }
   ],
   "source": [
    "test_data"
   ]
  },
  {
   "cell_type": "code",
   "execution_count": 77,
   "id": "c2446ccc-64c2-48bc-88a7-9e85d0ab2f69",
   "metadata": {},
   "outputs": [],
   "source": [
    "from scipy.stats import rankdata\n"
   ]
  },
  {
   "cell_type": "code",
   "execution_count": 78,
   "id": "16727946-c493-4bee-98c6-f3f0e63eee2e",
   "metadata": {},
   "outputs": [],
   "source": [
    "\n",
    "def ensemble_predictions(predictions, weights, type_=\"linear\"):\n",
    "    assert np.isclose(np.sum(weights), 1.0)\n",
    "    if type_ == \"linear\":\n",
    "        res = np.average(predictions, weights=weights, axis=0)\n",
    "    elif type_ == \"harmonic\":\n",
    "        res = np.average([1 / p for p in predictions], weights=weights, axis=0)\n",
    "        return 1 / res\n",
    "    elif type_ == \"geometric\":\n",
    "        numerator = np.average(\n",
    "            [np.log(p) for p in predictions], weights=weights, axis=0\n",
    "        )\n",
    "        res = np.exp(numerator / sum(weights))\n",
    "        return res\n",
    "    elif type_ == \"rank\":\n",
    "        res = np.average([rankdata(p) for p in predictions], weights=weights, axis=0)\n",
    "        return res / (len(res) + 1)\n",
    "    return res"
   ]
  },
  {
   "cell_type": "code",
   "execution_count": 80,
   "id": "b4d68ea5-f6d5-48e3-b8bd-4e0443cc40fc",
   "metadata": {},
   "outputs": [
    {
     "data": {
      "text/html": [
       "<div>\n",
       "<style scoped>\n",
       "    .dataframe tbody tr th:only-of-type {\n",
       "        vertical-align: middle;\n",
       "    }\n",
       "\n",
       "    .dataframe tbody tr th {\n",
       "        vertical-align: top;\n",
       "    }\n",
       "\n",
       "    .dataframe thead th {\n",
       "        text-align: right;\n",
       "    }\n",
       "</style>\n",
       "<table border=\"1\" class=\"dataframe\">\n",
       "  <thead>\n",
       "    <tr style=\"text-align: right;\">\n",
       "      <th></th>\n",
       "      <th>unique_id</th>\n",
       "      <th>user_id</th>\n",
       "      <th>adv_campaign_id</th>\n",
       "      <th>platform_id</th>\n",
       "      <th>adv_creative_id</th>\n",
       "      <th>event_date</th>\n",
       "      <th>banner_code</th>\n",
       "      <th>is_main</th>\n",
       "      <th>target</th>\n",
       "      <th>start_date</th>\n",
       "      <th>...</th>\n",
       "      <th>ctr_category_id_7</th>\n",
       "      <th>ctr_category_id_8</th>\n",
       "      <th>ctr_category_id_9</th>\n",
       "      <th>ctr_category_id_11</th>\n",
       "      <th>predict_0</th>\n",
       "      <th>predict_1</th>\n",
       "      <th>predict_2</th>\n",
       "      <th>predict_3</th>\n",
       "      <th>predict_4</th>\n",
       "      <th>predict_5</th>\n",
       "    </tr>\n",
       "  </thead>\n",
       "  <tbody>\n",
       "    <tr>\n",
       "      <th>0</th>\n",
       "      <td>4045</td>\n",
       "      <td>95</td>\n",
       "      <td>2226</td>\n",
       "      <td>2</td>\n",
       "      <td>1764</td>\n",
       "      <td>2024-09-23</td>\n",
       "      <td>8</td>\n",
       "      <td>True</td>\n",
       "      <td>0</td>\n",
       "      <td>2024-09-17</td>\n",
       "      <td>...</td>\n",
       "      <td>0.0</td>\n",
       "      <td>0.0</td>\n",
       "      <td>0.0</td>\n",
       "      <td>0.0</td>\n",
       "      <td>0.042103</td>\n",
       "      <td>0.046412</td>\n",
       "      <td>0.044234</td>\n",
       "      <td>0.046120</td>\n",
       "      <td>0.043373</td>\n",
       "      <td>0.043645</td>\n",
       "    </tr>\n",
       "    <tr>\n",
       "      <th>1</th>\n",
       "      <td>4046</td>\n",
       "      <td>95</td>\n",
       "      <td>1387</td>\n",
       "      <td>2</td>\n",
       "      <td>3355</td>\n",
       "      <td>2024-09-23</td>\n",
       "      <td>8</td>\n",
       "      <td>True</td>\n",
       "      <td>0</td>\n",
       "      <td>2024-09-03</td>\n",
       "      <td>...</td>\n",
       "      <td>0.0</td>\n",
       "      <td>0.0</td>\n",
       "      <td>0.0</td>\n",
       "      <td>0.0</td>\n",
       "      <td>0.035049</td>\n",
       "      <td>0.034839</td>\n",
       "      <td>0.035837</td>\n",
       "      <td>0.036795</td>\n",
       "      <td>0.034552</td>\n",
       "      <td>0.033927</td>\n",
       "    </tr>\n",
       "    <tr>\n",
       "      <th>2</th>\n",
       "      <td>4047</td>\n",
       "      <td>95</td>\n",
       "      <td>883</td>\n",
       "      <td>2</td>\n",
       "      <td>1850</td>\n",
       "      <td>2024-09-23</td>\n",
       "      <td>8</td>\n",
       "      <td>True</td>\n",
       "      <td>0</td>\n",
       "      <td>2024-09-19</td>\n",
       "      <td>...</td>\n",
       "      <td>0.0</td>\n",
       "      <td>0.0</td>\n",
       "      <td>0.0</td>\n",
       "      <td>0.0</td>\n",
       "      <td>0.048443</td>\n",
       "      <td>0.046596</td>\n",
       "      <td>0.049025</td>\n",
       "      <td>0.050051</td>\n",
       "      <td>0.048961</td>\n",
       "      <td>0.050572</td>\n",
       "    </tr>\n",
       "    <tr>\n",
       "      <th>3</th>\n",
       "      <td>4049</td>\n",
       "      <td>95</td>\n",
       "      <td>3959</td>\n",
       "      <td>2</td>\n",
       "      <td>1388</td>\n",
       "      <td>2024-09-23</td>\n",
       "      <td>8</td>\n",
       "      <td>True</td>\n",
       "      <td>0</td>\n",
       "      <td>2024-09-17</td>\n",
       "      <td>...</td>\n",
       "      <td>0.0</td>\n",
       "      <td>0.0</td>\n",
       "      <td>0.0</td>\n",
       "      <td>0.0</td>\n",
       "      <td>0.053821</td>\n",
       "      <td>0.047505</td>\n",
       "      <td>0.052570</td>\n",
       "      <td>0.053113</td>\n",
       "      <td>0.055529</td>\n",
       "      <td>0.054862</td>\n",
       "    </tr>\n",
       "    <tr>\n",
       "      <th>4</th>\n",
       "      <td>4050</td>\n",
       "      <td>95</td>\n",
       "      <td>619</td>\n",
       "      <td>2</td>\n",
       "      <td>4063</td>\n",
       "      <td>2024-09-23</td>\n",
       "      <td>8</td>\n",
       "      <td>True</td>\n",
       "      <td>0</td>\n",
       "      <td>2024-09-05</td>\n",
       "      <td>...</td>\n",
       "      <td>0.0</td>\n",
       "      <td>0.0</td>\n",
       "      <td>0.0</td>\n",
       "      <td>0.0</td>\n",
       "      <td>0.067037</td>\n",
       "      <td>0.065371</td>\n",
       "      <td>0.067428</td>\n",
       "      <td>0.070578</td>\n",
       "      <td>0.071623</td>\n",
       "      <td>0.069117</td>\n",
       "    </tr>\n",
       "  </tbody>\n",
       "</table>\n",
       "<p>5 rows × 201 columns</p>\n",
       "</div>"
      ],
      "text/plain": [
       "   unique_id  user_id  adv_campaign_id  platform_id  adv_creative_id  \\\n",
       "0       4045       95             2226            2             1764   \n",
       "1       4046       95             1387            2             3355   \n",
       "2       4047       95              883            2             1850   \n",
       "3       4049       95             3959            2             1388   \n",
       "4       4050       95              619            2             4063   \n",
       "\n",
       "  event_date  banner_code  is_main  target start_date  ... ctr_category_id_7  \\\n",
       "0 2024-09-23            8     True       0 2024-09-17  ...               0.0   \n",
       "1 2024-09-23            8     True       0 2024-09-03  ...               0.0   \n",
       "2 2024-09-23            8     True       0 2024-09-19  ...               0.0   \n",
       "3 2024-09-23            8     True       0 2024-09-17  ...               0.0   \n",
       "4 2024-09-23            8     True       0 2024-09-05  ...               0.0   \n",
       "\n",
       "   ctr_category_id_8  ctr_category_id_9  ctr_category_id_11  predict_0  \\\n",
       "0                0.0                0.0                 0.0   0.042103   \n",
       "1                0.0                0.0                 0.0   0.035049   \n",
       "2                0.0                0.0                 0.0   0.048443   \n",
       "3                0.0                0.0                 0.0   0.053821   \n",
       "4                0.0                0.0                 0.0   0.067037   \n",
       "\n",
       "   predict_1  predict_2  predict_3  predict_4  predict_5  \n",
       "0   0.046412   0.044234   0.046120   0.043373   0.043645  \n",
       "1   0.034839   0.035837   0.036795   0.034552   0.033927  \n",
       "2   0.046596   0.049025   0.050051   0.048961   0.050572  \n",
       "3   0.047505   0.052570   0.053113   0.055529   0.054862  \n",
       "4   0.065371   0.067428   0.070578   0.071623   0.069117  \n",
       "\n",
       "[5 rows x 201 columns]"
      ]
     },
     "execution_count": 80,
     "metadata": {},
     "output_type": "execute_result"
    }
   ],
   "source": [
    "test_data.head()\n",
    "#test_data['predict'] = test_data[['predict_0','predict_1','predict_2']].mean(axis=1)"
   ]
  },
  {
   "cell_type": "code",
   "execution_count": 81,
   "id": "bb804a00-4fa8-4b81-b3e2-8ed5597a6f8f",
   "metadata": {},
   "outputs": [],
   "source": [
    "test_data['predict'] = test_data[['predict_0','predict_1','predict_2', 'predict_3', 'predict_4', 'predict_5']].mean(axis=1)"
   ]
  },
  {
   "cell_type": "code",
   "execution_count": 82,
   "id": "511f32ea-685c-432f-8462-f8c2ba195eec",
   "metadata": {},
   "outputs": [],
   "source": [
    "test_data[[\"user_id\", \"adv_campaign_id\", \"predict\"]].to_csv(\"sample_submission_all_folds_v35.csv\", index=False)"
   ]
  },
  {
   "cell_type": "code",
   "execution_count": null,
   "id": "36d1336e-196c-4847-af57-ad7ea8978996",
   "metadata": {},
   "outputs": [],
   "source": []
  },
  {
   "cell_type": "code",
   "execution_count": null,
   "id": "13679bc5-a2b1-4745-b9d6-6e07104be7f8",
   "metadata": {},
   "outputs": [],
   "source": []
  }
 ],
 "metadata": {
  "kernelspec": {
   "display_name": "Python 3 (ipykernel)",
   "language": "python",
   "name": "python3"
  },
  "language_info": {
   "codemirror_mode": {
    "name": "ipython",
    "version": 3
   },
   "file_extension": ".py",
   "mimetype": "text/x-python",
   "name": "python",
   "nbconvert_exporter": "python",
   "pygments_lexer": "ipython3",
   "version": "3.8.10"
  }
 },
 "nbformat": 4,
 "nbformat_minor": 5
}
